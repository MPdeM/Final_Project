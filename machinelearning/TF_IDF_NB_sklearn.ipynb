{
  "nbformat": 4,
  "nbformat_minor": 0,
  "metadata": {
    "colab": {
      "name": "TF_IDF_ML_Pandas.ipynb",
      "provenance": [],
      "collapsed_sections": [],
      "toc_visible": true,
      "machine_shape": "hm",
      "include_colab_link": true
    },
    "kernel_info": {
      "name": "python3"
    },
    "kernelspec": {
      "display_name": "Python 3",
      "language": "python",
      "name": "python3"
    },
    "language_info": {
      "codemirror_mode": {
        "name": "ipython",
        "version": 3
      },
      "file_extension": ".py",
      "mimetype": "text/x-python",
      "name": "python",
      "nbconvert_exporter": "python",
      "pygments_lexer": "ipython3",
      "version": "3.7.3"
    },
    "latex_envs": {
      "LaTeX_envs_menu_present": true,
      "autoclose": false,
      "autocomplete": true,
      "bibliofile": "biblio.bib",
      "cite_by": "apalike",
      "current_citInitial": 1,
      "eqLabelWithNumbers": true,
      "eqNumInitial": 1,
      "hotkeys": {
        "equation": "Ctrl-E",
        "itemize": "Ctrl-I"
      },
      "labels_anchors": false,
      "latex_user_defs": false,
      "report_style_numbering": false,
      "user_envs_cfg": false
    },
    "nteract": {
      "version": "0.11.2"
    },
    "varInspector": {
      "cols": {
        "lenName": 16,
        "lenType": 16,
        "lenVar": 40
      },
      "kernels_config": {
        "python": {
          "delete_cmd_postfix": "",
          "delete_cmd_prefix": "del ",
          "library": "var_list.py",
          "varRefreshCmd": "print(var_dic_list())"
        },
        "r": {
          "delete_cmd_postfix": ") ",
          "delete_cmd_prefix": "rm(",
          "library": "var_list.r",
          "varRefreshCmd": "cat(var_dic_list()) "
        }
      },
      "types_to_exclude": [
        "module",
        "function",
        "builtin_function_or_method",
        "instance",
        "_Feature"
      ],
      "window_display": false
    }
  },
  "cells": [
    {
      "cell_type": "code",
      "metadata": {
        "id": "GKlUVRfGF4j3",
        "colab_type": "code",
        "colab": {}
      },
      "source": [
        "# Dependencies\n",
        "import pandas as pd \n",
        "import numpy as np\n",
        "\n",
        "from time import time\n",
        "# import torch.nn as nn\n",
        "# import torch\n",
        "from sklearn.metrics import classification_report\n",
        "\n",
        "\n",
        "import warnings\n",
        "warnings.filterwarnings(\"ignore\")"
      ],
      "execution_count": 0,
      "outputs": []
    },
    {
      "cell_type": "code",
      "metadata": {
        "colab_type": "code",
        "id": "qnI0zdY5NYCJ",
        "colab": {}
      },
      "source": [
        "# Read in data from S3 Buckets\n",
        "\n",
        "url = \"https://job-postings-dataviz.s3.amazonaws.com/fake_jobs_clean.csv\"\n",
        "\n",
        "df = pd.read_csv(url, sep=\",\",  encoding = \"UTF-8\" )\n",
        "\n",
        "# Show DataFrame\n",
        "# df.head()"
      ],
      "execution_count": 0,
      "outputs": []
    },
    {
      "cell_type": "code",
      "metadata": {
        "id": "XXYl4Sb5yXEW",
        "colab_type": "code",
        "colab": {}
      },
      "source": [
        "# Focus only on the job description. Create a dataFrame with label \"fraudulent\" and \"description\"\n",
        "descrip_df =df [['fraudulent','description']]\n",
        "descrip_df.head(1)\n"
      ],
      "execution_count": 0,
      "outputs": []
    },
    {
      "cell_type": "code",
      "metadata": {
        "id": "snvFNqMWy_EJ",
        "colab_type": "code",
        "outputId": "1d177529-fd63-445d-d6a8-c0466fc6dc1e",
        "colab": {
          "base_uri": "https://localhost:8080/",
          "height": 51
        }
      },
      "source": [
        "# Drop NaN values but dropping duplicates is qustionable\n",
        "# these duplicates are real data and contribute to both classes\n",
        "print(len(descrip_df))\n",
        "descrip_df= descrip_df.dropna()\n",
        "print(len(descrip_df))\n",
        "# descrip_df = descrip_df.drop_duplicates()\n",
        "# print(descrip_df.count())"
      ],
      "execution_count": 6,
      "outputs": [
        {
          "output_type": "stream",
          "text": [
            "17880\n",
            "17879\n"
          ],
          "name": "stdout"
        }
      ]
    },
    {
      "cell_type": "code",
      "metadata": {
        "id": "y0X2zMMb-nel",
        "colab_type": "code",
        "outputId": "c33762fd-e748-4234-e51c-ea7af0a00e7e",
        "colab": {
          "base_uri": "https://localhost:8080/",
          "height": 51
        }
      },
      "source": [
        "# Make sure number of real vs fraudulent are more balanced\n",
        "df_fake= descrip_df[descrip_df['fraudulent'] == 1] \n",
        "df_real = descrip_df[descrip_df['fraudulent'] == 0] \n",
        "# Count how many Real vs Fraudulent postings\n",
        "n_f=len(df_fake)\n",
        "n_n=len(df_real)\n",
        "print(n_f)\n",
        "print(n_n)\n"
      ],
      "execution_count": 7,
      "outputs": [
        {
          "output_type": "stream",
          "text": [
            "865\n",
            "17014\n"
          ],
          "name": "stdout"
        }
      ]
    },
    {
      "cell_type": "markdown",
      "metadata": {
        "id": "e9xMjAiMXGXN",
        "colab_type": "text"
      },
      "source": [
        "Create a data set with same instances of fake and real : UNDERSTIMATING the real posts"
      ]
    },
    {
      "cell_type": "code",
      "metadata": {
        "id": "jxHYA8O2U3mP",
        "colab_type": "code",
        "outputId": "c3583ee8-7e74-44c9-ead8-eca862e22243",
        "colab": {
          "base_uri": "https://localhost:8080/",
          "height": 51
        }
      },
      "source": [
        "df_new= df_real.sample  ( n_f  , random_state=580)\n",
        "df_unders = df_new.append(df_fake)\n",
        "print(len(df_new))\n",
        "print(len(df_unders))"
      ],
      "execution_count": 8,
      "outputs": [
        {
          "output_type": "stream",
          "text": [
            "865\n",
            "1730\n"
          ],
          "name": "stdout"
        }
      ]
    },
    {
      "cell_type": "code",
      "metadata": {
        "id": "R68dml7fs9QU",
        "colab_type": "code",
        "colab": {}
      },
      "source": [
        "# Shuffle the UNDERSTIMATE dataframe so fraudulent postings more evenly distributed \n",
        "df_underst = df_unders.sample(len(df_unders), random_state=580) \n",
        "# df_underst.head(20)\n",
        "X_u = df_underst.iloc[:,1].values\n",
        "y_u = df_underst.iloc[:,0].values"
      ],
      "execution_count": 0,
      "outputs": []
    },
    {
      "cell_type": "markdown",
      "metadata": {
        "colab_type": "text",
        "id": "od7Qj0sxNYCW"
      },
      "source": [
        "### Feature Transformations (Term Frequency times inverse document frequency)\n"
      ]
    },
    {
      "cell_type": "code",
      "metadata": {
        "colab_type": "code",
        "id": "59dwxefsNYCX",
        "outputId": "12e394cb-bade-4d39-884f-26acc2e7c1bd",
        "colab": {
          "base_uri": "https://localhost:8080/",
          "height": 51
        }
      },
      "source": [
        "# feature extraction using \"bag of words\" model. Create feature vectors. and remove stop words\n",
        "from sklearn import preprocessing\n",
        "from sklearn.feature_extraction.text import CountVectorizer, TfidfTransformer\n",
        "from nltk.corpus import stopwords\n",
        "import nltk\n",
        "nltk.download('stopwords')\n",
        "from nltk.corpus import stopwords\n",
        "STOPWORDS = set(stopwords.words('english'))\n",
        "\n",
        "\n",
        "count_vectorizer = CountVectorizer( stop_words=stopwords.words('english'))\n",
        "tfidfconverter = TfidfTransformer()"
      ],
      "execution_count": 10,
      "outputs": [
        {
          "output_type": "stream",
          "text": [
            "[nltk_data] Downloading package stopwords to /root/nltk_data...\n",
            "[nltk_data]   Package stopwords is already up-to-date!\n"
          ],
          "name": "stdout"
        }
      ]
    },
    {
      "cell_type": "code",
      "metadata": {
        "id": "mm6PeiIraUsz",
        "colab_type": "code",
        "colab": {}
      },
      "source": [
        "#  apply the transformatins\n",
        "X_c = count_vectorizer.fit_transform(X_u)\n",
        "X_tfidf = tfidfconverter.fit_transform(X_c).toarray()\n",
        "\n",
        "# y.shape"
      ],
      "execution_count": 0,
      "outputs": []
    },
    {
      "cell_type": "markdown",
      "metadata": {
        "id": "7i5UO0V7Jjtv",
        "colab_type": "text"
      },
      "source": [
        "Create a Naive Bayes Model "
      ]
    },
    {
      "cell_type": "code",
      "metadata": {
        "id": "t_UhbYQQTQM8",
        "colab_type": "code",
        "colab": {}
      },
      "source": [
        "# Break the data in trainand test datasets\n",
        "from sklearn.model_selection import train_test_split\n",
        "\n",
        "X_train, X_test, y_train, y_test = train_test_split(X_tfidf, y_u , random_state=580)"
      ],
      "execution_count": 0,
      "outputs": []
    },
    {
      "cell_type": "markdown",
      "metadata": {
        "id": "qHJTkq4sRbVd",
        "colab_type": "text"
      },
      "source": [
        "Multinomial Naive Bayes"
      ]
    },
    {
      "cell_type": "code",
      "metadata": {
        "id": "2J8yDALH_iz-",
        "colab_type": "code",
        "colab": {
          "base_uri": "https://localhost:8080/",
          "height": 51
        },
        "outputId": "66e9985f-3d90-4144-ca5b-3b7f16824e8a"
      },
      "source": [
        "# Create a Naive Bayes model and fit training data\n",
        "\n",
        "from sklearn.naive_bayes import MultinomialNB\n",
        "t1_start = time()\n",
        "m_nb = MultinomialNB()\n",
        "predictor = m_nb.fit(X_train,y_train)\n",
        "t1_stop = time() \n",
        "print(\"Elapsed time:\", t1_stop, t1_start)   \n",
        "print(f'Elapsed time during the whole program in seconds:', \n",
        "                                            t1_stop-t1_start)"
      ],
      "execution_count": 13,
      "outputs": [
        {
          "output_type": "stream",
          "text": [
            "Elapsed time: 1586834614.7692697 1586834614.7118258\n",
            "Elapsed time during the whole program in nanoseconds: 0.057443857192993164\n"
          ],
          "name": "stdout"
        }
      ]
    },
    {
      "cell_type": "code",
      "metadata": {
        "colab_type": "code",
        "id": "zeckHhg5NYCv",
        "colab": {}
      },
      "source": [
        "# Tranform the model with the testing data\n",
        "test_results = predictor.predict(X_test)"
      ],
      "execution_count": 0,
      "outputs": []
    },
    {
      "cell_type": "code",
      "metadata": {
        "id": "BgbPjAGq_xqk",
        "colab_type": "code",
        "outputId": "856e3554-78da-4d4b-ef9c-1b9f1c954dfa",
        "colab": {
          "base_uri": "https://localhost:8080/",
          "height": 170
        }
      },
      "source": [
        "from sklearn.metrics import classification_report\n",
        "\n",
        "print(classification_report(y_test, test_results,\n",
        "                            target_names= [\"real\", \"fake\"]))"
      ],
      "execution_count": 15,
      "outputs": [
        {
          "output_type": "stream",
          "text": [
            "              precision    recall  f1-score   support\n",
            "\n",
            "        real       0.87      0.75      0.81       224\n",
            "        fake       0.77      0.88      0.82       209\n",
            "\n",
            "    accuracy                           0.81       433\n",
            "   macro avg       0.82      0.82      0.81       433\n",
            "weighted avg       0.82      0.81      0.81       433\n",
            "\n"
          ],
          "name": "stdout"
        }
      ]
    },
    {
      "cell_type": "markdown",
      "metadata": {
        "id": "W0ioNook_1kU",
        "colab_type": "text"
      },
      "source": [
        "Save the model "
      ]
    },
    {
      "cell_type": "code",
      "metadata": {
        "id": "TxM-59g__x6s",
        "colab_type": "code",
        "outputId": "f418e37a-deb8-468c-fe2d-31c6b49ec0fe",
        "colab": {
          "base_uri": "https://localhost:8080/",
          "height": 54
        }
      },
      "source": [
        "# save the model\n",
        "from google.colab import drive\n",
        "drive.mount('/content/drive')\n"
      ],
      "execution_count": 16,
      "outputs": [
        {
          "output_type": "stream",
          "text": [
            "Drive already mounted at /content/drive; to attempt to forcibly remount, call drive.mount(\"/content/drive\", force_remount=True).\n"
          ],
          "name": "stdout"
        }
      ]
    },
    {
      "cell_type": "code",
      "metadata": {
        "id": "CTukjCmgSF88",
        "colab_type": "code",
        "outputId": "ad3abfcf-333d-4c78-ee44-b638236cbba9",
        "colab": {
          "base_uri": "https://localhost:8080/",
          "height": 34
        }
      },
      "source": [
        "# Save to the model to the local drive\n",
        "\n",
        "from sklearn.externals import joblib\n",
        "\n",
        "filename = '/content/drive/My Drive/MultinomialNB_under.h5'\n",
        "joblib.dump(predictor, filename)"
      ],
      "execution_count": 18,
      "outputs": [
        {
          "output_type": "execute_result",
          "data": {
            "text/plain": [
              "['/content/drive/My Drive/MultinomialNB_under.h5']"
            ]
          },
          "metadata": {
            "tags": []
          },
          "execution_count": 18
        }
      ]
    },
    {
      "cell_type": "code",
      "metadata": {
        "id": "bvQkCr8TEUlm",
        "colab_type": "code",
        "colab": {}
      },
      "source": [
        "# Load the model\n",
        "# loaded_model= joblib.load(filename)\n",
        "# predictionsl = loaded_model.predict(X_test)\n"
      ],
      "execution_count": 0,
      "outputs": []
    },
    {
      "cell_type": "code",
      "metadata": {
        "id": "DAQ-G0HFhLvs",
        "colab_type": "code",
        "outputId": "a1d4ee5e-8559-42db-a4cd-b22d884d4916",
        "colab": {
          "base_uri": "https://localhost:8080/",
          "height": 170
        }
      },
      "source": [
        "\n",
        "\n",
        "print(classification_report(y_test, test_results,\n",
        "                            target_names= [\"real\", \"fake\"]))"
      ],
      "execution_count": 0,
      "outputs": [
        {
          "output_type": "stream",
          "text": [
            "              precision    recall  f1-score   support\n",
            "\n",
            "        real       0.86      0.80      0.83       217\n",
            "        fake       0.81      0.88      0.84       216\n",
            "\n",
            "    accuracy                           0.84       433\n",
            "   macro avg       0.84      0.84      0.84       433\n",
            "weighted avg       0.84      0.84      0.84       433\n",
            "\n"
          ],
          "name": "stdout"
        }
      ]
    },
    {
      "cell_type": "markdown",
      "metadata": {
        "id": "jttf636GMGLP",
        "colab_type": "text"
      },
      "source": [
        "Complement Naive Bayes : suited for imbalanced data sets"
      ]
    },
    {
      "cell_type": "code",
      "metadata": {
        "id": "kb0jZ0ERhX9N",
        "colab_type": "code",
        "colab": {}
      },
      "source": [
        "# Use all data set with both models\n",
        "X= descrip_df.iloc[:,1].values\n",
        "y=descrip_df.iloc[:,0].values\n",
        "# apply the transformations TF-IDF\n",
        "X_c = count_vectorizer.fit_transform(X)\n",
        "X_tfidf = tfidfconverter.fit_transform(X_c).toarray()"
      ],
      "execution_count": 0,
      "outputs": []
    },
    {
      "cell_type": "code",
      "metadata": {
        "colab_type": "code",
        "id": "OVFrWcHINYCz",
        "colab": {}
      },
      "source": [
        "# Break the data in trainand test datasets\n",
        "X_train, X_test, y_train, y_test = train_test_split(X_tfidf, y, random_state=580, stratify=y)\n"
      ],
      "execution_count": 0,
      "outputs": []
    },
    {
      "cell_type": "code",
      "metadata": {
        "colab_type": "code",
        "id": "bOpKc638NlCQ",
        "colab": {
          "base_uri": "https://localhost:8080/",
          "height": 51
        },
        "outputId": "2adb516f-ddb3-4362-ee44-53f740396824"
      },
      "source": [
        "# Create a Naive Bayes model and fit training data\n",
        "from sklearn.naive_bayes import ComplementNB\n",
        "\n",
        "t1_start = time() \n",
        "c_nb = ComplementNB()\n",
        "predictor = c_nb.fit(X_train,y_train)\n",
        "t1_stop = time() \n",
        "print(\"Elapsed time:\", t1_stop, t1_start)   \n",
        "print(f'Elapsed time during the whole program in nanoseconds:', \n",
        "                                            t1_stop-t1_start)"
      ],
      "execution_count": 21,
      "outputs": [
        {
          "output_type": "stream",
          "text": [
            "Elapsed time: 1586834934.675624 1586834932.5519407\n",
            "Elapsed time during the whole program in nanoseconds: 2.123683214187622\n"
          ],
          "name": "stdout"
        }
      ]
    },
    {
      "cell_type": "code",
      "metadata": {
        "id": "9rv2m_WJrqCp",
        "colab_type": "code",
        "colab": {
          "base_uri": "https://localhost:8080/",
          "height": 34
        },
        "outputId": "6101cd60-0779-4609-98ca-8316336acf3a"
      },
      "source": [
        "# save model to local drive\n",
        "filename = '/content/drive/My Drive/ComplementNB_all.h5'\n",
        "joblib.dump(predictor, filename)"
      ],
      "execution_count": 22,
      "outputs": [
        {
          "output_type": "execute_result",
          "data": {
            "text/plain": [
              "['/content/drive/My Drive/ComplementNB_all.h5']"
            ]
          },
          "metadata": {
            "tags": []
          },
          "execution_count": 22
        }
      ]
    },
    {
      "cell_type": "code",
      "metadata": {
        "id": "omULS1mUPiPX",
        "colab_type": "code",
        "outputId": "13c83e32-dbe5-4a3c-dbb9-8d5e0233a3d3",
        "colab": {
          "base_uri": "https://localhost:8080/",
          "height": 170
        }
      },
      "source": [
        "# Tranform the model with the testing data\n",
        "test_results = predictor.predict(X_test)\n",
        "print(classification_report(y_test, test_results,\n",
        "                            target_names= [\"real\", \"fake\"]))"
      ],
      "execution_count": 23,
      "outputs": [
        {
          "output_type": "stream",
          "text": [
            "              precision    recall  f1-score   support\n",
            "\n",
            "        real       0.95      0.99      0.97      4254\n",
            "        fake       0.11      0.01      0.02       216\n",
            "\n",
            "    accuracy                           0.95      4470\n",
            "   macro avg       0.53      0.50      0.50      4470\n",
            "weighted avg       0.91      0.95      0.93      4470\n",
            "\n"
          ],
          "name": "stdout"
        }
      ]
    },
    {
      "cell_type": "code",
      "metadata": {
        "id": "8HH3FYDPQX_v",
        "colab_type": "code",
        "colab": {
          "base_uri": "https://localhost:8080/",
          "height": 51
        },
        "outputId": "789ba3db-ed03-440e-8fc7-331a5579ad5c"
      },
      "source": [
        "t1_start = time() \n",
        "m_nb = MultinomialNB()\n",
        "predictor = m_nb.fit(X_train,y_train)\n",
        "t1_stop = time() \n",
        "print(\"Elapsed time:\", t1_stop, t1_start)   \n",
        "print(f'Elapsed time during the whole program in seconds:', \n",
        "                                            t1_stop-t1_start)"
      ],
      "execution_count": 24,
      "outputs": [
        {
          "output_type": "stream",
          "text": [
            "Elapsed time: 1586834959.4117935 1586834957.1055934\n",
            "Elapsed time during the whole program in nanoseconds: 2.3062000274658203\n"
          ],
          "name": "stdout"
        }
      ]
    },
    {
      "cell_type": "code",
      "metadata": {
        "id": "RTNgYeqcsanf",
        "colab_type": "code",
        "colab": {
          "base_uri": "https://localhost:8080/",
          "height": 34
        },
        "outputId": "916829d3-675b-4f36-cda9-b1bd15660b4d"
      },
      "source": [
        "# save model to local drive\n",
        "filename = '/content/drive/My Drive/Multiomial_all.h5'\n",
        "joblib.dump(predictor, filename)"
      ],
      "execution_count": 25,
      "outputs": [
        {
          "output_type": "execute_result",
          "data": {
            "text/plain": [
              "['/content/drive/My Drive/Multiomial_all.h5']"
            ]
          },
          "metadata": {
            "tags": []
          },
          "execution_count": 25
        }
      ]
    },
    {
      "cell_type": "code",
      "metadata": {
        "id": "ihGPU8lwRPmU",
        "colab_type": "code",
        "outputId": "52f047c8-ef19-4e4c-b153-4aed6e037530",
        "colab": {
          "base_uri": "https://localhost:8080/",
          "height": 170
        }
      },
      "source": [
        "# Tranform the model with the testing data\n",
        "test_results = predictor.predict(X_test)\n",
        "print(classification_report(y_test, test_results,\n",
        "                            target_names= [\"real\", \"fake\"]))"
      ],
      "execution_count": 34,
      "outputs": [
        {
          "output_type": "stream",
          "text": [
            "              precision    recall  f1-score   support\n",
            "\n",
            "        real       0.95      1.00      0.97      4254\n",
            "        fake       0.00      0.00      0.00       216\n",
            "\n",
            "    accuracy                           0.95      4470\n",
            "   macro avg       0.48      0.50      0.49      4470\n",
            "weighted avg       0.91      0.95      0.93      4470\n",
            "\n"
          ],
          "name": "stdout"
        }
      ]
    },
    {
      "cell_type": "markdown",
      "metadata": {
        "id": "TqNIThrqRu1G",
        "colab_type": "text"
      },
      "source": [
        "Deep Learning Model "
      ]
    },
    {
      "cell_type": "code",
      "metadata": {
        "id": "-uatR2CyR_Su",
        "colab_type": "code",
        "colab": {}
      },
      "source": [
        "# Create a StandardScater model and fit it to the training data\n",
        "from sklearn.preprocessing import StandardScaler\n",
        "\n",
        "X_scaler = StandardScaler().fit(X_train)\n",
        "\n",
        "# Transform the training and testing data using the X_scaler\n",
        "\n",
        "X_train_scaled = X_scaler.transform(X_train)\n",
        "X_test_scaled = X_scaler.transform(X_test)\n",
        "\n"
      ],
      "execution_count": 0,
      "outputs": []
    },
    {
      "cell_type": "code",
      "metadata": {
        "id": "hEevwl1EmX4W",
        "colab_type": "code",
        "colab": {}
      },
      "source": [
        "# first, create a normal neural network with 2 inputs, 6 hidden nodes, and 2 outputs\n",
        "\n",
        "from tensorflow.keras.models import Sequential\n",
        "from tensorflow.keras.layers import Dense\n"
      ],
      "execution_count": 0,
      "outputs": []
    }
  ]
}