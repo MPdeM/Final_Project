{
 "cells": [
  {
   "cell_type": "code",
   "execution_count": 0,
   "metadata": {
    "colab": {},
    "colab_type": "code",
    "id": "rUVgL1wNNajZ"
   },
   "outputs": [],
   "source": [
    "# !pip install torch torchvision"
   ]
  },
  {
   "cell_type": "code",
   "execution_count": 0,
   "metadata": {
    "colab": {},
    "colab_type": "code",
    "id": "okxzmQMN7TlY"
   },
   "outputs": [],
   "source": [
    "# !python -m pip install torch"
   ]
  },
  {
   "cell_type": "code",
   "execution_count": 0,
   "metadata": {
    "colab": {},
    "colab_type": "code",
    "id": "GKlUVRfGF4j3"
   },
   "outputs": [],
   "source": [
    "# Dependencies\n",
    "import pandas as pd \n",
    "import numpy as np\n",
    "\n",
    "from time import time\n",
    "# import torch.nn as nn\n",
    "# import torch\n",
    "from sklearn.metrics import classification_report\n",
    "\n",
    "\n",
    "import warnings\n",
    "warnings.filterwarnings(\"ignore\")"
   ]
  },
  {
   "cell_type": "code",
   "execution_count": 0,
   "metadata": {
    "colab": {},
    "colab_type": "code",
    "id": "qnI0zdY5NYCJ"
   },
   "outputs": [],
   "source": [
    "# Read in data from S3 Buckets\n",
    "url = \"https://job-postings-dataviz.s3.amazonaws.com/fake_jobs_clean.csv\"\n",
    "df = pd.read_csv(url, sep=\",\",  encoding = \"UTF-8\" )\n",
    "\n",
    "# Show DataFrame\n",
    "# df.head()"
   ]
  },
  {
   "cell_type": "code",
   "execution_count": 37,
   "metadata": {
    "colab": {
     "base_uri": "https://localhost:8080/",
     "height": 80
    },
    "colab_type": "code",
    "id": "XXYl4Sb5yXEW",
    "outputId": "e48cdc9e-b6ea-4faa-fa5b-e28baac5688f"
   },
   "outputs": [
    {
     "data": {
      "text/html": [
       "<div>\n",
       "<style scoped>\n",
       "    .dataframe tbody tr th:only-of-type {\n",
       "        vertical-align: middle;\n",
       "    }\n",
       "\n",
       "    .dataframe tbody tr th {\n",
       "        vertical-align: top;\n",
       "    }\n",
       "\n",
       "    .dataframe thead th {\n",
       "        text-align: right;\n",
       "    }\n",
       "</style>\n",
       "<table border=\"1\" class=\"dataframe\">\n",
       "  <thead>\n",
       "    <tr style=\"text-align: right;\">\n",
       "      <th></th>\n",
       "      <th>fraudulent</th>\n",
       "      <th>description</th>\n",
       "    </tr>\n",
       "  </thead>\n",
       "  <tbody>\n",
       "    <tr>\n",
       "      <th>0</th>\n",
       "      <td>0</td>\n",
       "      <td>Food52, a fast-growing, James Beard Award-winn...</td>\n",
       "    </tr>\n",
       "  </tbody>\n",
       "</table>\n",
       "</div>"
      ],
      "text/plain": [
       "   fraudulent                                        description\n",
       "0           0  Food52, a fast-growing, James Beard Award-winn..."
      ]
     },
     "execution_count": 37,
     "metadata": {
      "tags": []
     },
     "output_type": "execute_result"
    }
   ],
   "source": [
    "# Focus only on the job description. Create a dataFrame with label \"fraudulent\" and \"description\"\n",
    "descrip_df =df [['fraudulent','description']]\n",
    "descrip_df.head(1)\n"
   ]
  },
  {
   "cell_type": "code",
   "execution_count": 38,
   "metadata": {
    "colab": {
     "base_uri": "https://localhost:8080/",
     "height": 51
    },
    "colab_type": "code",
    "id": "snvFNqMWy_EJ",
    "outputId": "e0391c1e-de89-42c0-93a3-35a86bd60795"
   },
   "outputs": [
    {
     "name": "stdout",
     "output_type": "stream",
     "text": [
      "17880\n",
      "17879\n"
     ]
    }
   ],
   "source": [
    "# Drop NaN values but dropping duplicates is qustionable\n",
    "# these duplicates are real data and contribute to both classes\n",
    "print(len(descrip_df))\n",
    "descrip_df= descrip_df.dropna()\n",
    "print(len(descrip_df))\n",
    "# descrip_df = descrip_df.drop_duplicates()\n",
    "# print(descrip_df.count())"
   ]
  },
  {
   "cell_type": "code",
   "execution_count": 31,
   "metadata": {
    "colab": {
     "base_uri": "https://localhost:8080/",
     "height": 51
    },
    "colab_type": "code",
    "id": "y0X2zMMb-nel",
    "outputId": "d0dbd23f-b746-4bb1-8a66-68f2ad503a56"
   },
   "outputs": [
    {
     "name": "stdout",
     "output_type": "stream",
     "text": [
      "865\n",
      "17014\n"
     ]
    }
   ],
   "source": [
    "# Make sure number of real vs fraudulent are more balanced\n",
    "df_fake= descrip_df[descrip_df['fraudulent'] == 1] \n",
    "df_real = descrip_df[descrip_df['fraudulent'] == 0] \n",
    "# Count how many Real vs Fraudulent postings\n",
    "n_f=len(df_fake)\n",
    "n_n=len(df_real)\n",
    "print(n_f)\n",
    "print(n_n)\n"
   ]
  },
  {
   "cell_type": "markdown",
   "metadata": {
    "colab_type": "text",
    "id": "e9xMjAiMXGXN"
   },
   "source": [
    "Create a data set with same instances of fake and real : UNDERSTIMATING the real posts"
   ]
  },
  {
   "cell_type": "code",
   "execution_count": 32,
   "metadata": {
    "colab": {
     "base_uri": "https://localhost:8080/",
     "height": 51
    },
    "colab_type": "code",
    "id": "jxHYA8O2U3mP",
    "outputId": "c32eee43-4c33-4b30-8bcf-20af37986473"
   },
   "outputs": [
    {
     "name": "stdout",
     "output_type": "stream",
     "text": [
      "865\n",
      "1730\n"
     ]
    }
   ],
   "source": [
    "df_new= df_real.sample  ( n_f  , random_state=580)\n",
    "df_unders = df_new.append(df_fake)\n",
    "print(len(df_new))\n",
    "print(len(df_unders))"
   ]
  },
  {
   "cell_type": "code",
   "execution_count": 0,
   "metadata": {
    "colab": {},
    "colab_type": "code",
    "id": "R68dml7fs9QU"
   },
   "outputs": [],
   "source": [
    "# Shuffle the UNDERSTIMATE dataframe so fraudulent postings more evenly distributed \n",
    "df_underst = df_unders.sample(len(df_unders), random_state=580) \n",
    "# df_underst.head(20)\n",
    "X_u = df_underst.iloc[:,1].values\n",
    "y_u = df_underst.iloc[:,0].values\n",
    "\n"
   ]
  },
  {
   "cell_type": "code",
   "execution_count": 0,
   "metadata": {
    "colab": {},
    "colab_type": "code",
    "id": "37ruI4vlzE4q"
   },
   "outputs": [],
   "source": [
    "# Use all data set with both models\n",
    "X= descrip_df.iloc[:,1].values\n",
    "y=descrip_df.iloc[:,0].values"
   ]
  },
  {
   "cell_type": "markdown",
   "metadata": {
    "colab_type": "text",
    "id": "od7Qj0sxNYCW"
   },
   "source": [
    "### Feature Transformations (Term Frequency times inverse document frequency)\n"
   ]
  },
  {
   "cell_type": "code",
   "execution_count": 40,
   "metadata": {
    "colab": {
     "base_uri": "https://localhost:8080/",
     "height": 51
    },
    "colab_type": "code",
    "id": "59dwxefsNYCX",
    "outputId": "7fea9080-2d2e-40c0-905f-a188da4acc83"
   },
   "outputs": [
    {
     "name": "stdout",
     "output_type": "stream",
     "text": [
      "[nltk_data] Downloading package stopwords to /root/nltk_data...\n",
      "[nltk_data]   Package stopwords is already up-to-date!\n"
     ]
    }
   ],
   "source": [
    "# feature extraction using \"bag of words\" model. Create feature vectors. \n",
    "from sklearn import preprocessing\n",
    "from sklearn.feature_extraction.text import CountVectorizer, TfidfTransformer\n",
    "from nltk.corpus import stopwords\n",
    "import nltk\n",
    "nltk.download('stopwords')\n",
    "from nltk.corpus import stopwords\n",
    "STOPWORDS = set(stopwords.words('english'))\n",
    "\n",
    "\n",
    "count_vectorizer = CountVectorizer( stop_words=stopwords.words('english'))\n",
    "tfidfconverter = TfidfTransformer()"
   ]
  },
  {
   "cell_type": "code",
   "execution_count": 0,
   "metadata": {
    "colab": {},
    "colab_type": "code",
    "id": "mm6PeiIraUsz"
   },
   "outputs": [],
   "source": [
    "#  apply the transformatins\n",
    "X_c = count_vectorizer.fit_transform(X)\n",
    "X_tfidf = tfidfconverter.fit_transform(X_c).toarray()\n",
    "\n",
    "# y.shape"
   ]
  },
  {
   "cell_type": "markdown",
   "metadata": {
    "colab_type": "text",
    "id": "7i5UO0V7Jjtv"
   },
   "source": [
    "Create Deep Learning Model"
   ]
  },
  {
   "cell_type": "code",
   "execution_count": 0,
   "metadata": {
    "colab": {},
    "colab_type": "code",
    "id": "t_UhbYQQTQM8"
   },
   "outputs": [],
   "source": [
    "# Break the data in trainand test datasets\n",
    "from sklearn.model_selection import train_test_split\n",
    "\n",
    "X_train, X_test, y_train, y_test = train_test_split(X_tfidf, y_u , random_state=580)"
   ]
  },
  {
   "cell_type": "markdown",
   "metadata": {
    "colab_type": "text",
    "id": "jttf636GMGLP"
   },
   "source": [
    "scale the data before any neural net"
   ]
  },
  {
   "cell_type": "code",
   "execution_count": 0,
   "metadata": {
    "colab": {},
    "colab_type": "code",
    "id": "l8TEm0gGx68I"
   },
   "outputs": [],
   "source": [
    "# Create a StandardScater model and fit it to the training data\n",
    "from sklearn.preprocessing import StandardScaler, LabelEncoder\n",
    "from tensorflow.keras.utils import to_categorical\n",
    "\n",
    "# Transform the training and testing data using the X_scaler\n",
    "\n",
    "X_scaler = StandardScaler().fit(X_train)\n",
    "X_train_scaled = X_scaler.transform(X_train)\n",
    "X_test_scaled = X_scaler.transform(X_test)"
   ]
  },
  {
   "cell_type": "code",
   "execution_count": 0,
   "metadata": {
    "colab": {},
    "colab_type": "code",
    "id": "kb0jZ0ERhX9N"
   },
   "outputs": [],
   "source": [
    "# Step 1: Label-encode data set\n",
    "label_encoder = LabelEncoder()\n",
    "label_encoder.fit(y_train)\n",
    "encoded_y_train = label_encoder.transform(y_train)\n",
    "encoded_y_test = label_encoder.transform(y_test)\n"
   ]
  },
  {
   "cell_type": "code",
   "execution_count": 0,
   "metadata": {
    "colab": {},
    "colab_type": "code",
    "id": "OVFrWcHINYCz"
   },
   "outputs": [],
   "source": [
    "\n",
    "# Step 2: Convert encoded labels to one-hot-encoding\n",
    "y_train_categorical = to_categorical(encoded_y_train)\n",
    "y_test_categorical = to_categorical(encoded_y_test)"
   ]
  },
  {
   "cell_type": "markdown",
   "metadata": {
    "colab_type": "text",
    "id": "TqNIThrqRu1G"
   },
   "source": [
    "Deep Learning Model "
   ]
  },
  {
   "cell_type": "code",
   "execution_count": 0,
   "metadata": {
    "colab": {},
    "colab_type": "code",
    "id": "-uatR2CyR_Su"
   },
   "outputs": [],
   "source": [
    "# first, create a normal neural network with 2 inputs, 6 hidden nodes, and 2 outputs\n",
    "from tensorflow.keras.models import Sequential\n",
    "from tensorflow.keras.layers import Dense\n",
    "\n",
    "deep_model = Sequential()\n",
    "deep_model.add(Dense(units=100, activation='relu', input_dim=40))\n",
    "deep_model.add(Dense(units=100, activation='relu'))\n",
    "deep_model.add(Dense(units=2, activation='softmax'))"
   ]
  },
  {
   "cell_type": "code",
   "execution_count": 0,
   "metadata": {
    "colab": {},
    "colab_type": "code",
    "id": "hEevwl1EmX4W"
   },
   "outputs": [],
   "source": [
    "# Compile and fit the model\n",
    "deep_model.compile(optimizer='adam',\n",
    "              loss='categorical_crossentropy',\n",
    "              metrics=['accuracy'])\n"
   ]
  },
  {
   "cell_type": "code",
   "execution_count": 0,
   "metadata": {
    "colab": {},
    "colab_type": "code",
    "id": "X-XI61S5wmsw"
   },
   "outputs": [],
   "source": [
    "deep_model.summary()"
   ]
  },
  {
   "cell_type": "code",
   "execution_count": 0,
   "metadata": {
    "colab": {},
    "colab_type": "code",
    "id": "uQMv2O9pzdhi"
   },
   "outputs": [],
   "source": [
    "# train the Model\n",
    "\n",
    "deep_model.fit(\n",
    "    X_train_scaled,\n",
    "    y_train_categorical,\n",
    "    epochs=100,\n",
    "    shuffle=True,\n",
    "    verbose=2\n",
    ")"
   ]
  },
  {
   "cell_type": "code",
   "execution_count": 0,
   "metadata": {
    "colab": {},
    "colab_type": "code",
    "id": "1SYHbJsGzdri"
   },
   "outputs": [],
   "source": []
  },
  {
   "cell_type": "code",
   "execution_count": 0,
   "metadata": {
    "colab": {},
    "colab_type": "code",
    "id": "Eto227TQzd1v"
   },
   "outputs": [],
   "source": []
  },
  {
   "cell_type": "markdown",
   "metadata": {
    "colab_type": "text",
    "id": "i5V9CPBrxEzF"
   },
   "source": [
    "Save the model"
   ]
  },
  {
   "cell_type": "code",
   "execution_count": 0,
   "metadata": {
    "colab": {},
    "colab_type": "code",
    "id": "Q4NDAaX-xCrN"
   },
   "outputs": [],
   "source": [
    "# save the model\n",
    "from google.colab import drive\n",
    "drive.mount('/content/drive')"
   ]
  },
  {
   "cell_type": "code",
   "execution_count": 0,
   "metadata": {
    "colab": {},
    "colab_type": "code",
    "id": "iFlNrvptwm5Y"
   },
   "outputs": [],
   "source": [
    "# Save to the model to the local drive\n",
    "from sklearn.externals import joblib\n",
    "\n",
    "filename = '/content/drive/My Drive/DeepL_all.h5'\n",
    "joblib.dump(predictor, filename)"
   ]
  },
  {
   "cell_type": "code",
   "execution_count": 0,
   "metadata": {
    "colab": {},
    "colab_type": "code",
    "id": "TcIJ1wD0w2QO"
   },
   "outputs": [],
   "source": [
    "# Load the model\n",
    "# loaded_model= joblib.load(filename)\n",
    "# predictionsl = loaded_model.predict(X_test)"
   ]
  },
  {
   "cell_type": "code",
   "execution_count": 0,
   "metadata": {
    "colab": {},
    "colab_type": "code",
    "id": "cqB8Z1BBztGZ"
   },
   "outputs": [],
   "source": []
  }
 ],
 "metadata": {
  "colab": {
   "collapsed_sections": [],
   "machine_shape": "hm",
   "name": "TF_IDF_ML_Pandas.ipynb",
   "provenance": []
  },
  "kernel_info": {
   "name": "python3"
  },
  "kernelspec": {
   "display_name": "Python 3",
   "language": "python",
   "name": "python3"
  },
  "language_info": {
   "codemirror_mode": {
    "name": "ipython",
    "version": 3
   },
   "file_extension": ".py",
   "mimetype": "text/x-python",
   "name": "python",
   "nbconvert_exporter": "python",
   "pygments_lexer": "ipython3",
   "version": "3.7.6"
  },
  "latex_envs": {
   "LaTeX_envs_menu_present": true,
   "autoclose": false,
   "autocomplete": true,
   "bibliofile": "biblio.bib",
   "cite_by": "apalike",
   "current_citInitial": 1,
   "eqLabelWithNumbers": true,
   "eqNumInitial": 1,
   "hotkeys": {
    "equation": "Ctrl-E",
    "itemize": "Ctrl-I"
   },
   "labels_anchors": false,
   "latex_user_defs": false,
   "report_style_numbering": false,
   "user_envs_cfg": false
  },
  "nteract": {
   "version": "0.11.2"
  },
  "varInspector": {
   "cols": {
    "lenName": 16,
    "lenType": 16,
    "lenVar": 40
   },
   "kernels_config": {
    "python": {
     "delete_cmd_postfix": "",
     "delete_cmd_prefix": "del ",
     "library": "var_list.py",
     "varRefreshCmd": "print(var_dic_list())"
    },
    "r": {
     "delete_cmd_postfix": ") ",
     "delete_cmd_prefix": "rm(",
     "library": "var_list.r",
     "varRefreshCmd": "cat(var_dic_list()) "
    }
   },
   "types_to_exclude": [
    "module",
    "function",
    "builtin_function_or_method",
    "instance",
    "_Feature"
   ],
   "window_display": false
  }
 },
 "nbformat": 4,
 "nbformat_minor": 1
}
