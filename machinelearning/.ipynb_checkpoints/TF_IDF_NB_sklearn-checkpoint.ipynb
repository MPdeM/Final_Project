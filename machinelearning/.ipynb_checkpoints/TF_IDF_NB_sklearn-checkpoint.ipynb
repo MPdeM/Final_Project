{
 "cells": [
  {
   "cell_type": "code",
   "execution_count": 6,
   "metadata": {
    "colab": {},
    "colab_type": "code",
    "id": "GKlUVRfGF4j3"
   },
   "outputs": [],
   "source": [
    "# Dependencies\n",
    "import pandas as pd \n",
    "import numpy as np\n",
    "\n",
    "from time import time\n",
    "# import torch.nn as nn\n",
    "# import torch\n",
    "from sklearn.metrics import classification_report\n",
    "\n",
    "\n",
    "import warnings\n",
    "warnings.filterwarnings(\"ignore\")"
   ]
  },
  {
   "cell_type": "code",
   "execution_count": 7,
   "metadata": {
    "colab": {},
    "colab_type": "code",
    "id": "qnI0zdY5NYCJ"
   },
   "outputs": [
    {
     "data": {
      "text/html": [
       "<div>\n",
       "<style scoped>\n",
       "    .dataframe tbody tr th:only-of-type {\n",
       "        vertical-align: middle;\n",
       "    }\n",
       "\n",
       "    .dataframe tbody tr th {\n",
       "        vertical-align: top;\n",
       "    }\n",
       "\n",
       "    .dataframe thead th {\n",
       "        text-align: right;\n",
       "    }\n",
       "</style>\n",
       "<table border=\"1\" class=\"dataframe\">\n",
       "  <thead>\n",
       "    <tr style=\"text-align: right;\">\n",
       "      <th></th>\n",
       "      <th>job_id</th>\n",
       "      <th>city</th>\n",
       "      <th>state/province</th>\n",
       "      <th>country</th>\n",
       "      <th>title</th>\n",
       "      <th>department</th>\n",
       "      <th>industry</th>\n",
       "      <th>function</th>\n",
       "      <th>salary_range</th>\n",
       "      <th>salary_provided</th>\n",
       "      <th>...</th>\n",
       "      <th>requirements</th>\n",
       "      <th>benefits</th>\n",
       "      <th>benefits_provided</th>\n",
       "      <th>telecommuting</th>\n",
       "      <th>has_company_logo</th>\n",
       "      <th>has_questions</th>\n",
       "      <th>employment_type</th>\n",
       "      <th>required_experience</th>\n",
       "      <th>required_education</th>\n",
       "      <th>fraudulent</th>\n",
       "    </tr>\n",
       "  </thead>\n",
       "  <tbody>\n",
       "    <tr>\n",
       "      <th>0</th>\n",
       "      <td>1</td>\n",
       "      <td>New York</td>\n",
       "      <td>NY</td>\n",
       "      <td>US</td>\n",
       "      <td>Marketing Intern</td>\n",
       "      <td>Marketing</td>\n",
       "      <td>NaN</td>\n",
       "      <td>Marketing</td>\n",
       "      <td>NaN</td>\n",
       "      <td>0</td>\n",
       "      <td>...</td>\n",
       "      <td>Experience with content management systems a m...</td>\n",
       "      <td>NaN</td>\n",
       "      <td>0</td>\n",
       "      <td>0</td>\n",
       "      <td>1</td>\n",
       "      <td>0</td>\n",
       "      <td>Other</td>\n",
       "      <td>Internship</td>\n",
       "      <td>NaN</td>\n",
       "      <td>0</td>\n",
       "    </tr>\n",
       "    <tr>\n",
       "      <th>1</th>\n",
       "      <td>2</td>\n",
       "      <td>Auckland</td>\n",
       "      <td></td>\n",
       "      <td>NZ</td>\n",
       "      <td>Customer Service - Cloud Video Production</td>\n",
       "      <td>Success</td>\n",
       "      <td>Marketing and Advertising</td>\n",
       "      <td>Customer Service</td>\n",
       "      <td>NaN</td>\n",
       "      <td>0</td>\n",
       "      <td>...</td>\n",
       "      <td>What we expect from you:Your key responsibilit...</td>\n",
       "      <td>What you will get from usThrough being part of...</td>\n",
       "      <td>1</td>\n",
       "      <td>0</td>\n",
       "      <td>1</td>\n",
       "      <td>0</td>\n",
       "      <td>Full-time</td>\n",
       "      <td>Not Applicable</td>\n",
       "      <td>NaN</td>\n",
       "      <td>0</td>\n",
       "    </tr>\n",
       "    <tr>\n",
       "      <th>2</th>\n",
       "      <td>3</td>\n",
       "      <td>Wever</td>\n",
       "      <td>IA</td>\n",
       "      <td>US</td>\n",
       "      <td>Commissioning Machinery Assistant (CMA)</td>\n",
       "      <td>NaN</td>\n",
       "      <td>NaN</td>\n",
       "      <td>NaN</td>\n",
       "      <td>NaN</td>\n",
       "      <td>0</td>\n",
       "      <td>...</td>\n",
       "      <td>Implement pre-commissioning and commissioning ...</td>\n",
       "      <td>NaN</td>\n",
       "      <td>0</td>\n",
       "      <td>0</td>\n",
       "      <td>1</td>\n",
       "      <td>0</td>\n",
       "      <td>NaN</td>\n",
       "      <td>NaN</td>\n",
       "      <td>NaN</td>\n",
       "      <td>0</td>\n",
       "    </tr>\n",
       "    <tr>\n",
       "      <th>3</th>\n",
       "      <td>4</td>\n",
       "      <td>Washington</td>\n",
       "      <td>DC</td>\n",
       "      <td>US</td>\n",
       "      <td>Account Executive - Washington DC</td>\n",
       "      <td>Sales</td>\n",
       "      <td>Computer Software</td>\n",
       "      <td>Sales</td>\n",
       "      <td>NaN</td>\n",
       "      <td>0</td>\n",
       "      <td>...</td>\n",
       "      <td>EDUCATION: Bachelor’s or Master’s in GIS, busi...</td>\n",
       "      <td>Our culture is anything but corporate—we have ...</td>\n",
       "      <td>1</td>\n",
       "      <td>0</td>\n",
       "      <td>1</td>\n",
       "      <td>0</td>\n",
       "      <td>Full-time</td>\n",
       "      <td>Mid-Senior level</td>\n",
       "      <td>Bachelor's Degree</td>\n",
       "      <td>0</td>\n",
       "    </tr>\n",
       "    <tr>\n",
       "      <th>4</th>\n",
       "      <td>5</td>\n",
       "      <td>Fort Worth</td>\n",
       "      <td>FL</td>\n",
       "      <td>US</td>\n",
       "      <td>Bill Review Manager</td>\n",
       "      <td>NaN</td>\n",
       "      <td>Hospital &amp; Health Care</td>\n",
       "      <td>Health Care Provider</td>\n",
       "      <td>NaN</td>\n",
       "      <td>0</td>\n",
       "      <td>...</td>\n",
       "      <td>QUALIFICATIONS:RN license in the State of Texa...</td>\n",
       "      <td>Full Benefits Offered</td>\n",
       "      <td>1</td>\n",
       "      <td>0</td>\n",
       "      <td>1</td>\n",
       "      <td>1</td>\n",
       "      <td>Full-time</td>\n",
       "      <td>Mid-Senior level</td>\n",
       "      <td>Bachelor's Degree</td>\n",
       "      <td>0</td>\n",
       "    </tr>\n",
       "  </tbody>\n",
       "</table>\n",
       "<p>5 rows × 22 columns</p>\n",
       "</div>"
      ],
      "text/plain": [
       "   job_id         city state/province country  \\\n",
       "0       1     New York             NY      US   \n",
       "1       2     Auckland                     NZ   \n",
       "2       3        Wever             IA      US   \n",
       "3       4   Washington             DC      US   \n",
       "4       5   Fort Worth             FL      US   \n",
       "\n",
       "                                       title department  \\\n",
       "0                           Marketing Intern  Marketing   \n",
       "1  Customer Service - Cloud Video Production    Success   \n",
       "2    Commissioning Machinery Assistant (CMA)        NaN   \n",
       "3          Account Executive - Washington DC      Sales   \n",
       "4                        Bill Review Manager        NaN   \n",
       "\n",
       "                    industry              function salary_range  \\\n",
       "0                        NaN             Marketing          NaN   \n",
       "1  Marketing and Advertising      Customer Service          NaN   \n",
       "2                        NaN                   NaN          NaN   \n",
       "3          Computer Software                 Sales          NaN   \n",
       "4     Hospital & Health Care  Health Care Provider          NaN   \n",
       "\n",
       "   salary_provided  ...                                       requirements  \\\n",
       "0                0  ...  Experience with content management systems a m...   \n",
       "1                0  ...  What we expect from you:Your key responsibilit...   \n",
       "2                0  ...  Implement pre-commissioning and commissioning ...   \n",
       "3                0  ...  EDUCATION: Bachelor’s or Master’s in GIS, busi...   \n",
       "4                0  ...  QUALIFICATIONS:RN license in the State of Texa...   \n",
       "\n",
       "                                            benefits benefits_provided  \\\n",
       "0                                                NaN                 0   \n",
       "1  What you will get from usThrough being part of...                 1   \n",
       "2                                                NaN                 0   \n",
       "3  Our culture is anything but corporate—we have ...                 1   \n",
       "4                              Full Benefits Offered                 1   \n",
       "\n",
       "  telecommuting  has_company_logo  has_questions  employment_type  \\\n",
       "0             0                 1              0            Other   \n",
       "1             0                 1              0        Full-time   \n",
       "2             0                 1              0              NaN   \n",
       "3             0                 1              0        Full-time   \n",
       "4             0                 1              1        Full-time   \n",
       "\n",
       "   required_experience required_education fraudulent  \n",
       "0           Internship                NaN          0  \n",
       "1       Not Applicable                NaN          0  \n",
       "2                  NaN                NaN          0  \n",
       "3     Mid-Senior level  Bachelor's Degree          0  \n",
       "4     Mid-Senior level  Bachelor's Degree          0  \n",
       "\n",
       "[5 rows x 22 columns]"
      ]
     },
     "execution_count": 7,
     "metadata": {},
     "output_type": "execute_result"
    }
   ],
   "source": [
    "# Read in data from S3 Buckets\n",
    "\n",
    "# url = \"https://job-postings-dataviz.s3.amazonaws.com/fake_jobs_clean.csv\"\n",
    "# df = pd.read_csv(url, sep=\",\",  encoding = \"UTF-8\" )\n",
    "\n",
    "df = pd.read_csv(\"../assets/data/fake_jobs_clean.csv\")\n",
    "# Show DataFrame\n",
    "df.head(5)"
   ]
  },
  {
   "cell_type": "code",
   "execution_count": 8,
   "metadata": {
    "colab": {},
    "colab_type": "code",
    "id": "XXYl4Sb5yXEW"
   },
   "outputs": [
    {
     "data": {
      "text/html": [
       "<div>\n",
       "<style scoped>\n",
       "    .dataframe tbody tr th:only-of-type {\n",
       "        vertical-align: middle;\n",
       "    }\n",
       "\n",
       "    .dataframe tbody tr th {\n",
       "        vertical-align: top;\n",
       "    }\n",
       "\n",
       "    .dataframe thead th {\n",
       "        text-align: right;\n",
       "    }\n",
       "</style>\n",
       "<table border=\"1\" class=\"dataframe\">\n",
       "  <thead>\n",
       "    <tr style=\"text-align: right;\">\n",
       "      <th></th>\n",
       "      <th>fraudulent</th>\n",
       "      <th>description</th>\n",
       "    </tr>\n",
       "  </thead>\n",
       "  <tbody>\n",
       "    <tr>\n",
       "      <th>0</th>\n",
       "      <td>0</td>\n",
       "      <td>Food52, a fast-growing, James Beard Award-winn...</td>\n",
       "    </tr>\n",
       "  </tbody>\n",
       "</table>\n",
       "</div>"
      ],
      "text/plain": [
       "   fraudulent                                        description\n",
       "0           0  Food52, a fast-growing, James Beard Award-winn..."
      ]
     },
     "execution_count": 8,
     "metadata": {},
     "output_type": "execute_result"
    }
   ],
   "source": [
    "# Focus only on the job description. Create a dataFrame with label \"fraudulent\" and \"description\"\n",
    "descrip_df =df [['fraudulent','description']]\n",
    "descrip_df.head(1)\n"
   ]
  },
  {
   "cell_type": "code",
   "execution_count": 9,
   "metadata": {
    "colab": {
     "base_uri": "https://localhost:8080/",
     "height": 51
    },
    "colab_type": "code",
    "id": "snvFNqMWy_EJ",
    "outputId": "1d177529-fd63-445d-d6a8-c0466fc6dc1e"
   },
   "outputs": [
    {
     "name": "stdout",
     "output_type": "stream",
     "text": [
      "17880\n",
      "17879\n"
     ]
    }
   ],
   "source": [
    "# Drop NaN values but dropping duplicates is qustionable\n",
    "# these duplicates are real data and contribute to both classes\n",
    "print(len(descrip_df))\n",
    "descrip_df= descrip_df.dropna()\n",
    "print(len(descrip_df))\n",
    "# descrip_df = descrip_df.drop_duplicates()\n",
    "# print(descrip_df.count())"
   ]
  },
  {
   "cell_type": "code",
   "execution_count": 10,
   "metadata": {
    "colab": {
     "base_uri": "https://localhost:8080/",
     "height": 51
    },
    "colab_type": "code",
    "id": "y0X2zMMb-nel",
    "outputId": "c33762fd-e748-4234-e51c-ea7af0a00e7e"
   },
   "outputs": [
    {
     "name": "stdout",
     "output_type": "stream",
     "text": [
      "865\n",
      "17014\n"
     ]
    }
   ],
   "source": [
    "# Make sure number of real vs fraudulent are more balanced\n",
    "df_fake= descrip_df[descrip_df['fraudulent'] == 1] \n",
    "df_real = descrip_df[descrip_df['fraudulent'] == 0] \n",
    "# Count how many Real vs Fraudulent postings\n",
    "n_f=len(df_fake)\n",
    "n_n=len(df_real)\n",
    "print(n_f)\n",
    "print(n_n)\n"
   ]
  },
  {
   "cell_type": "markdown",
   "metadata": {
    "colab_type": "text",
    "id": "e9xMjAiMXGXN"
   },
   "source": [
    "Create a data set with same instances of fake and real : UNDERSTIMATING the real posts"
   ]
  },
  {
   "cell_type": "code",
   "execution_count": 11,
   "metadata": {
    "colab": {
     "base_uri": "https://localhost:8080/",
     "height": 51
    },
    "colab_type": "code",
    "id": "jxHYA8O2U3mP",
    "outputId": "c3583ee8-7e74-44c9-ead8-eca862e22243"
   },
   "outputs": [
    {
     "name": "stdout",
     "output_type": "stream",
     "text": [
      "865\n",
      "1730\n"
     ]
    }
   ],
   "source": [
    "df_new= df_real.sample  ( n_f  , random_state=580)\n",
    "df_unders = df_new.append(df_fake)\n",
    "print(len(df_new))\n",
    "print(len(df_unders))"
   ]
  },
  {
   "cell_type": "code",
   "execution_count": 12,
   "metadata": {
    "colab": {},
    "colab_type": "code",
    "id": "R68dml7fs9QU"
   },
   "outputs": [],
   "source": [
    "# Shuffle the UNDERSTIMATE dataframe so fraudulent postings more evenly distributed \n",
    "df_underst = df_unders.sample(len(df_unders), random_state=580) \n",
    "# df_underst.head(20)\n",
    "X_u = df_underst.iloc[:,1].values\n",
    "y_u = df_underst.iloc[:,0].values"
   ]
  },
  {
   "cell_type": "markdown",
   "metadata": {
    "colab_type": "text",
    "id": "od7Qj0sxNYCW"
   },
   "source": [
    "### Feature Transformations (Term Frequency times inverse document frequency)\n"
   ]
  },
  {
   "cell_type": "code",
   "execution_count": 14,
   "metadata": {
    "colab": {
     "base_uri": "https://localhost:8080/",
     "height": 51
    },
    "colab_type": "code",
    "id": "59dwxefsNYCX",
    "outputId": "12e394cb-bade-4d39-884f-26acc2e7c1bd"
   },
   "outputs": [
    {
     "name": "stderr",
     "output_type": "stream",
     "text": [
      "[nltk_data] Downloading package stopwords to\n",
      "[nltk_data]     /Users/marina/nltk_data...\n",
      "[nltk_data]   Package stopwords is already up-to-date!\n"
     ]
    }
   ],
   "source": [
    "# feature extraction using \"bag of words\" model. Create feature vectors and remove stop words\n",
    "from sklearn import preprocessing\n",
    "from sklearn.feature_extraction.text import CountVectorizer, TfidfTransformer\n",
    "from nltk.corpus import stopwords\n",
    "import nltk\n",
    "nltk.download('stopwords')\n",
    "from nltk.corpus import stopwords\n",
    "STOPWORDS = set(stopwords.words('english'))\n",
    "\n",
    "\n",
    "count_vectorizer = CountVectorizer( stop_words=stopwords.words('english'))\n",
    "tfidfconverter = TfidfTransformer()"
   ]
  },
  {
   "cell_type": "code",
   "execution_count": 15,
   "metadata": {
    "colab": {},
    "colab_type": "code",
    "id": "mm6PeiIraUsz"
   },
   "outputs": [],
   "source": [
    "#  apply the transformatins\n",
    "X_c = count_vectorizer.fit_transform(X_u)\n",
    "X_tfidf = tfidfconverter.fit_transform(X_c).toarray()\n",
    "\n",
    "# y.shape"
   ]
  },
  {
   "cell_type": "markdown",
   "metadata": {
    "colab_type": "text",
    "id": "7i5UO0V7Jjtv"
   },
   "source": [
    "Create a Naive Bayes Model "
   ]
  },
  {
   "cell_type": "code",
   "execution_count": 16,
   "metadata": {
    "colab": {},
    "colab_type": "code",
    "id": "t_UhbYQQTQM8"
   },
   "outputs": [],
   "source": [
    "# Break the data in trainand test datasets\n",
    "from sklearn.model_selection import train_test_split\n",
    "\n",
    "X_train, X_test, y_train, y_test = train_test_split(X_tfidf, y_u , random_state=580)"
   ]
  },
  {
   "cell_type": "markdown",
   "metadata": {
    "colab_type": "text",
    "id": "qHJTkq4sRbVd"
   },
   "source": [
    "Multinomial Naive Bayes"
   ]
  },
  {
   "cell_type": "code",
   "execution_count": 17,
   "metadata": {
    "colab": {
     "base_uri": "https://localhost:8080/",
     "height": 51
    },
    "colab_type": "code",
    "id": "2J8yDALH_iz-",
    "outputId": "66e9985f-3d90-4144-ca5b-3b7f16824e8a"
   },
   "outputs": [
    {
     "name": "stdout",
     "output_type": "stream",
     "text": [
      "Elapsed time: 1615924916.3044 1615924916.25035\n",
      "Elapsed time during the whole program in seconds: 0.05404996871948242\n"
     ]
    }
   ],
   "source": [
    "# Create a Naive Bayes model and fit training data\n",
    "\n",
    "from sklearn.naive_bayes import MultinomialNB\n",
    "\n",
    "t1_start = time()\n",
    "m_nb = MultinomialNB()\n",
    "predictor = m_nb.fit(X_train,y_train)\n",
    "t1_stop = time() \n",
    "\n",
    "print(\"Elapsed time:\", t1_stop, t1_start)   \n",
    "print(f'Elapsed time during the whole program in seconds:', \n",
    "                                            t1_stop-t1_start)"
   ]
  },
  {
   "cell_type": "code",
   "execution_count": 18,
   "metadata": {
    "colab": {},
    "colab_type": "code",
    "id": "zeckHhg5NYCv"
   },
   "outputs": [],
   "source": [
    "# Tranform the model with the testing data\n",
    "test_results = predictor.predict(X_test)"
   ]
  },
  {
   "cell_type": "code",
   "execution_count": 19,
   "metadata": {
    "colab": {
     "base_uri": "https://localhost:8080/",
     "height": 170
    },
    "colab_type": "code",
    "id": "BgbPjAGq_xqk",
    "outputId": "856e3554-78da-4d4b-ef9c-1b9f1c954dfa"
   },
   "outputs": [
    {
     "name": "stdout",
     "output_type": "stream",
     "text": [
      "              precision    recall  f1-score   support\n",
      "\n",
      "        real       0.87      0.75      0.81       224\n",
      "        fake       0.77      0.88      0.82       209\n",
      "\n",
      "    accuracy                           0.81       433\n",
      "   macro avg       0.82      0.82      0.81       433\n",
      "weighted avg       0.82      0.81      0.81       433\n",
      "\n"
     ]
    }
   ],
   "source": [
    "from sklearn.metrics import classification_report\n",
    "\n",
    "print(classification_report(y_test, test_results,\n",
    "                            target_names= [\"real\", \"fake\"]))"
   ]
  },
  {
   "cell_type": "markdown",
   "metadata": {
    "colab_type": "text",
    "id": "W0ioNook_1kU"
   },
   "source": [
    "Save the model "
   ]
  },
  {
   "cell_type": "code",
   "execution_count": 16,
   "metadata": {
    "colab": {
     "base_uri": "https://localhost:8080/",
     "height": 54
    },
    "colab_type": "code",
    "id": "TxM-59g__x6s",
    "outputId": "f418e37a-deb8-468c-fe2d-31c6b49ec0fe"
   },
   "outputs": [
    {
     "name": "stdout",
     "output_type": "stream",
     "text": [
      "Drive already mounted at /content/drive; to attempt to forcibly remount, call drive.mount(\"/content/drive\", force_remount=True).\n"
     ]
    }
   ],
   "source": [
    "# save the model\n",
    "from google.colab import drive\n",
    "drive.mount('/content/drive')\n"
   ]
  },
  {
   "cell_type": "code",
   "execution_count": 18,
   "metadata": {
    "colab": {
     "base_uri": "https://localhost:8080/",
     "height": 34
    },
    "colab_type": "code",
    "id": "CTukjCmgSF88",
    "outputId": "ad3abfcf-333d-4c78-ee44-b638236cbba9"
   },
   "outputs": [
    {
     "data": {
      "text/plain": [
       "['/content/drive/My Drive/MultinomialNB_under.h5']"
      ]
     },
     "execution_count": 18,
     "metadata": {
      "tags": []
     },
     "output_type": "execute_result"
    }
   ],
   "source": [
    "# Save to the model to the local drive\n",
    "\n",
    "from sklearn.externals import joblib\n",
    "\n",
    "filename = '/content/drive/My Drive/MultinomialNB_under.h5'\n",
    "joblib.dump(predictor, filename)"
   ]
  },
  {
   "cell_type": "code",
   "execution_count": 0,
   "metadata": {
    "colab": {},
    "colab_type": "code",
    "id": "bvQkCr8TEUlm"
   },
   "outputs": [],
   "source": [
    "# Load the model\n",
    "# loaded_model= joblib.load(filename)\n",
    "# predictionsl = loaded_model.predict(X_test)\n"
   ]
  },
  {
   "cell_type": "code",
   "execution_count": 20,
   "metadata": {
    "colab": {
     "base_uri": "https://localhost:8080/",
     "height": 170
    },
    "colab_type": "code",
    "id": "DAQ-G0HFhLvs",
    "outputId": "a1d4ee5e-8559-42db-a4cd-b22d884d4916"
   },
   "outputs": [
    {
     "name": "stdout",
     "output_type": "stream",
     "text": [
      "              precision    recall  f1-score   support\n",
      "\n",
      "        real       0.87      0.75      0.81       224\n",
      "        fake       0.77      0.88      0.82       209\n",
      "\n",
      "    accuracy                           0.81       433\n",
      "   macro avg       0.82      0.82      0.81       433\n",
      "weighted avg       0.82      0.81      0.81       433\n",
      "\n"
     ]
    }
   ],
   "source": [
    "\n",
    "print(classification_report(y_test, test_results,\n",
    "                            target_names= [\"real\", \"fake\"]))"
   ]
  },
  {
   "cell_type": "markdown",
   "metadata": {
    "colab_type": "text",
    "id": "jttf636GMGLP"
   },
   "source": [
    "Complement Naive Bayes : suited for imbalanced data sets"
   ]
  },
  {
   "cell_type": "code",
   "execution_count": 21,
   "metadata": {
    "colab": {},
    "colab_type": "code",
    "id": "kb0jZ0ERhX9N"
   },
   "outputs": [],
   "source": [
    "# Use all data set with both models\n",
    "X = descrip_df.iloc[:,1].values\n",
    "y = descrip_df.iloc[:,0].values\n",
    "# apply the transformations TF-IDF\n",
    "X_c = count_vectorizer.fit_transform(X)\n",
    "X_tfidf = tfidfconverter.fit_transform(X_c).toarray()"
   ]
  },
  {
   "cell_type": "code",
   "execution_count": 22,
   "metadata": {
    "colab": {},
    "colab_type": "code",
    "id": "OVFrWcHINYCz"
   },
   "outputs": [],
   "source": [
    "# Break the data in trainand test datasets\n",
    "X_train, X_test, y_train, y_test = train_test_split(X_tfidf, y, random_state=580, stratify=y)\n"
   ]
  },
  {
   "cell_type": "code",
   "execution_count": 23,
   "metadata": {
    "colab": {
     "base_uri": "https://localhost:8080/",
     "height": 51
    },
    "colab_type": "code",
    "id": "bOpKc638NlCQ",
    "outputId": "2adb516f-ddb3-4362-ee44-53f740396824"
   },
   "outputs": [
    {
     "name": "stdout",
     "output_type": "stream",
     "text": [
      "Elapsed time: 1615925974.8991518 1615925967.8434\n",
      "Elapsed time during the whole program in nanoseconds: 7.055751800537109\n"
     ]
    }
   ],
   "source": [
    "# Create a Naive Bayes model and fit training data\n",
    "from sklearn.naive_bayes import ComplementNB\n",
    "\n",
    "t1_start = time() \n",
    "c_nb = ComplementNB()\n",
    "predictor = c_nb.fit(X_train,y_train)\n",
    "t1_stop = time() \n",
    "print(\"Elapsed time:\", t1_stop, t1_start)   \n",
    "print(f'Elapsed time during the whole program in nanoseconds:', \n",
    "                                            t1_stop-t1_start)"
   ]
  },
  {
   "cell_type": "code",
   "execution_count": 22,
   "metadata": {
    "colab": {
     "base_uri": "https://localhost:8080/",
     "height": 34
    },
    "colab_type": "code",
    "id": "9rv2m_WJrqCp",
    "outputId": "6101cd60-0779-4609-98ca-8316336acf3a"
   },
   "outputs": [
    {
     "data": {
      "text/plain": [
       "['/content/drive/My Drive/ComplementNB_all.h5']"
      ]
     },
     "execution_count": 22,
     "metadata": {
      "tags": []
     },
     "output_type": "execute_result"
    }
   ],
   "source": [
    "# save model to local drive\n",
    "filename = '/content/drive/My Drive/ComplementNB_all.h5'\n",
    "joblib.dump(predictor, filename)"
   ]
  },
  {
   "cell_type": "code",
   "execution_count": 24,
   "metadata": {
    "colab": {
     "base_uri": "https://localhost:8080/",
     "height": 170
    },
    "colab_type": "code",
    "id": "omULS1mUPiPX",
    "outputId": "13c83e32-dbe5-4a3c-dbb9-8d5e0233a3d3"
   },
   "outputs": [
    {
     "name": "stdout",
     "output_type": "stream",
     "text": [
      "              precision    recall  f1-score   support\n",
      "\n",
      "        real       0.95      0.99      0.97      4254\n",
      "        fake       0.11      0.01      0.02       216\n",
      "\n",
      "    accuracy                           0.95      4470\n",
      "   macro avg       0.53      0.50      0.50      4470\n",
      "weighted avg       0.91      0.95      0.93      4470\n",
      "\n"
     ]
    }
   ],
   "source": [
    "# Tranform the model with the testing data\n",
    "test_results = predictor.predict(X_test)\n",
    "print(classification_report(y_test, test_results,\n",
    "                            target_names= [\"real\", \"fake\"]))"
   ]
  },
  {
   "cell_type": "code",
   "execution_count": 25,
   "metadata": {
    "colab": {
     "base_uri": "https://localhost:8080/",
     "height": 51
    },
    "colab_type": "code",
    "id": "8HH3FYDPQX_v",
    "outputId": "789ba3db-ed03-440e-8fc7-331a5579ad5c"
   },
   "outputs": [
    {
     "name": "stdout",
     "output_type": "stream",
     "text": [
      "Elapsed time: 1615926017.1480472 1615926013.153033\n",
      "Elapsed time during the whole program in seconds: 3.995014190673828\n"
     ]
    }
   ],
   "source": [
    "t1_start = time() \n",
    "m_nb = MultinomialNB()\n",
    "predictor = m_nb.fit(X_train,y_train)\n",
    "t1_stop = time() \n",
    "print(\"Elapsed time:\", t1_stop, t1_start)   \n",
    "print(f'Elapsed time during the whole program in seconds:', \n",
    "                                            t1_stop-t1_start)"
   ]
  },
  {
   "cell_type": "code",
   "execution_count": 25,
   "metadata": {
    "colab": {
     "base_uri": "https://localhost:8080/",
     "height": 34
    },
    "colab_type": "code",
    "id": "RTNgYeqcsanf",
    "outputId": "916829d3-675b-4f36-cda9-b1bd15660b4d"
   },
   "outputs": [
    {
     "data": {
      "text/plain": [
       "['/content/drive/My Drive/Multiomial_all.h5']"
      ]
     },
     "execution_count": 25,
     "metadata": {
      "tags": []
     },
     "output_type": "execute_result"
    }
   ],
   "source": [
    "# save model to local drive\n",
    "filename = '/content/drive/My Drive/Multiomial_all.h5'\n",
    "joblib.dump(predictor, filename)"
   ]
  },
  {
   "cell_type": "code",
   "execution_count": 26,
   "metadata": {
    "colab": {
     "base_uri": "https://localhost:8080/",
     "height": 170
    },
    "colab_type": "code",
    "id": "ihGPU8lwRPmU",
    "outputId": "52f047c8-ef19-4e4c-b153-4aed6e037530"
   },
   "outputs": [
    {
     "name": "stdout",
     "output_type": "stream",
     "text": [
      "              precision    recall  f1-score   support\n",
      "\n",
      "        real       0.95      1.00      0.97      4254\n",
      "        fake       0.00      0.00      0.00       216\n",
      "\n",
      "    accuracy                           0.95      4470\n",
      "   macro avg       0.48      0.50      0.49      4470\n",
      "weighted avg       0.91      0.95      0.93      4470\n",
      "\n"
     ]
    }
   ],
   "source": [
    "# Tranform the model with the testing data\n",
    "test_results = predictor.predict(X_test)\n",
    "print(classification_report(y_test, test_results,\n",
    "                            target_names= [\"real\", \"fake\"]))"
   ]
  },
  {
   "cell_type": "code",
   "execution_count": 0,
   "metadata": {
    "colab": {},
    "colab_type": "code",
    "id": "-uatR2CyR_Su"
   },
   "outputs": [],
   "source": [
    "\n"
   ]
  },
  {
   "cell_type": "code",
   "execution_count": 0,
   "metadata": {
    "colab": {},
    "colab_type": "code",
    "id": "hEevwl1EmX4W"
   },
   "outputs": [],
   "source": []
  }
 ],
 "metadata": {
  "colab": {
   "collapsed_sections": [],
   "include_colab_link": true,
   "machine_shape": "hm",
   "name": "TF_IDF_ML_Pandas.ipynb",
   "provenance": [],
   "toc_visible": true
  },
  "kernel_info": {
   "name": "python3"
  },
  "kernelspec": {
   "display_name": "Python 3",
   "language": "python",
   "name": "python3"
  },
  "language_info": {
   "codemirror_mode": {
    "name": "ipython",
    "version": 3
   },
   "file_extension": ".py",
   "mimetype": "text/x-python",
   "name": "python",
   "nbconvert_exporter": "python",
   "pygments_lexer": "ipython3",
   "version": "3.8.3"
  },
  "latex_envs": {
   "LaTeX_envs_menu_present": true,
   "autoclose": false,
   "autocomplete": true,
   "bibliofile": "biblio.bib",
   "cite_by": "apalike",
   "current_citInitial": 1,
   "eqLabelWithNumbers": true,
   "eqNumInitial": 1,
   "hotkeys": {
    "equation": "Ctrl-E",
    "itemize": "Ctrl-I"
   },
   "labels_anchors": false,
   "latex_user_defs": false,
   "report_style_numbering": false,
   "user_envs_cfg": false
  },
  "nteract": {
   "version": "0.11.2"
  },
  "varInspector": {
   "cols": {
    "lenName": 16,
    "lenType": 16,
    "lenVar": 40
   },
   "kernels_config": {
    "python": {
     "delete_cmd_postfix": "",
     "delete_cmd_prefix": "del ",
     "library": "var_list.py",
     "varRefreshCmd": "print(var_dic_list())"
    },
    "r": {
     "delete_cmd_postfix": ") ",
     "delete_cmd_prefix": "rm(",
     "library": "var_list.r",
     "varRefreshCmd": "cat(var_dic_list()) "
    }
   },
   "types_to_exclude": [
    "module",
    "function",
    "builtin_function_or_method",
    "instance",
    "_Feature"
   ],
   "window_display": false
  }
 },
 "nbformat": 4,
 "nbformat_minor": 1
}
