{
  "nbformat": 4,
  "nbformat_minor": 0,
  "metadata": {
    "kernelspec": {
      "display_name": "Python 3",
      "language": "python",
      "name": "python3"
    },
    "language_info": {
      "codemirror_mode": {
        "name": "ipython",
        "version": 3
      },
      "file_extension": ".py",
      "mimetype": "text/x-python",
      "name": "python",
      "nbconvert_exporter": "python",
      "pygments_lexer": "ipython3",
      "version": "3.7.6"
    },
    "colab": {
      "name": "nlp-bert-colab.ipynb",
      "provenance": [],
      "collapsed_sections": [],
      "include_colab_link": true
    }
  },
  "cells": [
    {
      "cell_type": "markdown",
      "metadata": {
        "id": "view-in-github",
        "colab_type": "text"
      },
      "source": [
        "<a href=\"https://colab.research.google.com/github/MPdeM/Final_Project/blob/master/nlp_bert_colab.ipynb\" target=\"_parent\"><img src=\"https://colab.research.google.com/assets/colab-badge.svg\" alt=\"Open In Colab\"/></a>"
      ]
    },
    {
      "cell_type": "markdown",
      "metadata": {
        "id": "K3RVZXRhzPMJ",
        "colab_type": "text"
      },
      "source": [
        "## **Install Pytorch/ Import Dependencies**"
      ]
    },
    {
      "cell_type": "code",
      "metadata": {
        "id": "yFKC60hGzMsb",
        "colab_type": "code",
        "colab": {}
      },
      "source": [
        "pip install pytorch-pretrained-bert"
      ],
      "execution_count": 0,
      "outputs": []
    },
    {
      "cell_type": "code",
      "metadata": {
        "id": "38zusI_yzMsf",
        "colab_type": "code",
        "colab": {}
      },
      "source": [
        "# Dependencies\n",
        "import pandas as pd \n",
        "import numpy as np \n",
        "import torch.nn as nn\n",
        "from pytorch_pretrained_bert import BertTokenizer, BertModel\n",
        "import torch\n",
        "from keras.preprocessing.sequence import pad_sequences\n",
        "from sklearn.metrics import classification_report\n",
        "\n",
        "import warnings\n",
        "warnings.filterwarnings(\"ignore\")"
      ],
      "execution_count": 0,
      "outputs": []
    },
    {
      "cell_type": "markdown",
      "metadata": {
        "id": "aZTFzJvvzaCt",
        "colab_type": "text"
      },
      "source": [
        "## **Load/ Clean Data**"
      ]
    },
    {
      "cell_type": "code",
      "metadata": {
        "id": "KhxVIR6mzMsi",
        "colab_type": "code",
        "colab": {}
      },
      "source": [
        "# Read in csv file\n",
        "url = \"https://job-postings-dataviz.s3.amazonaws.com/fake_jobs_clean.csv\"\n",
        "\n",
        "fake_jobs_df = pd.read_csv(url)\n",
        "fake_jobs_df"
      ],
      "execution_count": 0,
      "outputs": []
    },
    {
      "cell_type": "code",
      "metadata": {
        "id": "Crf2KZRxzMsk",
        "colab_type": "code",
        "colab": {}
      },
      "source": [
        "# Take a look at job description and fraudulent cols\n",
        "df = fake_jobs_df[['description', 'fraudulent']]\n",
        "df"
      ],
      "execution_count": 0,
      "outputs": []
    },
    {
      "cell_type": "code",
      "metadata": {
        "id": "Oej_jbcwzMsm",
        "colab_type": "code",
        "colab": {}
      },
      "source": [
        "# Count how many Real vs Fraudulent postings \n",
        "from collections import Counter\n",
        "print(Counter(df['fraudulent'].values))"
      ],
      "execution_count": 0,
      "outputs": []
    },
    {
      "cell_type": "code",
      "metadata": {
        "id": "Qw0qU59LzMso",
        "colab_type": "code",
        "colab": {}
      },
      "source": [
        "# Drop duplicate descriptions\n",
        "df = df.drop_duplicates()\n",
        "df"
      ],
      "execution_count": 0,
      "outputs": []
    },
    {
      "cell_type": "code",
      "metadata": {
        "id": "AX3OqLfPzMsq",
        "colab_type": "code",
        "colab": {}
      },
      "source": [
        "# Count how many Real vs Fraudulent postings \n",
        "print(Counter(df['fraudulent'].values))"
      ],
      "execution_count": 0,
      "outputs": []
    },
    {
      "cell_type": "code",
      "metadata": {
        "id": "8MpN3oGNzMst",
        "colab_type": "code",
        "colab": {}
      },
      "source": [
        "# Make sure number of real vs fraudulent are more balanced\n",
        "# Using UNDERsampling for balancing of classification groups\n",
        "df_fraud= df[df['fraudulent'] == 1] \n",
        "df_normal = df[df['fraudulent'] == 0] \n",
        "\n",
        "df_normal = df_normal.sample(n=len(df_fraud), random_state=22)\n",
        "df = df_normal.append(df_fraud)\n",
        "\n",
        "df"
      ],
      "execution_count": 0,
      "outputs": []
    },
    {
      "cell_type": "code",
      "metadata": {
        "id": "nElGi8AvzMsv",
        "colab_type": "code",
        "colab": {}
      },
      "source": [
        "# Shuffle the dataframe so fraudulent postings more evenly distributed \n",
        "from sklearn.utils import shuffle\n",
        "df = shuffle(df, random_state=22)\n",
        "df = df.reset_index(drop=True)\n",
        "df"
      ],
      "execution_count": 0,
      "outputs": []
    },
    {
      "cell_type": "code",
      "metadata": {
        "id": "WZMRpwwCzMsy",
        "colab_type": "code",
        "colab": {}
      },
      "source": [
        "# Explicitly define data types\n",
        "df['description'] = df['description'].astype(str)\n",
        "df['fraudulent'] = df['fraudulent'].astype(int)"
      ],
      "execution_count": 0,
      "outputs": []
    },
    {
      "cell_type": "code",
      "metadata": {
        "id": "IdYB0m7SzMs0",
        "colab_type": "code",
        "colab": {}
      },
      "source": [
        "# Datatypes\n",
        "df.dtypes"
      ],
      "execution_count": 0,
      "outputs": []
    },
    {
      "cell_type": "code",
      "metadata": {
        "id": "zCbuonMDzMs2",
        "colab_type": "code",
        "colab": {}
      },
      "source": [
        "# Count Real vs Fraudulent again to make sure we've achieved the desired result\n",
        "print(Counter(df['fraudulent'].values))"
      ],
      "execution_count": 0,
      "outputs": []
    },
    {
      "cell_type": "markdown",
      "metadata": {
        "id": "aI7mSkbszeQL",
        "colab_type": "text"
      },
      "source": [
        "## **Assign Training/Testing Data**"
      ]
    },
    {
      "cell_type": "code",
      "metadata": {
        "id": "xkbI2fTWzMs4",
        "colab_type": "code",
        "colab": {}
      },
      "source": [
        "# Split the data into training and testing\n",
        "train_data = df.head(200)\n",
        "test_data = df.tail(150)\n",
        "\n",
        "print(train_data.shape, test_data.shape)"
      ],
      "execution_count": 0,
      "outputs": []
    },
    {
      "cell_type": "code",
      "metadata": {
        "id": "ezduM9eszMs6",
        "colab_type": "code",
        "colab": {}
      },
      "source": [
        "# Generate a list of dictionaries with ‘description’ and ‘fraudulent’ keys\n",
        "train_data = [{'description': description, 'fraudulent': fraudulent } for description in list(train_data['description']) for fraudulent in list(train_data['fraudulent'])]\n",
        "\n",
        "test_data = [{'description': description, 'fraudulent': fraudulent } for description in list(test_data['description'])for fraudulent in list(test_data['fraudulent'])]"
      ],
      "execution_count": 0,
      "outputs": []
    },
    {
      "cell_type": "code",
      "metadata": {
        "id": "a0JoSe-yzMs8",
        "colab_type": "code",
        "colab": {}
      },
      "source": [
        "# Generate a list of tuples from the list of dictionaries\n",
        "train_texts, train_labels = list(zip(*map(lambda d: (d['description'], d['fraudulent']), train_data)))\n",
        "test_texts, test_labels = list(zip(*map(lambda d: (d['description'], d['fraudulent']), test_data)))"
      ],
      "execution_count": 0,
      "outputs": []
    },
    {
      "cell_type": "markdown",
      "metadata": {
        "id": "1NnxtqIuzmuE",
        "colab_type": "text"
      },
      "source": [
        "## **Tokenizer, Token IDs**"
      ]
    },
    {
      "cell_type": "code",
      "metadata": {
        "id": "6f83vKb8zMs_",
        "colab_type": "code",
        "colab": {}
      },
      "source": [
        "# Generate tokens and token ids\n",
        "# Bert Tokenizer\n",
        "tokenizer = BertTokenizer.from_pretrained('bert-base-uncased', do_lower_case=True)"
      ],
      "execution_count": 0,
      "outputs": []
    },
    {
      "cell_type": "code",
      "metadata": {
        "id": "uLAWiOuIzMtB",
        "colab_type": "code",
        "colab": {}
      },
      "source": [
        "# Tokens\n",
        "train_tokens = list(map(lambda t: ['[CLS]'] + tokenizer.tokenize(t)[:511], train_texts))\n",
        "test_tokens = list(map(lambda t: ['[CLS]'] + tokenizer.tokenize(t)[:511], test_texts))"
      ],
      "execution_count": 0,
      "outputs": []
    },
    {
      "cell_type": "code",
      "metadata": {
        "id": "Sn-g2yPLzMtD",
        "colab_type": "code",
        "colab": {}
      },
      "source": [
        "# Token Ids\n",
        "train_tokens_ids = list(map(tokenizer.convert_tokens_to_ids, train_tokens))\n",
        "test_tokens_ids = list(map(tokenizer.convert_tokens_to_ids, test_tokens))"
      ],
      "execution_count": 0,
      "outputs": []
    },
    {
      "cell_type": "code",
      "metadata": {
        "id": "P6l2cktXzMtG",
        "colab_type": "code",
        "colab": {}
      },
      "source": [
        "train_tokens_ids = pad_sequences(train_tokens_ids, maxlen=512, truncating=\"post\", padding=\"post\", dtype=\"int\")\n",
        "test_tokens_ids = pad_sequences(test_tokens_ids, maxlen=512, truncating=\"post\", padding=\"post\", dtype=\"int\")"
      ],
      "execution_count": 0,
      "outputs": []
    },
    {
      "cell_type": "code",
      "metadata": {
        "id": "IIimxMMwzMtH",
        "colab_type": "code",
        "colab": {}
      },
      "source": [
        "# Generate a boolean array based on the value of ‘fraudulent’ for our testing and training sets\n",
        "train_y = np.array(train_labels) == 1\n",
        "test_y = np.array(test_labels) == 1"
      ],
      "execution_count": 0,
      "outputs": []
    },
    {
      "cell_type": "markdown",
      "metadata": {
        "id": "G7jhnzKxzuYr",
        "colab_type": "text"
      },
      "source": [
        "## **BERT Classifier**"
      ]
    },
    {
      "cell_type": "code",
      "metadata": {
        "id": "MmvJGLRRzMtJ",
        "colab_type": "code",
        "colab": {}
      },
      "source": [
        "# Create BERT classifier - contains ‘initialization’ method and ‘forward’ method; returns token probabilities\n",
        "class BertBinaryClassifier(nn.Module):\n",
        "    def __init__(self, dropout=0.1):\n",
        "        super(BertBinaryClassifier, self).__init__()\n",
        "        self.bert = BertModel.from_pretrained('bert-base-uncased')\n",
        "        self.dropout = nn.Dropout(dropout)\n",
        "        self.linear = nn.Linear(768, 1)\n",
        "        self.sigmoid = nn.Sigmoid()\n",
        "    \n",
        "    def forward(self, tokens, masks=None):\n",
        "        _, pooled_output = self.bert(tokens, attention_mask=masks, output_all_encoded_layers=False)\n",
        "        dropout_output = self.dropout(pooled_output)\n",
        "        linear_output = self.linear(dropout_output)\n",
        "        proba = self.sigmoid(linear_output)\n",
        "        return proba"
      ],
      "execution_count": 0,
      "outputs": []
    },
    {
      "cell_type": "code",
      "metadata": {
        "id": "iK5K3wZhzMtK",
        "colab_type": "code",
        "colab": {}
      },
      "source": [
        "# Generate training and testing masks\n",
        "train_masks = [[float(i > 0) for i in ii] for ii in train_tokens_ids]\n",
        "test_masks = [[float(i > 0) for i in ii] for ii in test_tokens_ids]\n",
        "train_masks_tensor = torch.tensor(train_masks)\n",
        "test_masks_tensor = torch.tensor(test_masks)"
      ],
      "execution_count": 0,
      "outputs": []
    },
    {
      "cell_type": "code",
      "metadata": {
        "id": "7j-4NzcwzMtM",
        "colab_type": "code",
        "colab": {}
      },
      "source": [
        "# Generate token tensors for training and testing\n",
        "train_tokens_tensor = torch.tensor(train_tokens_ids)\n",
        "train_y_tensor = torch.tensor(train_y.reshape(-1, 1)).float()\n",
        "test_tokens_tensor = torch.tensor(test_tokens_ids)\n",
        "test_y_tensor = torch.tensor(test_y.reshape(-1, 1)).float()"
      ],
      "execution_count": 0,
      "outputs": []
    },
    {
      "cell_type": "code",
      "metadata": {
        "id": "ppAEGegvzMtO",
        "colab_type": "code",
        "colab": {}
      },
      "source": [
        "# Prepare data loaders\n",
        "BATCH_SIZE = 1\n",
        "\n",
        "train_dataset =  torch.utils.data.TensorDataset(train_tokens_tensor, train_masks_tensor, train_y_tensor)\n",
        "train_sampler =  torch.utils.data.RandomSampler(train_dataset)\n",
        "train_dataloader =  torch.utils.data.DataLoader(train_dataset, sampler=train_sampler, batch_size=BATCH_SIZE)\n",
        "\n",
        "test_dataset =  torch.utils.data.TensorDataset(test_tokens_tensor, test_masks_tensor, test_y_tensor)\n",
        "test_sampler =  torch.utils.data.SequentialSampler(test_dataset)\n",
        "test_dataloader =  torch.utils.data.DataLoader(test_dataset, sampler=test_sampler, batch_size=BATCH_SIZE)"
      ],
      "execution_count": 0,
      "outputs": []
    },
    {
      "cell_type": "markdown",
      "metadata": {
        "id": "cHt7eUEaz3iX",
        "colab_type": "text"
      },
      "source": [
        "## **Fit the Model using Training Data**"
      ]
    },
    {
      "cell_type": "code",
      "metadata": {
        "id": "AAVrUpkVzMtQ",
        "colab_type": "code",
        "colab": {}
      },
      "source": [
        "# Use the Adam optimizer to minimize the Binary Cross Entropy loss \n",
        "# Train with a batch size of 1 for 1 EPOCHS\n",
        "BATCH_SIZE = 1\n",
        "EPOCHS = 1\n",
        "\n",
        "bert_clf = BertBinaryClassifier()\n",
        "optimizer = torch.optim.Adam(bert_clf.parameters(), lr=3e-6)\n",
        "\n",
        "for epoch_num in range(EPOCHS):\n",
        "    bert_clf.train()\n",
        "    train_loss = 0\n",
        "\n",
        "    for step_num, batch_data in enumerate(train_dataloader):\n",
        "        token_ids, masks, labels = tuple(t for t in batch_data)\n",
        "        probas = bert_clf(token_ids, masks)\n",
        "        loss_func = nn.BCELoss()\n",
        "        batch_loss = loss_func(probas, labels)\n",
        "        train_loss += batch_loss.item()\n",
        "        bert_clf.zero_grad()\n",
        "        batch_loss.backward()\n",
        "        optimizer.step()\n",
        "        print('Epoch: ', epoch_num + 1)\n",
        "        print(\"\\r\" + \"{0}/{1} loss: {2} \".format(step_num, len(train_data) / BATCH_SIZE, train_loss / (step_num + 1)))"
      ],
      "execution_count": 0,
      "outputs": []
    },
    {
      "cell_type": "markdown",
      "metadata": {
        "id": "CF2Ck_6Rz77E",
        "colab_type": "text"
      },
      "source": [
        "## **Evaluate Model**"
      ]
    },
    {
      "cell_type": "code",
      "metadata": {
        "id": "4yu45dQKzMtU",
        "colab_type": "code",
        "colab": {}
      },
      "source": [
        "# Evaluate our model\n",
        "bert_clf.eval()\n",
        "bert_predicted = []\n",
        "all_logits = []\n",
        "with torch.no_grad():\n",
        "    for step_num, batch_data in enumerate(test_dataloader):\n",
        "\n",
        "token_ids, masks, labels = tuple(t for t in batch_data)\n",
        "\n",
        "logits = bert_clf(token_ids, masks)\n",
        "        loss_func = nn.BCELoss()\n",
        "        loss = loss_func(logits, labels)\n",
        "        numpy_logits = logits.cpu().detach().numpy()\n",
        "        \n",
        "        bert_predicted += list(numpy_logits[:, 0] > 0.5)\n",
        "        all_logits += list(numpy_logits[:, 0])\n",
        "        \n",
        "print(classification_report(test_y, bert_predicted))"
      ],
      "execution_count": 0,
      "outputs": []
    }
  ]
}