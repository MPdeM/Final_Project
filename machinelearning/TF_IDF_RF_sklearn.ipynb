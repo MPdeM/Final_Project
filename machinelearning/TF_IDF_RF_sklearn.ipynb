{
  "nbformat": 4,
  "nbformat_minor": 0,
  "metadata": {
    "colab": {
      "name": "TF_IDF_ML_sklear2.ipynb",
      "provenance": [],
      "collapsed_sections": [],
      "machine_shape": "hm"
    },
    "kernel_info": {
      "name": "python3"
    },
    "kernelspec": {
      "display_name": "Python 3",
      "language": "python",
      "name": "python3"
    },
    "language_info": {
      "codemirror_mode": {
        "name": "ipython",
        "version": 3
      },
      "file_extension": ".py",
      "mimetype": "text/x-python",
      "name": "python",
      "nbconvert_exporter": "python",
      "pygments_lexer": "ipython3",
      "version": "3.7.3"
    },
    "latex_envs": {
      "LaTeX_envs_menu_present": true,
      "autoclose": false,
      "autocomplete": true,
      "bibliofile": "biblio.bib",
      "cite_by": "apalike",
      "current_citInitial": 1,
      "eqLabelWithNumbers": true,
      "eqNumInitial": 1,
      "hotkeys": {
        "equation": "Ctrl-E",
        "itemize": "Ctrl-I"
      },
      "labels_anchors": false,
      "latex_user_defs": false,
      "report_style_numbering": false,
      "user_envs_cfg": false
    },
    "nteract": {
      "version": "0.11.2"
    },
    "varInspector": {
      "cols": {
        "lenName": 16,
        "lenType": 16,
        "lenVar": 40
      },
      "kernels_config": {
        "python": {
          "delete_cmd_postfix": "",
          "delete_cmd_prefix": "del ",
          "library": "var_list.py",
          "varRefreshCmd": "print(var_dic_list())"
        },
        "r": {
          "delete_cmd_postfix": ") ",
          "delete_cmd_prefix": "rm(",
          "library": "var_list.r",
          "varRefreshCmd": "cat(var_dic_list()) "
        }
      },
      "types_to_exclude": [
        "module",
        "function",
        "builtin_function_or_method",
        "instance",
        "_Feature"
      ],
      "window_display": false
    }
  },
  "cells": [
    {
      "cell_type": "code",
      "metadata": {
        "id": "GKlUVRfGF4j3",
        "colab_type": "code",
        "colab": {}
      },
      "source": [
        "# Dependencies\n",
        "import pandas as pd \n",
        "import numpy as np\n",
        "import matplotlib as mpl\n",
        "import matplotlib.pyplot as plt\n",
        "from time import time\n",
        "from sklearn.metrics import classification_report\n",
        "\n",
        "\n",
        "import warnings\n",
        "warnings.filterwarnings(\"ignore\")"
      ],
      "execution_count": 0,
      "outputs": []
    },
    {
      "cell_type": "code",
      "metadata": {
        "colab_type": "code",
        "id": "qnI0zdY5NYCJ",
        "colab": {}
      },
      "source": [
        "# Read in data from S3 Buckets\n",
        "url = \"https://job-postings-dataviz.s3.amazonaws.com/fake_jobs_clean.csv\"\n",
        "df = pd.read_csv(url, sep=\",\",  encoding = \"UTF-8\" )\n",
        "\n",
        "# Show DataFrame\n",
        "# df.head()"
      ],
      "execution_count": 0,
      "outputs": []
    },
    {
      "cell_type": "code",
      "metadata": {
        "id": "XXYl4Sb5yXEW",
        "colab_type": "code",
        "outputId": "1f5cbec7-e689-48c4-919a-652ba2ac79ec",
        "colab": {
          "base_uri": "https://localhost:8080/",
          "height": 80
        }
      },
      "source": [
        "# Focus only on the job description. Create a dataFrame with label \"fraudulent\" and \"description\"\n",
        "descrip_df =df [['fraudulent','description']]\n",
        "descrip_df.head(1)"
      ],
      "execution_count": 50,
      "outputs": [
        {
          "output_type": "execute_result",
          "data": {
            "text/html": [
              "<div>\n",
              "<style scoped>\n",
              "    .dataframe tbody tr th:only-of-type {\n",
              "        vertical-align: middle;\n",
              "    }\n",
              "\n",
              "    .dataframe tbody tr th {\n",
              "        vertical-align: top;\n",
              "    }\n",
              "\n",
              "    .dataframe thead th {\n",
              "        text-align: right;\n",
              "    }\n",
              "</style>\n",
              "<table border=\"1\" class=\"dataframe\">\n",
              "  <thead>\n",
              "    <tr style=\"text-align: right;\">\n",
              "      <th></th>\n",
              "      <th>fraudulent</th>\n",
              "      <th>description</th>\n",
              "    </tr>\n",
              "  </thead>\n",
              "  <tbody>\n",
              "    <tr>\n",
              "      <th>0</th>\n",
              "      <td>0</td>\n",
              "      <td>Food52, a fast-growing, James Beard Award-winn...</td>\n",
              "    </tr>\n",
              "  </tbody>\n",
              "</table>\n",
              "</div>"
            ],
            "text/plain": [
              "   fraudulent                                        description\n",
              "0           0  Food52, a fast-growing, James Beard Award-winn..."
            ]
          },
          "metadata": {
            "tags": []
          },
          "execution_count": 50
        }
      ]
    },
    {
      "cell_type": "code",
      "metadata": {
        "id": "snvFNqMWy_EJ",
        "colab_type": "code",
        "outputId": "bfa41d6b-b2df-494c-b015-5952ac8bb25e",
        "colab": {
          "base_uri": "https://localhost:8080/",
          "height": 51
        }
      },
      "source": [
        "# Drop NaN values but dropping duplicates is qustionable\n",
        "# these duplicates are real data and contribute to both classes\n",
        "print(len(descrip_df))\n",
        "descrip_df= descrip_df.dropna()\n",
        "print(len(descrip_df))\n",
        "# descrip_df = descrip_df.drop_duplicates()\n",
        "# print(descrip_df.count())"
      ],
      "execution_count": 51,
      "outputs": [
        {
          "output_type": "stream",
          "text": [
            "17880\n",
            "17879\n"
          ],
          "name": "stdout"
        }
      ]
    },
    {
      "cell_type": "code",
      "metadata": {
        "id": "y0X2zMMb-nel",
        "colab_type": "code",
        "outputId": "e28ffd63-9c72-4873-fed5-bc1f73acde73",
        "colab": {
          "base_uri": "https://localhost:8080/",
          "height": 51
        }
      },
      "source": [
        "# Distrubution of the classes real vs fraudulent (fake) :\n",
        "# tha dataset is higthly inbalance\n",
        "df_fake= descrip_df[descrip_df['fraudulent'] == 1] \n",
        "df_real = descrip_df[descrip_df['fraudulent'] == 0] \n",
        "# Count how many Real vs Fraudulent postings\n",
        "n_f=len(df_fake)\n",
        "n_n=len(df_real)\n",
        "print(n_f)\n",
        "print(n_n)"
      ],
      "execution_count": 68,
      "outputs": [
        {
          "output_type": "stream",
          "text": [
            "865\n",
            "17014\n"
          ],
          "name": "stdout"
        }
      ]
    },
    {
      "cell_type": "markdown",
      "metadata": {
        "id": "e9xMjAiMXGXN",
        "colab_type": "text"
      },
      "source": [
        "Create a data set with a more balance distribution (5:1 ration between real:fake posts)"
      ]
    },
    {
      "cell_type": "code",
      "metadata": {
        "id": "jxHYA8O2U3mP",
        "colab_type": "code",
        "outputId": "a91e2a93-0485-4a5c-9a31-b9ab6d8936d9",
        "colab": {
          "base_uri": "https://localhost:8080/",
          "height": 51
        }
      },
      "source": [
        "df_new= df_real.sample  ( 5*n_f  , random_state=580)\n",
        "df_unders = df_new.append(df_fake)\n",
        "print(len(df_new))\n",
        "print(len(df_unders))"
      ],
      "execution_count": 53,
      "outputs": [
        {
          "output_type": "stream",
          "text": [
            "4325\n",
            "5190\n"
          ],
          "name": "stdout"
        }
      ]
    },
    {
      "cell_type": "code",
      "metadata": {
        "id": "R68dml7fs9QU",
        "colab_type": "code",
        "colab": {}
      },
      "source": [
        "# Shuffle the dataframe \n",
        "df_underst = df_unders.sample(len(df_unders), random_state=580) "
      ],
      "execution_count": 0,
      "outputs": []
    },
    {
      "cell_type": "code",
      "metadata": {
        "id": "WDMjIbAA-5XS",
        "colab_type": "code",
        "colab": {
          "base_uri": "https://localhost:8080/",
          "height": 564
        },
        "outputId": "6bec7b7e-dbc8-4f39-ee1e-1cbac15912b9"
      },
      "source": [
        "# Plot the original class distribution and the new distribution\n",
        "\n",
        "fig, axes = plt.subplots(ncols=2, figsize=(8, 4), dpi=100)\n",
        "plt.tight_layout()\n",
        "descrip_df[\"fraudulent\"].value_counts().plot.bar (ax = axes[0])\n",
        "df_underst[\"fraudulent\"].value_counts().plot.bar (ax = axes[1])\n",
        "\n",
        "axes[0].set_ylabel(' ')\n",
        "axes[0].set_xticklabels([\"Real Post (17014) [0's]\", \"Fake Post (865) [1's]\"])\n",
        "axes[1].set_ylabel(' ')\n",
        "axes[1].set_xticklabels([\"Real Post (4325) [0's]\", \"Fake Post (865) [1's]\"])\n",
        "\n",
        "axes[0].set_title('Class Distribution', fontsize=10)\n",
        "axes[1].set_title('Class reasigment distribution', fontsize=10)\n",
        "\n",
        "plt.show()"
      ],
      "execution_count": 65,
      "outputs": [
        {
          "output_type": "display_data",
          "data": {
            "image/png": "[encoded data removed]",
            "text/plain": [
              "<Figure size 800x400 with 2 Axes>"
            ]
          },
          "metadata": {
            "tags": [],
            "needs_background": "light"
          }
        }
      ]
    },
    {
      "cell_type": "code",
      "metadata": {
        "id": "37ruI4vlzE4q",
        "colab_type": "code",
        "colab": {}
      },
      "source": [
        "# Assign to target (\"fraudulent\") and the text (description)\n",
        "\n",
        "X_u = df_underst.iloc[:,1].values\n",
        "y_u = df_underst.iloc[:,0].values"
      ],
      "execution_count": 0,
      "outputs": []
    },
    {
      "cell_type": "markdown",
      "metadata": {
        "colab_type": "text",
        "id": "od7Qj0sxNYCW"
      },
      "source": [
        "### Feature Transformations (Term Frequency times inverse document frequency)\n"
      ]
    },
    {
      "cell_type": "code",
      "metadata": {
        "colab_type": "code",
        "id": "59dwxefsNYCX",
        "outputId": "4bab314b-910a-40df-a5ec-0bd2a42a0633",
        "colab": {
          "base_uri": "https://localhost:8080/",
          "height": 51
        }
      },
      "source": [
        "# feature extraction using \"bag of words\" model. Create feature vectors exclude the stopword. \n",
        "from sklearn import preprocessing\n",
        "from sklearn.feature_extraction.text import CountVectorizer, TfidfTransformer\n",
        "from nltk.corpus import stopwords\n",
        "import nltk\n",
        "nltk.download('stopwords')\n",
        "from nltk.corpus import stopwords\n",
        "STOPWORDS = set(stopwords.words('english'))\n",
        "\n",
        "\n",
        "count_vectorizer = CountVectorizer( stop_words=stopwords.words('english'))\n",
        "tfidfconverter = TfidfTransformer()"
      ],
      "execution_count": 8,
      "outputs": [
        {
          "output_type": "stream",
          "text": [
            "[nltk_data] Downloading package stopwords to /root/nltk_data...\n",
            "[nltk_data]   Package stopwords is already up-to-date!\n"
          ],
          "name": "stdout"
        }
      ]
    },
    {
      "cell_type": "code",
      "metadata": {
        "id": "mm6PeiIraUsz",
        "colab_type": "code",
        "colab": {}
      },
      "source": [
        "#  apply the transformatins\n",
        "X_c = count_vectorizer.fit_transform(X_u)\n",
        "X_tfidf = tfidfconverter.fit_transform(X_c).toarray()\n",
        "\n",
        "# y.shape"
      ],
      "execution_count": 0,
      "outputs": []
    },
    {
      "cell_type": "markdown",
      "metadata": {
        "id": "7i5UO0V7Jjtv",
        "colab_type": "text"
      },
      "source": [
        "Dividing data into Training and Test sets"
      ]
    },
    {
      "cell_type": "code",
      "metadata": {
        "id": "t_UhbYQQTQM8",
        "colab_type": "code",
        "colab": {}
      },
      "source": [
        "# Break the data in trainand test datasets\n",
        "from sklearn.model_selection import train_test_split\n",
        "\n",
        "X_train, X_test, y_train, y_test = train_test_split(X_tfidf, y_u , random_state=580)"
      ],
      "execution_count": 0,
      "outputs": []
    },
    {
      "cell_type": "markdown",
      "metadata": {
        "id": "jttf636GMGLP",
        "colab_type": "text"
      },
      "source": [
        "**TRAINING THE MODEL**"
      ]
    },
    {
      "cell_type": "markdown",
      "metadata": {
        "id": "T7yU-hwaCF8g",
        "colab_type": "text"
      },
      "source": [
        "**Random forest algorith**\n",
        "This model can be use in non-normalized data"
      ]
    },
    {
      "cell_type": "markdown",
      "metadata": {
        "id": "IjmtsCmwleeD",
        "colab_type": "text"
      },
      "source": [
        "Loop througth th N-Estimator using the AUC (area under the curve) as evaluator![alt text](https://) "
      ]
    },
    {
      "cell_type": "code",
      "metadata": {
        "id": "Mzepl_TLlaap",
        "colab_type": "code",
        "colab": {}
      },
      "source": [
        "from sklearn.ensemble import RandomForestClassifier\n",
        "from sklearn.metrics import classification_report, confusion_matrix, accuracy_score\n",
        "from sklearn.metrics import roc_curve, auc\n",
        "\n",
        "\n",
        "n_estimators = [1, 2, 4, 8, 16, 32, 64, 100, 200]\n",
        "train_results = []\n",
        "test_results = []\n",
        "for estimator in n_estimators:\n",
        "   text_classifier = RandomForestClassifier(n_estimators=estimator, n_jobs=-1)\n",
        "   text_classifier.fit(X_train, y_train)\n",
        "   train_prediction = text_classifier.predict(X_train)\n",
        "   false_positive_rate, true_positive_rate, thresholds = roc_curve(y_train, train_prediction)\n",
        "   roc_auc = auc(false_positive_rate, true_positive_rate)\n",
        "   train_results.append(roc_auc)\n",
        "   test_prediction = text_classifier.predict(X_test)\n",
        "   false_positive_rate, true_positive_rate, thresholds = roc_curve(y_test, test_prediction)\n",
        "   roc_auc = auc(false_positive_rate, true_positive_rate)\n",
        "   test_results.append(roc_auc)"
      ],
      "execution_count": 0,
      "outputs": []
    },
    {
      "cell_type": "code",
      "metadata": {
        "id": "mKNTqjjpqTbv",
        "colab_type": "code",
        "colab": {
          "base_uri": "https://localhost:8080/",
          "height": 280
        },
        "outputId": "be60607a-4a8b-46ef-aeed-0698e71f7eda"
      },
      "source": [
        "# plot the \n",
        "from matplotlib.legend_handler import HandlerLine2D\n",
        "\n",
        "line1, = plt.plot(n_estimators, train_results, 'blue', label='Train AUC')\n",
        "line2, = plt.plot(n_estimators, test_results, \"red\", label='Test AUC')\n",
        "plt.legend(handler_map={line1: HandlerLine2D(numpoints=2)})\n",
        "plt.ylabel('AUC score')\n",
        "plt.xlabel('n_estimators')\n",
        "plt.show()"
      ],
      "execution_count": 35,
      "outputs": [
        {
          "output_type": "display_data",
          "data": {
            "image/png": "[encoded data removed]",
            "text/plain": [
              "<Figure size 432x288 with 1 Axes>"
            ]
          },
          "metadata": {
            "tags": [],
            "needs_background": "light"
          }
        }
      ]
    },
    {
      "cell_type": "markdown",
      "metadata": {
        "id": "AkkJKVUJXI1Z",
        "colab_type": "text"
      },
      "source": [
        "Loop througth the max_depth (depth of the threes) using the AUC (area under the curve) as evaluator\n"
      ]
    },
    {
      "cell_type": "code",
      "metadata": {
        "id": "iG_aHo8rW5g_",
        "colab_type": "code",
        "colab": {}
      },
      "source": [
        "max_depths = np.linspace(1, 40, 20, endpoint=True)\n",
        "train_results = []\n",
        "test_results = []\n",
        "for max_depth in max_depths:\n",
        "   text_classifier = RandomForestClassifier(max_depth=max_depth, n_jobs=-1)\n",
        "   text_classifier.fit(X_train, y_train)\n",
        "   train_prediction = text_classifier.predict(X_train)\n",
        "   false_positive_rate, true_positive_rate, thresholds = roc_curve(y_train, train_prediction)\n",
        "   roc_auc = auc(false_positive_rate, true_positive_rate)\n",
        "   train_results.append(roc_auc)\n",
        "   test_prediction = text_classifier.predict(X_test)\n",
        "   false_positive_rate, true_positive_rate, thresholds = roc_curve(y_test, test_prediction)\n",
        "   roc_auc = auc(false_positive_rate, true_positive_rate)\n",
        "   test_results.append(roc_auc)"
      ],
      "execution_count": 0,
      "outputs": []
    },
    {
      "cell_type": "code",
      "metadata": {
        "id": "euh8L_FkW6QA",
        "colab_type": "code",
        "colab": {
          "base_uri": "https://localhost:8080/",
          "height": 283
        },
        "outputId": "df9054ee-8959-43e2-ef3a-133a50ba533a"
      },
      "source": [
        "# plot the results to find optimal three depth\n",
        "from matplotlib.legend_handler import HandlerLine2D\n",
        "\n",
        "line1, = plt.plot(max_depths, train_results, 'blue', label='Train AUC')\n",
        "line2, = plt.plot(max_depths, test_results, \"red\", label='Test AUC')\n",
        "plt.legend(handler_map={line1: HandlerLine2D(numpoints=2)})\n",
        "plt.ylabel('AUC score')\n",
        "plt.xlabel('tree depth')\n",
        "plt.show()"
      ],
      "execution_count": 74,
      "outputs": [
        {
          "output_type": "display_data",
          "data": {
            "image/png": "[encoded data removed]",
            "text/plain": [
              "<Figure size 432x288 with 1 Axes>"
            ]
          },
          "metadata": {
            "tags": [],
            "needs_background": "light"
          }
        }
      ]
    },
    {
      "cell_type": "code",
      "metadata": {
        "id": "f8HQKIYfripQ",
        "colab_type": "code",
        "colab": {
          "base_uri": "https://localhost:8080/",
          "height": 51
        },
        "outputId": "9912122c-c27a-4ae6-88ae-1a57f41a1946"
      },
      "source": [
        "# Create the Random Forest model using 32 estimators \n",
        "\n",
        "t1_start = time()\n",
        "text_classifier = RandomForestClassifier(n_estimators=32, max_depth= 35, random_state=580)\n",
        "text_classifier.fit(X_train, y_train)\n",
        "t1_stop = time() \n",
        "print(\"Elapsed time:\", t1_stop, t1_start)   \n",
        "print(f'Elapsed time during the whole program in seconds:',t1_stop-t1_start)"
      ],
      "execution_count": 76,
      "outputs": [
        {
          "output_type": "stream",
          "text": [
            "Elapsed time: 1586913855.3940885 1586913849.3695593\n",
            "Elapsed time during the whole program in nanoseconds: 6.024529218673706\n"
          ],
          "name": "stdout"
        }
      ]
    },
    {
      "cell_type": "code",
      "metadata": {
        "id": "zaAZDHIY6LbF",
        "colab_type": "code",
        "colab": {}
      },
      "source": [
        "# Apply the model \n",
        "test_predictions = text_classifier.predict(X_test)"
      ],
      "execution_count": 0,
      "outputs": []
    },
    {
      "cell_type": "code",
      "metadata": {
        "id": "UwBqhxuk6WxA",
        "colab_type": "code",
        "colab": {
          "base_uri": "https://localhost:8080/",
          "height": 204
        },
        "outputId": "1413af8f-255a-4e45-b9e9-c0d1acb2c65a"
      },
      "source": [
        "\n",
        "\n",
        "false_positive_rate, true_positive_rate, thresholds = roc_curve(y_test, test_predictions)\n",
        "roc_auc = auc(false_positive_rate, true_positive_rate)\n",
        "print (roc_auc)\n",
        "\n",
        "print(f\"Accuracy Score: {accuracy_score(y_test, predictions)}\")\n",
        "print(classification_report(y_test,predictions, target_names=[\"real\",\"fake\"]))\n"
      ],
      "execution_count": 78,
      "outputs": [
        {
          "output_type": "stream",
          "text": [
            "0.7142857142857143\n",
            "Accuracy Score: 0.8697996918335902\n",
            "              precision    recall  f1-score   support\n",
            "\n",
            "        real       0.93      0.92      0.92      1095\n",
            "        fake       0.58      0.61      0.59       203\n",
            "\n",
            "    accuracy                           0.87      1298\n",
            "   macro avg       0.75      0.76      0.76      1298\n",
            "weighted avg       0.87      0.87      0.87      1298\n",
            "\n"
          ],
          "name": "stdout"
        }
      ]
    }
  ]
}