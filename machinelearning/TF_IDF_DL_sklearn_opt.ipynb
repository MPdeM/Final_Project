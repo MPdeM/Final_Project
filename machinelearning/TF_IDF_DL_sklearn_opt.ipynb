{
  "nbformat": 4,
  "nbformat_minor": 0,
  "metadata": {
    "colab": {
      "name": "TF_IDF_DL_sklearn_opt.ipynb",
      "provenance": [],
      "collapsed_sections": [],
      "machine_shape": "hm"
    },
    "kernel_info": {
      "name": "python3"
    },
    "kernelspec": {
      "display_name": "Python 3",
      "language": "python",
      "name": "python3"
    },
    "language_info": {
      "codemirror_mode": {
        "name": "ipython",
        "version": 3
      },
      "file_extension": ".py",
      "mimetype": "text/x-python",
      "name": "python",
      "nbconvert_exporter": "python",
      "pygments_lexer": "ipython3",
      "version": "3.7.3"
    },
    "latex_envs": {
      "LaTeX_envs_menu_present": true,
      "autoclose": false,
      "autocomplete": true,
      "bibliofile": "biblio.bib",
      "cite_by": "apalike",
      "current_citInitial": 1,
      "eqLabelWithNumbers": true,
      "eqNumInitial": 1,
      "hotkeys": {
        "equation": "Ctrl-E",
        "itemize": "Ctrl-I"
      },
      "labels_anchors": false,
      "latex_user_defs": false,
      "report_style_numbering": false,
      "user_envs_cfg": false
    },
    "nteract": {
      "version": "0.11.2"
    },
    "varInspector": {
      "cols": {
        "lenName": 16,
        "lenType": 16,
        "lenVar": 40
      },
      "kernels_config": {
        "python": {
          "delete_cmd_postfix": "",
          "delete_cmd_prefix": "del ",
          "library": "var_list.py",
          "varRefreshCmd": "print(var_dic_list())"
        },
        "r": {
          "delete_cmd_postfix": ") ",
          "delete_cmd_prefix": "rm(",
          "library": "var_list.r",
          "varRefreshCmd": "cat(var_dic_list()) "
        }
      },
      "types_to_exclude": [
        "module",
        "function",
        "builtin_function_or_method",
        "instance",
        "_Feature"
      ],
      "window_display": false
    }
  },
  "cells": [
    {
      "cell_type": "code",
      "metadata": {
        "id": "GKlUVRfGF4j3",
        "colab_type": "code",
        "colab": {}
      },
      "source": [
        "# Dependencies\n",
        "import pandas as pd \n",
        "import numpy as np\n",
        "import matplotlib as mpl\n",
        "import matplotlib.pyplot as plt\n",
        "from time import time\n",
        "from sklearn.metrics import classification_report\n",
        "\n",
        "\n",
        "import warnings\n",
        "warnings.filterwarnings(\"ignore\")"
      ],
      "execution_count": 0,
      "outputs": []
    },
    {
      "cell_type": "code",
      "metadata": {
        "colab_type": "code",
        "id": "qnI0zdY5NYCJ",
        "colab": {}
      },
      "source": [
        "# Read in data from S3 Buckets\n",
        "url = \"https://job-postings-dataviz.s3.amazonaws.com/fake_jobs_clean.csv\"\n",
        "df = pd.read_csv(url, sep=\",\",  encoding = \"UTF-8\" )\n",
        "\n",
        "# Show DataFrame\n",
        "# df.head()"
      ],
      "execution_count": 0,
      "outputs": []
    },
    {
      "cell_type": "code",
      "metadata": {
        "id": "XXYl4Sb5yXEW",
        "colab_type": "code",
        "outputId": "a94edec7-e274-41c9-bf2b-048da3cac1bb",
        "colab": {
          "base_uri": "https://localhost:8080/",
          "height": 80
        }
      },
      "source": [
        "# Focus only on the job description. Create a dataFrame with label \"fraudulent\" and \"description\"\n",
        "descrip_df =df [['fraudulent','description']]\n",
        "descrip_df.head(1)"
      ],
      "execution_count": 3,
      "outputs": [
        {
          "output_type": "execute_result",
          "data": {
            "text/html": [
              "<div>\n",
              "<style scoped>\n",
              "    .dataframe tbody tr th:only-of-type {\n",
              "        vertical-align: middle;\n",
              "    }\n",
              "\n",
              "    .dataframe tbody tr th {\n",
              "        vertical-align: top;\n",
              "    }\n",
              "\n",
              "    .dataframe thead th {\n",
              "        text-align: right;\n",
              "    }\n",
              "</style>\n",
              "<table border=\"1\" class=\"dataframe\">\n",
              "  <thead>\n",
              "    <tr style=\"text-align: right;\">\n",
              "      <th></th>\n",
              "      <th>fraudulent</th>\n",
              "      <th>description</th>\n",
              "    </tr>\n",
              "  </thead>\n",
              "  <tbody>\n",
              "    <tr>\n",
              "      <th>0</th>\n",
              "      <td>0</td>\n",
              "      <td>Food52, a fast-growing, James Beard Award-winn...</td>\n",
              "    </tr>\n",
              "  </tbody>\n",
              "</table>\n",
              "</div>"
            ],
            "text/plain": [
              "   fraudulent                                        description\n",
              "0           0  Food52, a fast-growing, James Beard Award-winn..."
            ]
          },
          "metadata": {
            "tags": []
          },
          "execution_count": 3
        }
      ]
    },
    {
      "cell_type": "code",
      "metadata": {
        "id": "snvFNqMWy_EJ",
        "colab_type": "code",
        "outputId": "a91721d8-9db7-460f-e711-99cb6c7a0f22",
        "colab": {
          "base_uri": "https://localhost:8080/",
          "height": 51
        }
      },
      "source": [
        "# Drop NaN values but dropping duplicates is qustionable\n",
        "# these duplicates are real data and contribute to both classes\n",
        "print(len(descrip_df))\n",
        "descrip_df= descrip_df.dropna()\n",
        "print(len(descrip_df))\n",
        "# descrip_df = descrip_df.drop_duplicates()\n",
        "# print(descrip_df.count())"
      ],
      "execution_count": 4,
      "outputs": [
        {
          "output_type": "stream",
          "text": [
            "17880\n",
            "17879\n"
          ],
          "name": "stdout"
        }
      ]
    },
    {
      "cell_type": "code",
      "metadata": {
        "id": "y0X2zMMb-nel",
        "colab_type": "code",
        "outputId": "1e7141c6-a882-414b-ba92-5a2bb5aabaae",
        "colab": {
          "base_uri": "https://localhost:8080/",
          "height": 51
        }
      },
      "source": [
        "# Distrubution of the classes real vs fraudulent (fake) :\n",
        "# tha dataset is higthly inbalance\n",
        "df_fake= descrip_df[descrip_df['fraudulent'] == 1] \n",
        "df_real = descrip_df[descrip_df['fraudulent'] == 0] \n",
        "# Count how many Real vs Fraudulent postings\n",
        "n_f=len(df_fake)\n",
        "n_n=len(df_real)\n",
        "print(n_f)\n",
        "print(n_n)"
      ],
      "execution_count": 5,
      "outputs": [
        {
          "output_type": "stream",
          "text": [
            "865\n",
            "17014\n"
          ],
          "name": "stdout"
        }
      ]
    },
    {
      "cell_type": "markdown",
      "metadata": {
        "id": "e9xMjAiMXGXN",
        "colab_type": "text"
      },
      "source": [
        "Create a data set with a more balance distribution (5:1 real:fake posts)"
      ]
    },
    {
      "cell_type": "code",
      "metadata": {
        "id": "jxHYA8O2U3mP",
        "colab_type": "code",
        "outputId": "d4028779-2948-4516-f0d6-de4e90a0f000",
        "colab": {
          "base_uri": "https://localhost:8080/",
          "height": 51
        }
      },
      "source": [
        "df_new= df_real.sample  ( 5*n_f  , random_state=580)\n",
        "df_unders = df_new.append(df_fake)\n",
        "print(len(df_new))\n",
        "print(len(df_unders))"
      ],
      "execution_count": 6,
      "outputs": [
        {
          "output_type": "stream",
          "text": [
            "4325\n",
            "5190\n"
          ],
          "name": "stdout"
        }
      ]
    },
    {
      "cell_type": "code",
      "metadata": {
        "id": "R68dml7fs9QU",
        "colab_type": "code",
        "colab": {}
      },
      "source": [
        "# Shuffle the dataframe \n",
        "df_underst = df_unders.sample(len(df_unders), random_state=580) "
      ],
      "execution_count": 0,
      "outputs": []
    },
    {
      "cell_type": "code",
      "metadata": {
        "id": "WDMjIbAA-5XS",
        "colab_type": "code",
        "outputId": "cff14176-ad6e-4e2e-ac8c-8b21df9614d5",
        "colab": {
          "base_uri": "https://localhost:8080/",
          "height": 564
        }
      },
      "source": [
        "# Plot the original class distribution and the new distribution\n",
        "\n",
        "fig, axes = plt.subplots(ncols=2, figsize=(8, 4), dpi=100)\n",
        "plt.tight_layout()\n",
        "descrip_df[\"fraudulent\"].value_counts().plot.bar (ax = axes[0])\n",
        "df_underst[\"fraudulent\"].value_counts().plot.bar (ax = axes[1])\n",
        "\n",
        "axes[0].set_ylabel(' ')\n",
        "axes[0].set_xticklabels([\"Real Post (17014) [0's]\", \"Fake Post (865) [1's]\"])\n",
        "axes[1].set_ylabel(' ')\n",
        "axes[1].set_xticklabels([\"Real Post (4325) [0's]\", \"Fake Post (865) [1's]\"])\n",
        "\n",
        "axes[0].set_title('Class Distribution', fontsize=10)\n",
        "axes[1].set_title('Class reasigment distribution', fontsize=10)\n",
        "\n",
        "plt.show()"
      ],
      "execution_count": 8,
      "outputs": [
        {
          "output_type": "display_data",
          "data": {
            "image/png": "[encoded data removed]",
            "text/plain": [
              "<Figure size 800x400 with 2 Axes>"
            ]
          },
          "metadata": {
            "tags": [],
            "needs_background": "light"
          }
        }
      ]
    },
    {
      "cell_type": "code",
      "metadata": {
        "id": "37ruI4vlzE4q",
        "colab_type": "code",
        "colab": {}
      },
      "source": [
        "# Assign to target (\"fraudulent\") and the text (\"description\")\n",
        "\n",
        "X = df_underst.iloc[:,1].values\n",
        "target = df_underst.iloc[:,0].values"
      ],
      "execution_count": 0,
      "outputs": []
    },
    {
      "cell_type": "code",
      "metadata": {
        "colab_type": "code",
        "id": "59dwxefsNYCX",
        "outputId": "5d20f32d-7495-45d1-b8a4-5734bd781352",
        "colab": {
          "base_uri": "https://localhost:8080/",
          "height": 51
        }
      },
      "source": [
        "# feature extraction using \"bag of words\" model. Create feature vectors. \n",
        "from sklearn import preprocessing\n",
        "from sklearn.feature_extraction.text import CountVectorizer, TfidfTransformer\n",
        "from nltk.corpus import stopwords\n",
        "import nltk\n",
        "nltk.download('stopwords')\n",
        "from nltk.corpus import stopwords\n",
        "STOPWORDS = set(stopwords.words('english'))\n",
        "\n",
        "\n",
        "count_vectorizer = CountVectorizer( stop_words=stopwords.words('english'))\n",
        "tfidfconverter = TfidfTransformer()"
      ],
      "execution_count": 10,
      "outputs": [
        {
          "output_type": "stream",
          "text": [
            "[nltk_data] Downloading package stopwords to /root/nltk_data...\n",
            "[nltk_data]   Unzipping corpora/stopwords.zip.\n"
          ],
          "name": "stdout"
        }
      ]
    },
    {
      "cell_type": "code",
      "metadata": {
        "id": "mm6PeiIraUsz",
        "colab_type": "code",
        "colab": {}
      },
      "source": [
        "#  apply the transformations\n",
        "\n",
        "X_c = count_vectorizer.fit_transform(X)\n",
        "X_tfidf = tfidfconverter.fit_transform(X_c).toarray()"
      ],
      "execution_count": 0,
      "outputs": []
    },
    {
      "cell_type": "markdown",
      "metadata": {
        "id": "7i5UO0V7Jjtv",
        "colab_type": "text"
      },
      "source": [
        "Dividing data into Training and Test sets"
      ]
    },
    {
      "cell_type": "code",
      "metadata": {
        "id": "t_UhbYQQTQM8",
        "colab_type": "code",
        "colab": {}
      },
      "source": [
        "# Break the data in train and test datasets\n",
        "from sklearn.model_selection import train_test_split\n",
        "\n",
        "X_train, X_test, y_train, y_test = train_test_split(X_tfidf, target , random_state=580)"
      ],
      "execution_count": 0,
      "outputs": []
    },
    {
      "cell_type": "markdown",
      "metadata": {
        "id": "jttf636GMGLP",
        "colab_type": "text"
      },
      "source": [
        "**TRAINING THE MODEL**"
      ]
    },
    {
      "cell_type": "markdown",
      "metadata": {
        "colab_type": "text",
        "id": "SCfomzDQeMyP"
      },
      "source": [
        "**Deep Learning Model **"
      ]
    },
    {
      "cell_type": "markdown",
      "metadata": {
        "id": "NJVljXgNGj1I",
        "colab_type": "text"
      },
      "source": [
        "scale the data before any neural net"
      ]
    },
    {
      "cell_type": "code",
      "metadata": {
        "id": "yOHWRZk3Ge2P",
        "colab_type": "code",
        "colab": {}
      },
      "source": [
        "# Create a StandardScater model and fit it to the training data\n",
        "from sklearn.preprocessing import StandardScaler, LabelEncoder\n",
        "from tensorflow.keras.utils import to_categorical\n",
        "\n",
        "# Transform the training and testing data using the X_scaler\n",
        "\n",
        "X_scaler = StandardScaler().fit(X_train)\n",
        "X_train_scaled = X_scaler.transform(X_train)\n",
        "X_test_scaled = X_scaler.transform(X_test)"
      ],
      "execution_count": 0,
      "outputs": []
    },
    {
      "cell_type": "code",
      "metadata": {
        "id": "ia5LA2DhGfwC",
        "colab_type": "code",
        "colab": {}
      },
      "source": [
        "# Step 1: Label-encode data set\n",
        "label_encoder = LabelEncoder()\n",
        "label_encoder.fit(y_train)\n",
        "encoded_y_train = label_encoder.transform(y_train)\n",
        "encoded_y_test = label_encoder.transform(y_test)"
      ],
      "execution_count": 0,
      "outputs": []
    },
    {
      "cell_type": "code",
      "metadata": {
        "id": "0DYgtbd4Gsnl",
        "colab_type": "code",
        "colab": {}
      },
      "source": [
        "# Step 2: Convert encoded labels to one-hot-encoding\n",
        "y_train_categorical = to_categorical(encoded_y_train)\n",
        "y_test_categorical = to_categorical(encoded_y_test)"
      ],
      "execution_count": 0,
      "outputs": []
    },
    {
      "cell_type": "code",
      "metadata": {
        "id": "XiytXliHsQik",
        "colab_type": "code",
        "colab": {}
      },
      "source": [
        "# import dependencies \n",
        "\n",
        "import tensorflow as tf\n",
        "import keras\n",
        "from keras import layers , models, utils , losses,datasets\n",
        "from keras.layers import Dense, Flatten, Dropout, Activation\n",
        "from keras.models import Sequential\n",
        "from keras.regularizers import l2\n",
        "from keras.optimizers import SGD, RMSprop\n",
        "from keras.callbacks import LearningRateScheduler , History\n",
        "from sklearn.utils import shuffle\n"
      ],
      "execution_count": 0,
      "outputs": []
    },
    {
      "cell_type": "markdown",
      "metadata": {
        "id": "cfQWXK4FspYq",
        "colab_type": "text"
      },
      "source": [
        "Adjust the learning rate"
      ]
    },
    {
      "cell_type": "code",
      "metadata": {
        "id": "ahXf2NGrs9mC",
        "colab_type": "code",
        "colab": {}
      },
      "source": [
        "epochs=60\n",
        "learning_rate = 0.1\n",
        "decay_rate = learning_rate / epochs\n",
        "momentum = 0.8\n",
        "\n",
        "sgd = SGD(lr=learning_rate, momentum=momentum, decay=decay_rate, nesterov=False)"
      ],
      "execution_count": 0,
      "outputs": []
    },
    {
      "cell_type": "code",
      "metadata": {
        "id": "-uatR2CyR_Su",
        "colab_type": "code",
        "colab": {}
      },
      "source": [
        "#  build the architecture of the neural network\n",
        "input_dim = X_train_scaled.shape[1]\n",
        "\n",
        "deep_model = Sequential()\n",
        "\n",
        "deep_model.add(Dense(units=64, kernel_initializer='uniform',activation='relu',input_dim = input_dim))\n",
        "deep_model.add(Dropout(0.1))\n",
        "deep_model.add(Dense(units=64, kernel_initializer='uniform',activation='relu'))\n",
        "deep_model.add(Dense(units=2,kernel_initializer='uniform', activation='softmax'))\n"
      ],
      "execution_count": 0,
      "outputs": []
    },
    {
      "cell_type": "code",
      "metadata": {
        "id": "hEevwl1EmX4W",
        "colab_type": "code",
        "colab": {}
      },
      "source": [
        "# Compile and fit the model\n",
        "deep_model.compile(optimizer=sgd, \n",
        "                   loss='categorical_crossentropy', \n",
        "                   metrics=['accuracy'])"
      ],
      "execution_count": 0,
      "outputs": []
    },
    {
      "cell_type": "code",
      "metadata": {
        "id": "uQMv2O9pzdhi",
        "colab_type": "code",
        "outputId": "eb493330-c579-4638-eeac-9153ec123160",
        "colab": {
          "base_uri": "https://localhost:8080/",
          "height": 1000
        }
      },
      "source": [
        "# train the Model\n",
        "batch_size=int(input_dim/100)\n",
        "\n",
        "deep_model_history = deep_model.fit(X_train_scaled, y_train_categorical,\n",
        "                                    batch_size=batch_size,\n",
        "                                    epochs=epochs,\n",
        "                                    verbose=1,\n",
        "                                    validation_data = (X_test_scaled,y_test_categorical))\n"
      ],
      "execution_count": 25,
      "outputs": [
        {
          "output_type": "stream",
          "text": [
            "Train on 3892 samples, validate on 1298 samples\n",
            "Epoch 1/60\n",
            "3892/3892 [==============================] - 2s 456us/step - loss: 1.7557e-04 - accuracy: 1.0000 - val_loss: 0.6581 - val_accuracy: 0.9337\n",
            "Epoch 2/60\n",
            "3892/3892 [==============================] - 2s 455us/step - loss: 1.4471e-04 - accuracy: 1.0000 - val_loss: 0.6568 - val_accuracy: 0.9337\n",
            "Epoch 3/60\n",
            "3892/3892 [==============================] - 2s 460us/step - loss: 1.3365e-04 - accuracy: 1.0000 - val_loss: 0.6574 - val_accuracy: 0.9337\n",
            "Epoch 4/60\n",
            "3892/3892 [==============================] - 2s 456us/step - loss: 1.3412e-04 - accuracy: 1.0000 - val_loss: 0.6546 - val_accuracy: 0.9322\n",
            "Epoch 5/60\n",
            "3892/3892 [==============================] - 2s 454us/step - loss: 1.4803e-04 - accuracy: 1.0000 - val_loss: 0.6595 - val_accuracy: 0.9337\n",
            "Epoch 6/60\n",
            "3892/3892 [==============================] - 2s 458us/step - loss: 1.6713e-04 - accuracy: 1.0000 - val_loss: 0.6618 - val_accuracy: 0.9337\n",
            "Epoch 7/60\n",
            "3892/3892 [==============================] - 2s 454us/step - loss: 1.6202e-04 - accuracy: 1.0000 - val_loss: 0.6653 - val_accuracy: 0.9345\n",
            "Epoch 8/60\n",
            "3892/3892 [==============================] - 2s 454us/step - loss: 1.4558e-04 - accuracy: 1.0000 - val_loss: 0.6660 - val_accuracy: 0.9345\n",
            "Epoch 9/60\n",
            "3892/3892 [==============================] - 2s 455us/step - loss: 1.6443e-04 - accuracy: 1.0000 - val_loss: 0.6761 - val_accuracy: 0.9345\n",
            "Epoch 10/60\n",
            "3892/3892 [==============================] - 2s 455us/step - loss: 1.0851e-04 - accuracy: 1.0000 - val_loss: 0.6779 - val_accuracy: 0.9345\n",
            "Epoch 11/60\n",
            "3892/3892 [==============================] - 2s 455us/step - loss: 1.8676e-04 - accuracy: 1.0000 - val_loss: 0.6759 - val_accuracy: 0.9345\n",
            "Epoch 12/60\n",
            "3892/3892 [==============================] - 2s 454us/step - loss: 2.8870e-04 - accuracy: 1.0000 - val_loss: 0.6821 - val_accuracy: 0.9345\n",
            "Epoch 13/60\n",
            "3892/3892 [==============================] - 2s 454us/step - loss: 2.0742e-04 - accuracy: 1.0000 - val_loss: 0.7150 - val_accuracy: 0.9345\n",
            "Epoch 14/60\n",
            "3892/3892 [==============================] - 2s 456us/step - loss: 1.3324e-04 - accuracy: 1.0000 - val_loss: 0.7155 - val_accuracy: 0.9345\n",
            "Epoch 15/60\n",
            "3892/3892 [==============================] - 2s 456us/step - loss: 1.2927e-04 - accuracy: 1.0000 - val_loss: 0.7123 - val_accuracy: 0.9337\n",
            "Epoch 16/60\n",
            "3892/3892 [==============================] - 2s 453us/step - loss: 1.0063e-04 - accuracy: 1.0000 - val_loss: 0.7090 - val_accuracy: 0.9345\n",
            "Epoch 17/60\n",
            "3892/3892 [==============================] - 2s 460us/step - loss: 1.3366e-04 - accuracy: 1.0000 - val_loss: 0.7069 - val_accuracy: 0.9353\n",
            "Epoch 18/60\n",
            "3892/3892 [==============================] - 2s 467us/step - loss: 1.2657e-04 - accuracy: 1.0000 - val_loss: 0.7026 - val_accuracy: 0.9353\n",
            "Epoch 19/60\n",
            "3892/3892 [==============================] - 2s 467us/step - loss: 1.5259e-04 - accuracy: 1.0000 - val_loss: 0.6977 - val_accuracy: 0.9353\n",
            "Epoch 20/60\n",
            "3892/3892 [==============================] - 2s 466us/step - loss: 8.7463e-05 - accuracy: 1.0000 - val_loss: 0.6972 - val_accuracy: 0.9353\n",
            "Epoch 21/60\n",
            "3892/3892 [==============================] - 2s 465us/step - loss: 1.4172e-04 - accuracy: 1.0000 - val_loss: 0.7037 - val_accuracy: 0.9353\n",
            "Epoch 22/60\n",
            "3892/3892 [==============================] - 2s 463us/step - loss: 1.0487e-04 - accuracy: 1.0000 - val_loss: 0.7077 - val_accuracy: 0.9361\n",
            "Epoch 23/60\n",
            "3892/3892 [==============================] - 2s 468us/step - loss: 1.0320e-04 - accuracy: 1.0000 - val_loss: 0.7063 - val_accuracy: 0.9361\n",
            "Epoch 24/60\n",
            "3892/3892 [==============================] - 2s 456us/step - loss: 1.0438e-04 - accuracy: 1.0000 - val_loss: 0.7019 - val_accuracy: 0.9353\n",
            "Epoch 25/60\n",
            "3892/3892 [==============================] - 2s 453us/step - loss: 1.5584e-04 - accuracy: 1.0000 - val_loss: 0.7005 - val_accuracy: 0.9353\n",
            "Epoch 26/60\n",
            "3892/3892 [==============================] - 2s 455us/step - loss: 2.1299e-04 - accuracy: 1.0000 - val_loss: 0.6920 - val_accuracy: 0.9345\n",
            "Epoch 27/60\n",
            "3892/3892 [==============================] - 2s 456us/step - loss: 1.3707e-04 - accuracy: 1.0000 - val_loss: 0.6964 - val_accuracy: 0.9353\n",
            "Epoch 28/60\n",
            "3892/3892 [==============================] - 2s 457us/step - loss: 1.8829e-04 - accuracy: 1.0000 - val_loss: 0.6924 - val_accuracy: 0.9345\n",
            "Epoch 29/60\n",
            "3892/3892 [==============================] - 2s 457us/step - loss: 9.1854e-05 - accuracy: 1.0000 - val_loss: 0.6917 - val_accuracy: 0.9345\n",
            "Epoch 30/60\n",
            "3892/3892 [==============================] - 2s 453us/step - loss: 1.1492e-04 - accuracy: 1.0000 - val_loss: 0.6895 - val_accuracy: 0.9345\n",
            "Epoch 31/60\n",
            "3892/3892 [==============================] - 2s 456us/step - loss: 1.2057e-04 - accuracy: 1.0000 - val_loss: 0.6903 - val_accuracy: 0.9345\n",
            "Epoch 32/60\n",
            "3892/3892 [==============================] - 2s 454us/step - loss: 1.1310e-04 - accuracy: 1.0000 - val_loss: 0.6857 - val_accuracy: 0.9345\n",
            "Epoch 33/60\n",
            "3892/3892 [==============================] - 2s 455us/step - loss: 9.8031e-05 - accuracy: 1.0000 - val_loss: 0.6825 - val_accuracy: 0.9345\n",
            "Epoch 34/60\n",
            "3892/3892 [==============================] - 2s 454us/step - loss: 1.0083e-04 - accuracy: 1.0000 - val_loss: 0.6823 - val_accuracy: 0.9345\n",
            "Epoch 35/60\n",
            "3892/3892 [==============================] - 2s 459us/step - loss: 8.5486e-05 - accuracy: 1.0000 - val_loss: 0.6820 - val_accuracy: 0.9345\n",
            "Epoch 36/60\n",
            "3892/3892 [==============================] - 2s 459us/step - loss: 1.0593e-04 - accuracy: 1.0000 - val_loss: 0.6825 - val_accuracy: 0.9345\n",
            "Epoch 37/60\n",
            "3892/3892 [==============================] - 2s 457us/step - loss: 8.7737e-05 - accuracy: 1.0000 - val_loss: 0.6827 - val_accuracy: 0.9345\n",
            "Epoch 38/60\n",
            "3892/3892 [==============================] - 2s 458us/step - loss: 1.0870e-04 - accuracy: 1.0000 - val_loss: 0.6860 - val_accuracy: 0.9345\n",
            "Epoch 39/60\n",
            "3892/3892 [==============================] - 2s 456us/step - loss: 1.1425e-04 - accuracy: 1.0000 - val_loss: 0.6897 - val_accuracy: 0.9345\n",
            "Epoch 40/60\n",
            "3892/3892 [==============================] - 2s 456us/step - loss: 8.8636e-05 - accuracy: 1.0000 - val_loss: 0.6904 - val_accuracy: 0.9345\n",
            "Epoch 41/60\n",
            "3892/3892 [==============================] - 2s 458us/step - loss: 1.1844e-04 - accuracy: 1.0000 - val_loss: 0.6917 - val_accuracy: 0.9345\n",
            "Epoch 42/60\n",
            "3892/3892 [==============================] - 2s 457us/step - loss: 9.0761e-05 - accuracy: 1.0000 - val_loss: 0.6932 - val_accuracy: 0.9337\n",
            "Epoch 43/60\n",
            "3892/3892 [==============================] - 2s 453us/step - loss: 1.3748e-04 - accuracy: 1.0000 - val_loss: 0.6964 - val_accuracy: 0.9345\n",
            "Epoch 44/60\n",
            "3892/3892 [==============================] - 2s 451us/step - loss: 1.1505e-04 - accuracy: 1.0000 - val_loss: 0.7020 - val_accuracy: 0.9353\n",
            "Epoch 45/60\n",
            "3892/3892 [==============================] - 2s 454us/step - loss: 1.1235e-04 - accuracy: 1.0000 - val_loss: 0.7059 - val_accuracy: 0.9353\n",
            "Epoch 46/60\n",
            "3892/3892 [==============================] - 2s 458us/step - loss: 1.1622e-04 - accuracy: 1.0000 - val_loss: 0.7075 - val_accuracy: 0.9353\n",
            "Epoch 47/60\n",
            "3892/3892 [==============================] - 2s 455us/step - loss: 3.4298e-04 - accuracy: 0.9997 - val_loss: 0.6689 - val_accuracy: 0.9337\n",
            "Epoch 48/60\n",
            "3892/3892 [==============================] - 2s 452us/step - loss: 8.5970e-05 - accuracy: 1.0000 - val_loss: 0.6682 - val_accuracy: 0.9337\n",
            "Epoch 49/60\n",
            "3892/3892 [==============================] - 2s 455us/step - loss: 9.4319e-05 - accuracy: 1.0000 - val_loss: 0.6700 - val_accuracy: 0.9337\n",
            "Epoch 50/60\n",
            "3892/3892 [==============================] - 2s 456us/step - loss: 1.0697e-04 - accuracy: 1.0000 - val_loss: 0.6729 - val_accuracy: 0.9337\n",
            "Epoch 51/60\n",
            "3892/3892 [==============================] - 2s 457us/step - loss: 1.1947e-04 - accuracy: 1.0000 - val_loss: 0.6759 - val_accuracy: 0.9337\n",
            "Epoch 52/60\n",
            "3892/3892 [==============================] - 2s 460us/step - loss: 8.1459e-05 - accuracy: 1.0000 - val_loss: 0.6769 - val_accuracy: 0.9337\n",
            "Epoch 53/60\n",
            "3892/3892 [==============================] - 2s 456us/step - loss: 8.6362e-05 - accuracy: 1.0000 - val_loss: 0.6786 - val_accuracy: 0.9337\n",
            "Epoch 54/60\n",
            "3892/3892 [==============================] - 2s 455us/step - loss: 9.3068e-05 - accuracy: 1.0000 - val_loss: 0.6796 - val_accuracy: 0.9337\n",
            "Epoch 55/60\n",
            "3892/3892 [==============================] - 2s 457us/step - loss: 2.5958e-04 - accuracy: 1.0000 - val_loss: 0.7035 - val_accuracy: 0.9345\n",
            "Epoch 56/60\n",
            "3892/3892 [==============================] - 2s 457us/step - loss: 8.2437e-05 - accuracy: 1.0000 - val_loss: 0.7133 - val_accuracy: 0.9353\n",
            "Epoch 57/60\n",
            "3892/3892 [==============================] - 2s 461us/step - loss: 9.9406e-05 - accuracy: 1.0000 - val_loss: 0.7118 - val_accuracy: 0.9353\n",
            "Epoch 58/60\n",
            "3892/3892 [==============================] - 2s 463us/step - loss: 3.2957e-04 - accuracy: 0.9997 - val_loss: 0.7764 - val_accuracy: 0.9322\n",
            "Epoch 59/60\n",
            "3892/3892 [==============================] - 2s 462us/step - loss: 8.6670e-05 - accuracy: 1.0000 - val_loss: 0.7782 - val_accuracy: 0.9314\n",
            "Epoch 60/60\n",
            "3892/3892 [==============================] - 2s 455us/step - loss: 8.3790e-05 - accuracy: 1.0000 - val_loss: 0.7759 - val_accuracy: 0.9322\n"
          ],
          "name": "stdout"
        }
      ]
    },
    {
      "cell_type": "code",
      "metadata": {
        "id": "NIruVJV28Z7Q",
        "colab_type": "code",
        "outputId": "8a84260b-e83a-43ec-eaa7-e52036e1a2c7",
        "colab": {
          "base_uri": "https://localhost:8080/",
          "height": 795
        }
      },
      "source": [
        "# Plot the loss function\n",
        "fig, ax = plt.subplots(1, 1, figsize=(10,6))\n",
        "ax.plot(np.sqrt(deep_model_history.history['loss']), 'r', label='train')\n",
        "ax.plot(np.sqrt(deep_model_history.history['val_loss']), 'b' ,label='val')\n",
        "ax.set_xlabel(r'Epoch', fontsize=20)\n",
        "ax.set_ylabel(r'Loss', fontsize=20)\n",
        "# ax.set_ylim(0, 1)\n",
        "ax.legend()\n",
        "ax.tick_params(labelsize=20)\n",
        "\n",
        "# Plot the accuracy\n",
        "fig, ax = plt.subplots(1, 1, figsize=(10,6))\n",
        "ax.plot(np.sqrt(deep_model_history.history['accuracy']), 'r', label='train')\n",
        "ax.plot(np.sqrt(deep_model_history.history['val_accuracy']), 'b' ,label='val')\n",
        "ax.set_xlabel(r'Epoch', fontsize=20)\n",
        "ax.set_ylabel(r'Accuracy', fontsize=20)\n",
        "# ax.set_ylim(0, 1)\n",
        "ax.legend()\n",
        "ax.tick_params(labelsize=20)"
      ],
      "execution_count": 27,
      "outputs": [
        {
          "output_type": "display_data",
          "data": {
            "image/png": "[encoded data removed]",
            "text/plain": [
              "<Figure size 720x432 with 1 Axes>"
            ]
          },
          "metadata": {
            "tags": [],
            "needs_background": "light"
          }
        },
        {
          "output_type": "display_data",
          "data": {
            "image/png": "[encoded data removed]",
            "text/plain": [
              "<Figure size 720x432 with 1 Axes>"
            ]
          },
          "metadata": {
            "tags": [],
            "needs_background": "light"
          }
        }
      ]
    },
    {
      "cell_type": "markdown",
      "metadata": {
        "id": "xg5R3u77KHqU",
        "colab_type": "text"
      },
      "source": [
        "Adjust the the learning rate "
      ]
    },
    {
      "cell_type": "code",
      "metadata": {
        "id": "LdaoCOZhKC0Z",
        "colab_type": "code",
        "colab": {}
      },
      "source": [
        "epochs=60\n",
        "learning_rate = 0.1 # initial learning rate\n",
        "decay_rate = 0.1\n",
        "momentum = 0.8\n",
        "# define the optimizer function\n",
        "sgd = SGD(lr=learning_rate, momentum=momentum, decay=decay_rate, nesterov=False)"
      ],
      "execution_count": 0,
      "outputs": []
    },
    {
      "cell_type": "code",
      "metadata": {
        "id": "1UB1T2wcMVRG",
        "colab_type": "code",
        "colab": {}
      },
      "source": [
        "#  build the architecture of the neural network\n",
        "input_dim = X_train_scaled.shape[1]\n",
        "batch_size= 200\n",
        "\n",
        "# build the model\n",
        "ex_deep_model = Sequential()\n",
        "\n",
        "ex_deep_model.add(Dense(units=64, kernel_initializer='uniform',activation='relu',input_dim = input_dim))\n",
        "ex_deep_model.add(Dropout(0.1))\n",
        "ex_deep_model.add(Dense(units=64, kernel_initializer='uniform',activation='relu'))\n",
        "ex_deep_model.add(Dense(units=2,kernel_initializer='uniform', activation='softmax'))\n"
      ],
      "execution_count": 0,
      "outputs": []
    },
    {
      "cell_type": "code",
      "metadata": {
        "id": "03wLIOhXNKyB",
        "colab_type": "code",
        "colab": {}
      },
      "source": [
        "# Compile and fit the model\n",
        "ex_deep_model.compile(optimizer=sgd, \n",
        "                   loss='categorical_crossentropy', \n",
        "                   metrics=['accuracy'])"
      ],
      "execution_count": 0,
      "outputs": []
    },
    {
      "cell_type": "code",
      "metadata": {
        "id": "5d00bp9KP7zo",
        "colab_type": "code",
        "colab": {}
      },
      "source": [
        "# define the learning rate change \n",
        "def exp_decay(epoch):\n",
        "    lrate = learning_rate * np.exp(-decay_rate*epoch)\n",
        "    return lrate\n",
        "\n",
        "# learning schedule callback\n",
        "loss_history = History()\n",
        "lr_rate = LearningRateScheduler(exp_decay)\n",
        "callbacks_list = [loss_history, lr_rate]    "
      ],
      "execution_count": 0,
      "outputs": []
    },
    {
      "cell_type": "code",
      "metadata": {
        "id": "wP7QssaxPcrR",
        "colab_type": "code",
        "outputId": "2448bbd4-b0ed-4e6e-e98c-78cef67735ef",
        "colab": {
          "base_uri": "https://localhost:8080/",
          "height": 1000
        }
      },
      "source": [
        "# train the Model , here use the LearningRatescheduler\n",
        "\n",
        "\n",
        "ex_deep_model_hystory = ex_deep_model.fit(X_train_scaled, y_train_categorical,\n",
        "                                    batch_size=batch_size,\n",
        "                                    epochs=epochs,\n",
        "                                    callbacks=callbacks_list,\n",
        "                                    verbose=1,\n",
        "                                    validation_data = (X_test_scaled,y_test_categorical))\n"
      ],
      "execution_count": 0,
      "outputs": [
        {
          "output_type": "stream",
          "text": [
            "Train on 3892 samples, validate on 1298 samples\n",
            "Epoch 1/60\n",
            "3892/3892 [==============================] - 2s 400us/step - loss: 0.4709 - accuracy: 0.8034 - val_loss: 0.3787 - val_accuracy: 0.8436\n",
            "Epoch 2/60\n",
            "3892/3892 [==============================] - 1s 311us/step - loss: 0.3495 - accuracy: 0.8299 - val_loss: 0.3439 - val_accuracy: 0.8436\n",
            "Epoch 3/60\n",
            "3892/3892 [==============================] - 1s 313us/step - loss: 0.2780 - accuracy: 0.8299 - val_loss: 0.3253 - val_accuracy: 0.8436\n",
            "Epoch 4/60\n",
            "3892/3892 [==============================] - 1s 309us/step - loss: 0.2253 - accuracy: 0.8386 - val_loss: 0.3176 - val_accuracy: 0.8698\n",
            "Epoch 5/60\n",
            "3892/3892 [==============================] - 1s 308us/step - loss: 0.1821 - accuracy: 0.9168 - val_loss: 0.3087 - val_accuracy: 0.9114\n",
            "Epoch 6/60\n",
            "3892/3892 [==============================] - 1s 308us/step - loss: 0.1469 - accuracy: 0.9507 - val_loss: 0.3091 - val_accuracy: 0.9153\n",
            "Epoch 7/60\n",
            "3892/3892 [==============================] - 1s 307us/step - loss: 0.1214 - accuracy: 0.9635 - val_loss: 0.3086 - val_accuracy: 0.9176\n",
            "Epoch 8/60\n",
            "3892/3892 [==============================] - 1s 306us/step - loss: 0.1035 - accuracy: 0.9743 - val_loss: 0.3107 - val_accuracy: 0.9206\n",
            "Epoch 9/60\n",
            "3892/3892 [==============================] - 1s 306us/step - loss: 0.0907 - accuracy: 0.9751 - val_loss: 0.3108 - val_accuracy: 0.9206\n",
            "Epoch 10/60\n",
            "3892/3892 [==============================] - 1s 310us/step - loss: 0.0828 - accuracy: 0.9815 - val_loss: 0.3131 - val_accuracy: 0.9214\n",
            "Epoch 11/60\n",
            "3892/3892 [==============================] - 1s 305us/step - loss: 0.0750 - accuracy: 0.9828 - val_loss: 0.3155 - val_accuracy: 0.9214\n",
            "Epoch 12/60\n",
            "3892/3892 [==============================] - 1s 307us/step - loss: 0.0729 - accuracy: 0.9820 - val_loss: 0.3185 - val_accuracy: 0.9214\n",
            "Epoch 13/60\n",
            "3892/3892 [==============================] - 1s 310us/step - loss: 0.0703 - accuracy: 0.9838 - val_loss: 0.3218 - val_accuracy: 0.9230\n",
            "Epoch 14/60\n",
            "3892/3892 [==============================] - 1s 307us/step - loss: 0.0657 - accuracy: 0.9838 - val_loss: 0.3217 - val_accuracy: 0.9222\n",
            "Epoch 15/60\n",
            "3892/3892 [==============================] - 1s 304us/step - loss: 0.0615 - accuracy: 0.9872 - val_loss: 0.3228 - val_accuracy: 0.9222\n",
            "Epoch 16/60\n",
            "3892/3892 [==============================] - 1s 305us/step - loss: 0.0615 - accuracy: 0.9872 - val_loss: 0.3247 - val_accuracy: 0.9230\n",
            "Epoch 17/60\n",
            "3892/3892 [==============================] - 1s 308us/step - loss: 0.0608 - accuracy: 0.9866 - val_loss: 0.3252 - val_accuracy: 0.9230\n",
            "Epoch 18/60\n",
            "3892/3892 [==============================] - 1s 312us/step - loss: 0.0584 - accuracy: 0.9895 - val_loss: 0.3258 - val_accuracy: 0.9230\n",
            "Epoch 19/60\n",
            "3892/3892 [==============================] - 1s 309us/step - loss: 0.0587 - accuracy: 0.9882 - val_loss: 0.3266 - val_accuracy: 0.9230\n",
            "Epoch 20/60\n",
            "3892/3892 [==============================] - 1s 309us/step - loss: 0.0548 - accuracy: 0.9910 - val_loss: 0.3270 - val_accuracy: 0.9230\n",
            "Epoch 21/60\n",
            "3892/3892 [==============================] - 1s 308us/step - loss: 0.0550 - accuracy: 0.9895 - val_loss: 0.3273 - val_accuracy: 0.9230\n",
            "Epoch 22/60\n",
            "3892/3892 [==============================] - 1s 306us/step - loss: 0.0541 - accuracy: 0.9902 - val_loss: 0.3279 - val_accuracy: 0.9230\n",
            "Epoch 23/60\n",
            "3892/3892 [==============================] - 1s 307us/step - loss: 0.0560 - accuracy: 0.9887 - val_loss: 0.3283 - val_accuracy: 0.9230\n",
            "Epoch 24/60\n",
            "3892/3892 [==============================] - 1s 308us/step - loss: 0.0521 - accuracy: 0.9908 - val_loss: 0.3289 - val_accuracy: 0.9230\n",
            "Epoch 25/60\n",
            "3892/3892 [==============================] - 1s 306us/step - loss: 0.0512 - accuracy: 0.9905 - val_loss: 0.3287 - val_accuracy: 0.9230\n",
            "Epoch 26/60\n",
            "3892/3892 [==============================] - 1s 307us/step - loss: 0.0521 - accuracy: 0.9895 - val_loss: 0.3287 - val_accuracy: 0.9230\n",
            "Epoch 27/60\n",
            "3892/3892 [==============================] - 1s 305us/step - loss: 0.0550 - accuracy: 0.9900 - val_loss: 0.3290 - val_accuracy: 0.9230\n",
            "Epoch 28/60\n",
            "3892/3892 [==============================] - 1s 304us/step - loss: 0.0527 - accuracy: 0.9895 - val_loss: 0.3292 - val_accuracy: 0.9230\n",
            "Epoch 29/60\n",
            "3892/3892 [==============================] - 1s 308us/step - loss: 0.0509 - accuracy: 0.9915 - val_loss: 0.3293 - val_accuracy: 0.9230\n",
            "Epoch 30/60\n",
            "3892/3892 [==============================] - 1s 305us/step - loss: 0.0509 - accuracy: 0.9920 - val_loss: 0.3294 - val_accuracy: 0.9230\n",
            "Epoch 31/60\n",
            "3892/3892 [==============================] - 1s 308us/step - loss: 0.0525 - accuracy: 0.9902 - val_loss: 0.3294 - val_accuracy: 0.9237\n",
            "Epoch 32/60\n",
            "3892/3892 [==============================] - 1s 309us/step - loss: 0.0500 - accuracy: 0.9920 - val_loss: 0.3295 - val_accuracy: 0.9245\n",
            "Epoch 33/60\n",
            "3892/3892 [==============================] - 1s 309us/step - loss: 0.0517 - accuracy: 0.9892 - val_loss: 0.3296 - val_accuracy: 0.9245\n",
            "Epoch 34/60\n",
            "3892/3892 [==============================] - 1s 310us/step - loss: 0.0517 - accuracy: 0.9913 - val_loss: 0.3297 - val_accuracy: 0.9245\n",
            "Epoch 35/60\n",
            "3892/3892 [==============================] - 1s 309us/step - loss: 0.0503 - accuracy: 0.9908 - val_loss: 0.3297 - val_accuracy: 0.9245\n",
            "Epoch 36/60\n",
            "3892/3892 [==============================] - 1s 305us/step - loss: 0.0509 - accuracy: 0.9910 - val_loss: 0.3297 - val_accuracy: 0.9245\n",
            "Epoch 37/60\n",
            "3892/3892 [==============================] - 1s 306us/step - loss: 0.0490 - accuracy: 0.9897 - val_loss: 0.3298 - val_accuracy: 0.9245\n",
            "Epoch 38/60\n",
            "3892/3892 [==============================] - 1s 307us/step - loss: 0.0503 - accuracy: 0.9915 - val_loss: 0.3299 - val_accuracy: 0.9245\n",
            "Epoch 39/60\n",
            "3892/3892 [==============================] - 1s 303us/step - loss: 0.0505 - accuracy: 0.9918 - val_loss: 0.3299 - val_accuracy: 0.9245\n",
            "Epoch 40/60\n",
            "3892/3892 [==============================] - 1s 305us/step - loss: 0.0510 - accuracy: 0.9900 - val_loss: 0.3299 - val_accuracy: 0.9245\n",
            "Epoch 41/60\n",
            "3892/3892 [==============================] - 1s 302us/step - loss: 0.0513 - accuracy: 0.9913 - val_loss: 0.3299 - val_accuracy: 0.9245\n",
            "Epoch 42/60\n",
            "3892/3892 [==============================] - 1s 303us/step - loss: 0.0502 - accuracy: 0.9905 - val_loss: 0.3300 - val_accuracy: 0.9245\n",
            "Epoch 43/60\n",
            "3892/3892 [==============================] - 1s 306us/step - loss: 0.0510 - accuracy: 0.9905 - val_loss: 0.3300 - val_accuracy: 0.9245\n",
            "Epoch 44/60\n",
            "3892/3892 [==============================] - 1s 308us/step - loss: 0.0502 - accuracy: 0.9920 - val_loss: 0.3300 - val_accuracy: 0.9245\n",
            "Epoch 45/60\n",
            "3892/3892 [==============================] - 1s 306us/step - loss: 0.0494 - accuracy: 0.9915 - val_loss: 0.3301 - val_accuracy: 0.9245\n",
            "Epoch 46/60\n",
            "3892/3892 [==============================] - 1s 312us/step - loss: 0.0507 - accuracy: 0.9887 - val_loss: 0.3301 - val_accuracy: 0.9245\n",
            "Epoch 47/60\n",
            "3892/3892 [==============================] - 1s 305us/step - loss: 0.0501 - accuracy: 0.9925 - val_loss: 0.3301 - val_accuracy: 0.9245\n",
            "Epoch 48/60\n",
            "3892/3892 [==============================] - 1s 310us/step - loss: 0.0515 - accuracy: 0.9902 - val_loss: 0.3301 - val_accuracy: 0.9245\n",
            "Epoch 49/60\n",
            "3892/3892 [==============================] - 1s 311us/step - loss: 0.0485 - accuracy: 0.9920 - val_loss: 0.3301 - val_accuracy: 0.9245\n",
            "Epoch 50/60\n",
            "3892/3892 [==============================] - 1s 311us/step - loss: 0.0499 - accuracy: 0.9910 - val_loss: 0.3301 - val_accuracy: 0.9245\n",
            "Epoch 51/60\n",
            "3892/3892 [==============================] - 1s 315us/step - loss: 0.0500 - accuracy: 0.9913 - val_loss: 0.3301 - val_accuracy: 0.9245\n",
            "Epoch 52/60\n",
            "3892/3892 [==============================] - 1s 314us/step - loss: 0.0502 - accuracy: 0.9905 - val_loss: 0.3301 - val_accuracy: 0.9245\n",
            "Epoch 53/60\n",
            "3892/3892 [==============================] - 1s 312us/step - loss: 0.0504 - accuracy: 0.9913 - val_loss: 0.3301 - val_accuracy: 0.9245\n",
            "Epoch 54/60\n",
            "3892/3892 [==============================] - 1s 311us/step - loss: 0.0507 - accuracy: 0.9913 - val_loss: 0.3302 - val_accuracy: 0.9245\n",
            "Epoch 55/60\n",
            "3892/3892 [==============================] - 1s 306us/step - loss: 0.0490 - accuracy: 0.9923 - val_loss: 0.3302 - val_accuracy: 0.9245\n",
            "Epoch 56/60\n",
            "3892/3892 [==============================] - 1s 310us/step - loss: 0.0479 - accuracy: 0.9931 - val_loss: 0.3302 - val_accuracy: 0.9245\n",
            "Epoch 57/60\n",
            "3892/3892 [==============================] - 1s 309us/step - loss: 0.0494 - accuracy: 0.9925 - val_loss: 0.3302 - val_accuracy: 0.9245\n",
            "Epoch 58/60\n",
            "3892/3892 [==============================] - 1s 317us/step - loss: 0.0506 - accuracy: 0.9902 - val_loss: 0.3302 - val_accuracy: 0.9245\n",
            "Epoch 59/60\n",
            "3892/3892 [==============================] - 1s 315us/step - loss: 0.0497 - accuracy: 0.9913 - val_loss: 0.3302 - val_accuracy: 0.9245\n",
            "Epoch 60/60\n",
            "3892/3892 [==============================] - 1s 317us/step - loss: 0.0482 - accuracy: 0.9928 - val_loss: 0.3302 - val_accuracy: 0.9245\n",
            "Elapsed time: 1586994897.379362 1586994824.6111887\n",
            "Elapsed time during the whole program in nanoseconds: 72.76817345619202\n"
          ],
          "name": "stdout"
        }
      ]
    },
    {
      "cell_type": "code",
      "metadata": {
        "id": "ZuzouK3LRRkX",
        "colab_type": "code",
        "outputId": "96d940f2-fc04-4e6f-ea47-46eaaf63fb21",
        "colab": {
          "base_uri": "https://localhost:8080/",
          "height": 811
        }
      },
      "source": [
        "# Plot the loss function\n",
        "fig, ax = plt.subplots(1, 1, figsize=(10,6))\n",
        "ax.plot(np.sqrt(ex_deep_model_hystory.history['loss']), 'r', label='train')\n",
        "ax.plot(np.sqrt(ex_deep_model_hystory.history['val_loss']), 'b' ,label='val')\n",
        "ax.set_xlabel(r'Epoch', fontsize=20)\n",
        "ax.set_ylabel(r'Loss', fontsize=20)\n",
        "ax.set_ylim(0, 1)\n",
        "ax.legend()\n",
        "ax.tick_params(labelsize=20)\n",
        "\n",
        "# Plot the accuracy\n",
        "fig, ax = plt.subplots(1, 1, figsize=(10,6))\n",
        "ax.plot(np.sqrt(ex_deep_model_hystory.history['accuracy']), 'r', label='train')\n",
        "ax.plot(np.sqrt(ex_deep_model_hystory.history['val_accuracy']), 'b' ,label='val')\n",
        "ax.set_xlabel(r'Epoch', fontsize=20)\n",
        "ax.set_ylabel(r'Accuracy', fontsize=20)\n",
        "ax.set_ylim(0, 1)\n",
        "ax.legend()\n",
        "ax.tick_params(labelsize=20)"
      ],
      "execution_count": 0,
      "outputs": [
        {
          "output_type": "display_data",
          "data": {
            "image/png": "[encoded data removed]",
            "text/plain": [
              "<Figure size 720x432 with 1 Axes>"
            ]
          },
          "metadata": {
            "tags": [],
            "needs_background": "light"
          }
        },
        {
          "output_type": "display_data",
          "data": {
            "image/png": "[encoded data removed]",
            "text/plain": [
              "<Figure size 720x432 with 1 Axes>"
            ]
          },
          "metadata": {
            "tags": [],
            "needs_background": "light"
          }
        }
      ]
    },
    {
      "cell_type": "markdown",
      "metadata": {
        "id": "4rGzS7tcSG5r",
        "colab_type": "text"
      },
      "source": [
        "Deciding on the batch size and number of epochs"
      ]
    },
    {
      "cell_type": "code",
      "metadata": {
        "id": "yiHa6zHBSpjZ",
        "colab_type": "code",
        "colab": {}
      },
      "source": [
        "#  build the architecture of the neural network\n",
        "input_dim = X_train_scaled.shape[1]\n",
        "\n",
        "# build the model\n",
        "model = Sequential()\n",
        "\n",
        "model.add(Dense(units=64, kernel_initializer='uniform',activation='relu',input_dim = input_dim))\n",
        "model.add(Dropout(0.1))\n",
        "model.add(Dense(units=64, kernel_initializer='uniform',activation='relu'))\n",
        "model.add(Dense(units=2,kernel_initializer='uniform', activation='softmax'))\n",
        "\n",
        "# defining the parameters for RMSprop (keras defaults here)\n",
        "rms= keras.optimizers.RMSprop(learning_rate=0.001, rho=0.9)"
      ],
      "execution_count": 0,
      "outputs": []
    },
    {
      "cell_type": "code",
      "metadata": {
        "id": "mGfB0BIGUt3E",
        "colab_type": "code",
        "colab": {}
      },
      "source": [
        "# Compile and fit the model\n",
        "\n",
        "model.compile(optimizer=rms, \n",
        "                   loss='categorical_crossentropy', \n",
        "                   metrics=['accuracy'])"
      ],
      "execution_count": 0,
      "outputs": []
    },
    {
      "cell_type": "code",
      "metadata": {
        "id": "w8n16arVRRsR",
        "colab_type": "code",
        "outputId": "b761ecdd-260c-457d-99a7-56dafe797e7e",
        "colab": {
          "base_uri": "https://localhost:8080/",
          "height": 1000
        }
      },
      "source": [
        "# train the Model\n",
        "batch_size=input_dim\n",
        "epochs = 60\n",
        "\n",
        "model_history = model.fit(X_train_scaled, y_train_categorical,\n",
        "                                    batch_size=batch_size,\n",
        "                                    epochs=epochs,\n",
        "                                    verbose=1,\n",
        "                                    validation_data = (X_test_scaled,y_test_categorical))\n",
        "\n"
      ],
      "execution_count": 0,
      "outputs": [
        {
          "output_type": "stream",
          "text": [
            "Train on 3892 samples, validate on 1298 samples\n",
            "Epoch 1/60\n",
            "3892/3892 [==============================] - 1s 317us/step - loss: 0.6711 - accuracy: 0.6377 - val_loss: 0.6729 - val_accuracy: 0.6641\n",
            "Epoch 2/60\n",
            "3892/3892 [==============================] - 1s 316us/step - loss: 0.6716 - accuracy: 0.6328 - val_loss: 0.6729 - val_accuracy: 0.6641\n",
            "Epoch 3/60\n",
            "3892/3892 [==============================] - 1s 228us/step - loss: 0.6718 - accuracy: 0.6372 - val_loss: 0.6728 - val_accuracy: 0.6641\n",
            "Epoch 4/60\n",
            "3892/3892 [==============================] - 1s 222us/step - loss: 0.6721 - accuracy: 0.6403 - val_loss: 0.6728 - val_accuracy: 0.6641\n",
            "Epoch 5/60\n",
            "3892/3892 [==============================] - 1s 221us/step - loss: 0.6716 - accuracy: 0.6372 - val_loss: 0.6728 - val_accuracy: 0.6641\n",
            "Epoch 6/60\n",
            "3892/3892 [==============================] - 1s 220us/step - loss: 0.6715 - accuracy: 0.6326 - val_loss: 0.6728 - val_accuracy: 0.6641\n",
            "Epoch 7/60\n",
            "3892/3892 [==============================] - 1s 223us/step - loss: 0.6718 - accuracy: 0.6380 - val_loss: 0.6728 - val_accuracy: 0.6641\n",
            "Epoch 8/60\n",
            "3892/3892 [==============================] - 1s 222us/step - loss: 0.6707 - accuracy: 0.6472 - val_loss: 0.6728 - val_accuracy: 0.6641\n",
            "Epoch 9/60\n",
            "3892/3892 [==============================] - 1s 222us/step - loss: 0.6719 - accuracy: 0.6375 - val_loss: 0.6728 - val_accuracy: 0.6641\n",
            "Epoch 10/60\n",
            "3892/3892 [==============================] - 1s 222us/step - loss: 0.6716 - accuracy: 0.6439 - val_loss: 0.6728 - val_accuracy: 0.6641\n",
            "Epoch 11/60\n",
            "3892/3892 [==============================] - 1s 223us/step - loss: 0.6707 - accuracy: 0.6387 - val_loss: 0.6727 - val_accuracy: 0.6656\n",
            "Epoch 12/60\n",
            "3892/3892 [==============================] - 1s 222us/step - loss: 0.6708 - accuracy: 0.6382 - val_loss: 0.6727 - val_accuracy: 0.6664\n",
            "Epoch 13/60\n",
            "3892/3892 [==============================] - 1s 224us/step - loss: 0.6717 - accuracy: 0.6380 - val_loss: 0.6727 - val_accuracy: 0.6664\n",
            "Epoch 14/60\n",
            "3892/3892 [==============================] - 1s 221us/step - loss: 0.6712 - accuracy: 0.6444 - val_loss: 0.6727 - val_accuracy: 0.6664\n",
            "Epoch 15/60\n",
            "3892/3892 [==============================] - 1s 220us/step - loss: 0.6714 - accuracy: 0.6395 - val_loss: 0.6727 - val_accuracy: 0.6664\n",
            "Epoch 16/60\n",
            "3892/3892 [==============================] - 1s 222us/step - loss: 0.6717 - accuracy: 0.6390 - val_loss: 0.6727 - val_accuracy: 0.6664\n",
            "Epoch 17/60\n",
            "3892/3892 [==============================] - 1s 221us/step - loss: 0.6716 - accuracy: 0.6372 - val_loss: 0.6727 - val_accuracy: 0.6664\n",
            "Epoch 18/60\n",
            "3892/3892 [==============================] - 1s 222us/step - loss: 0.6710 - accuracy: 0.6395 - val_loss: 0.6726 - val_accuracy: 0.6664\n",
            "Epoch 19/60\n",
            "3892/3892 [==============================] - 1s 223us/step - loss: 0.6718 - accuracy: 0.6400 - val_loss: 0.6726 - val_accuracy: 0.6664\n",
            "Epoch 20/60\n",
            "3892/3892 [==============================] - 1s 224us/step - loss: 0.6723 - accuracy: 0.6380 - val_loss: 0.6726 - val_accuracy: 0.6664\n",
            "Epoch 21/60\n",
            "3892/3892 [==============================] - 1s 222us/step - loss: 0.6710 - accuracy: 0.6369 - val_loss: 0.6726 - val_accuracy: 0.6672\n",
            "Epoch 22/60\n",
            "3892/3892 [==============================] - 1s 220us/step - loss: 0.6712 - accuracy: 0.6408 - val_loss: 0.6726 - val_accuracy: 0.6672\n",
            "Epoch 23/60\n",
            "3892/3892 [==============================] - 1s 223us/step - loss: 0.6710 - accuracy: 0.6380 - val_loss: 0.6726 - val_accuracy: 0.6672\n",
            "Epoch 24/60\n",
            "3892/3892 [==============================] - 1s 221us/step - loss: 0.6717 - accuracy: 0.6375 - val_loss: 0.6725 - val_accuracy: 0.6672\n",
            "Epoch 25/60\n",
            "3892/3892 [==============================] - 1s 224us/step - loss: 0.6712 - accuracy: 0.6411 - val_loss: 0.6725 - val_accuracy: 0.6672\n",
            "Epoch 26/60\n",
            "3892/3892 [==============================] - 1s 224us/step - loss: 0.6711 - accuracy: 0.6485 - val_loss: 0.6725 - val_accuracy: 0.6672\n",
            "Epoch 27/60\n",
            "3892/3892 [==============================] - 1s 223us/step - loss: 0.6714 - accuracy: 0.6444 - val_loss: 0.6725 - val_accuracy: 0.6672\n",
            "Epoch 28/60\n",
            "3892/3892 [==============================] - 1s 222us/step - loss: 0.6709 - accuracy: 0.6421 - val_loss: 0.6725 - val_accuracy: 0.6672\n",
            "Epoch 29/60\n",
            "3892/3892 [==============================] - 1s 222us/step - loss: 0.6713 - accuracy: 0.6323 - val_loss: 0.6725 - val_accuracy: 0.6672\n",
            "Epoch 30/60\n",
            "3892/3892 [==============================] - 1s 223us/step - loss: 0.6706 - accuracy: 0.6444 - val_loss: 0.6724 - val_accuracy: 0.6687\n",
            "Epoch 31/60\n",
            "3892/3892 [==============================] - 1s 224us/step - loss: 0.6708 - accuracy: 0.6429 - val_loss: 0.6724 - val_accuracy: 0.6687\n",
            "Epoch 32/60\n",
            "3892/3892 [==============================] - 1s 221us/step - loss: 0.6711 - accuracy: 0.6393 - val_loss: 0.6724 - val_accuracy: 0.6687\n",
            "Epoch 33/60\n",
            "3892/3892 [==============================] - 1s 222us/step - loss: 0.6707 - accuracy: 0.6447 - val_loss: 0.6724 - val_accuracy: 0.6687\n",
            "Epoch 34/60\n",
            "3892/3892 [==============================] - 1s 223us/step - loss: 0.6710 - accuracy: 0.6444 - val_loss: 0.6724 - val_accuracy: 0.6687\n",
            "Epoch 35/60\n",
            "3892/3892 [==============================] - 1s 224us/step - loss: 0.6709 - accuracy: 0.6387 - val_loss: 0.6724 - val_accuracy: 0.6687\n",
            "Epoch 36/60\n",
            "3892/3892 [==============================] - 1s 223us/step - loss: 0.6715 - accuracy: 0.6377 - val_loss: 0.6724 - val_accuracy: 0.6687\n",
            "Epoch 37/60\n",
            "3892/3892 [==============================] - 1s 222us/step - loss: 0.6706 - accuracy: 0.6467 - val_loss: 0.6723 - val_accuracy: 0.6687\n",
            "Epoch 38/60\n",
            "3892/3892 [==============================] - 1s 223us/step - loss: 0.6720 - accuracy: 0.6308 - val_loss: 0.6723 - val_accuracy: 0.6687\n",
            "Epoch 39/60\n",
            "3892/3892 [==============================] - 1s 223us/step - loss: 0.6716 - accuracy: 0.6354 - val_loss: 0.6723 - val_accuracy: 0.6687\n",
            "Epoch 40/60\n",
            "3892/3892 [==============================] - 1s 222us/step - loss: 0.6711 - accuracy: 0.6357 - val_loss: 0.6723 - val_accuracy: 0.6695\n",
            "Epoch 41/60\n",
            "3892/3892 [==============================] - 1s 221us/step - loss: 0.6709 - accuracy: 0.6387 - val_loss: 0.6723 - val_accuracy: 0.6695\n",
            "Epoch 42/60\n",
            "3892/3892 [==============================] - 1s 223us/step - loss: 0.6712 - accuracy: 0.6462 - val_loss: 0.6723 - val_accuracy: 0.6695\n",
            "Epoch 43/60\n",
            "3892/3892 [==============================] - 1s 220us/step - loss: 0.6707 - accuracy: 0.6488 - val_loss: 0.6722 - val_accuracy: 0.6695\n",
            "Epoch 44/60\n",
            "3892/3892 [==============================] - 1s 220us/step - loss: 0.6709 - accuracy: 0.6413 - val_loss: 0.6722 - val_accuracy: 0.6695\n",
            "Epoch 45/60\n",
            "3892/3892 [==============================] - 1s 220us/step - loss: 0.6717 - accuracy: 0.6344 - val_loss: 0.6722 - val_accuracy: 0.6695\n",
            "Epoch 46/60\n",
            "3892/3892 [==============================] - 1s 221us/step - loss: 0.6714 - accuracy: 0.6344 - val_loss: 0.6722 - val_accuracy: 0.6695\n",
            "Epoch 47/60\n",
            "3892/3892 [==============================] - 1s 223us/step - loss: 0.6696 - accuracy: 0.6511 - val_loss: 0.6722 - val_accuracy: 0.6703\n",
            "Epoch 48/60\n",
            "3892/3892 [==============================] - 1s 222us/step - loss: 0.6714 - accuracy: 0.6426 - val_loss: 0.6722 - val_accuracy: 0.6703\n",
            "Epoch 49/60\n",
            "3892/3892 [==============================] - 1s 221us/step - loss: 0.6704 - accuracy: 0.6380 - val_loss: 0.6722 - val_accuracy: 0.6703\n",
            "Epoch 50/60\n",
            "3892/3892 [==============================] - 1s 222us/step - loss: 0.6704 - accuracy: 0.6447 - val_loss: 0.6721 - val_accuracy: 0.6703\n",
            "Epoch 51/60\n",
            "3892/3892 [==============================] - 1s 222us/step - loss: 0.6703 - accuracy: 0.6393 - val_loss: 0.6721 - val_accuracy: 0.6710\n",
            "Epoch 52/60\n",
            "3892/3892 [==============================] - 1s 220us/step - loss: 0.6708 - accuracy: 0.6416 - val_loss: 0.6721 - val_accuracy: 0.6710\n",
            "Epoch 53/60\n",
            "3892/3892 [==============================] - 1s 220us/step - loss: 0.6704 - accuracy: 0.6465 - val_loss: 0.6721 - val_accuracy: 0.6710\n",
            "Epoch 54/60\n",
            "3892/3892 [==============================] - 1s 220us/step - loss: 0.6710 - accuracy: 0.6449 - val_loss: 0.6721 - val_accuracy: 0.6710\n",
            "Epoch 55/60\n",
            "3892/3892 [==============================] - 1s 220us/step - loss: 0.6701 - accuracy: 0.6516 - val_loss: 0.6721 - val_accuracy: 0.6710\n",
            "Epoch 56/60\n",
            "3892/3892 [==============================] - 1s 220us/step - loss: 0.6712 - accuracy: 0.6411 - val_loss: 0.6720 - val_accuracy: 0.6710\n",
            "Epoch 57/60\n",
            "3892/3892 [==============================] - 1s 222us/step - loss: 0.6714 - accuracy: 0.6357 - val_loss: 0.6720 - val_accuracy: 0.6710\n",
            "Epoch 58/60\n",
            "3892/3892 [==============================] - 1s 221us/step - loss: 0.6701 - accuracy: 0.6462 - val_loss: 0.6720 - val_accuracy: 0.6710\n",
            "Epoch 59/60\n",
            "3892/3892 [==============================] - 1s 222us/step - loss: 0.6708 - accuracy: 0.6462 - val_loss: 0.6720 - val_accuracy: 0.6710\n",
            "Epoch 60/60\n",
            "3892/3892 [==============================] - 1s 222us/step - loss: 0.6715 - accuracy: 0.6467 - val_loss: 0.6720 - val_accuracy: 0.6710\n"
          ],
          "name": "stdout"
        }
      ]
    },
    {
      "cell_type": "code",
      "metadata": {
        "id": "ySjuNKpTRR5U",
        "colab_type": "code",
        "colab": {}
      },
      "source": [
        ""
      ],
      "execution_count": 0,
      "outputs": []
    },
    {
      "cell_type": "code",
      "metadata": {
        "id": "T41gupifYKEM",
        "colab_type": "code",
        "outputId": "804880c2-c94e-4aa2-c64e-3e9eb0d286ef",
        "colab": {
          "base_uri": "https://localhost:8080/",
          "height": 832
        }
      },
      "source": [
        "score = model.evaluate(X_test_scaled,y_test_categorical, verbose=0)\n",
        "print('Test loss:', score[0])\n",
        "print('Test accuracy:', score[1])\n",
        "\n",
        "fig, ax = plt.subplots(1, 1, figsize=(10,6))\n",
        "ax.plot(np.sqrt(model_history.history['accuracy']), 'r', label='train_acc')\n",
        "ax.plot(np.sqrt(model_history.history['val_accuracy']), 'b' ,label='val_acc')\n",
        "ax.set_xlabel(r'Epoch', fontsize=20)\n",
        "ax.set_ylabel(r'Accuracy', fontsize=20)\n",
        "ax.legend()\n",
        "ax.tick_params(labelsize=20)\n",
        "\n",
        "fig, ax = plt.subplots(1, 1, figsize=(10,6))\n",
        "ax.plot(np.sqrt(model_history.history['loss']), 'r', label='train')\n",
        "ax.plot(np.sqrt(model_history.history['val_loss']), 'b' ,label='val')\n",
        "ax.set_xlabel(r'Epoch', fontsize=20)\n",
        "ax.set_ylabel(r'Loss', fontsize=20)\n",
        "ax.legend()\n",
        "ax.tick_params(labelsize=20)\n"
      ],
      "execution_count": 0,
      "outputs": [
        {
          "output_type": "stream",
          "text": [
            "Test loss: 0.671979922910317\n",
            "Test accuracy: 0.6710323691368103\n"
          ],
          "name": "stdout"
        },
        {
          "output_type": "display_data",
          "data": {
            "image/png": "[encoded data removed]",
            "text/plain": [
              "<Figure size 720x432 with 1 Axes>"
            ]
          },
          "metadata": {
            "tags": [],
            "needs_background": "light"
          }
        },
        {
          "output_type": "display_data",
          "data": {
            "image/png": "[encoded data removed]",
            "text/plain": [
              "<Figure size 720x432 with 1 Axes>"
            ]
          },
          "metadata": {
            "tags": [],
            "needs_background": "light"
          }
        }
      ]
    },
    {
      "cell_type": "code",
      "metadata": {
        "id": "l50EWJ7wYKNC",
        "colab_type": "code",
        "colab": {}
      },
      "source": [
        ""
      ],
      "execution_count": 0,
      "outputs": []
    },
    {
      "cell_type": "code",
      "metadata": {
        "id": "1SYHbJsGzdri",
        "colab_type": "code",
        "colab": {}
      },
      "source": [
        ""
      ],
      "execution_count": 0,
      "outputs": []
    },
    {
      "cell_type": "code",
      "metadata": {
        "id": "_gFgDtjBRQt-",
        "colab_type": "code",
        "colab": {}
      },
      "source": [
        "# Evaluate the model using the testing data\n",
        "model_loss, model_accuracy = deep_model.evaluate(\n",
        "    X_test_scaled, y_test_categorical, verbose=2)"
      ],
      "execution_count": 0,
      "outputs": []
    },
    {
      "cell_type": "code",
      "metadata": {
        "id": "kam0W3AUixUG",
        "colab_type": "code",
        "colab": {}
      },
      "source": [
        "predictions = deep_model.predict(X_test_scaled)\n",
        "predictions = np.around(predictions , decimals = 0)"
      ],
      "execution_count": 0,
      "outputs": []
    },
    {
      "cell_type": "code",
      "metadata": {
        "id": "Eto227TQzd1v",
        "colab_type": "code",
        "outputId": "d5ed5f41-def1-4ea8-b037-4bb57bfd0073",
        "colab": {
          "base_uri": "https://localhost:8080/",
          "height": 187
        }
      },
      "source": [
        "# Calculate classification report\n",
        "\n",
        "print(classification_report(y_test_categorical, predictions,\n",
        "                            target_names= [\"real\", \"fake\"]))"
      ],
      "execution_count": 0,
      "outputs": [
        {
          "output_type": "stream",
          "text": [
            "              precision    recall  f1-score   support\n",
            "\n",
            "        real       0.96      0.94      0.95      1095\n",
            "        fake       0.71      0.81      0.75       203\n",
            "\n",
            "   micro avg       0.92      0.92      0.92      1298\n",
            "   macro avg       0.84      0.87      0.85      1298\n",
            "weighted avg       0.92      0.92      0.92      1298\n",
            " samples avg       0.92      0.92      0.92      1298\n",
            "\n"
          ],
          "name": "stdout"
        }
      ]
    },
    {
      "cell_type": "markdown",
      "metadata": {
        "id": "i5V9CPBrxEzF",
        "colab_type": "text"
      },
      "source": [
        "Save the model"
      ]
    },
    {
      "cell_type": "code",
      "metadata": {
        "id": "Q4NDAaX-xCrN",
        "colab_type": "code",
        "outputId": "a0a4f001-71ea-4748-8e9c-ccc9a9a8483a",
        "colab": {
          "base_uri": "https://localhost:8080/",
          "height": 122
        }
      },
      "source": [
        "# save the model\n",
        "from google.colab import drive\n",
        "drive.mount('/content/drive')"
      ],
      "execution_count": 0,
      "outputs": [
        {
          "output_type": "stream",
          "text": [
            "Go to this URL in a browser: https://accounts.google.com/o/oauth2/auth?client_id=947318989803-6bn6qk8qdgf4n4g3pfee6491hc0brc4i.apps.googleusercontent.com&redirect_uri=urn%3aietf%3awg%3aoauth%3a2.0%3aoob&response_type=code&scope=email%20https%3a%2f%2fwww.googleapis.com%2fauth%2fdocs.test%20https%3a%2f%2fwww.googleapis.com%2fauth%2fdrive%20https%3a%2f%2fwww.googleapis.com%2fauth%2fdrive.photos.readonly%20https%3a%2f%2fwww.googleapis.com%2fauth%2fpeopleapi.readonly\n",
            "\n",
            "Enter your authorization code:\n",
            "··········\n",
            "Mounted at /content/drive\n"
          ],
          "name": "stdout"
        }
      ]
    },
    {
      "cell_type": "code",
      "metadata": {
        "id": "iFlNrvptwm5Y",
        "colab_type": "code",
        "colab": {}
      },
      "source": [
        "# Save to the model to the local drive\n",
        "from tensorflow.keras.models import load_model\n",
        "\n",
        "filenamel = '/content/drive/My Drive/DeepLearningOptimized.h5'\n",
        "deep_model.save(filenamel)"
      ],
      "execution_count": 0,
      "outputs": []
    },
    {
      "cell_type": "code",
      "metadata": {
        "id": "TcIJ1wD0w2QO",
        "colab_type": "code",
        "outputId": "616ee8f5-4909-4d93-9b28-4faa2445afee",
        "colab": {
          "base_uri": "https://localhost:8080/",
          "height": 51
        }
      },
      "source": [
        "# Load the model\n",
        "loaded_deep_model= load_model(filenamel)\n",
        "\n",
        "model_loss, model_accuracy = loaded_deep_model.evaluate(\n",
        "    X_test_scaled, y_test_categorical, verbose=2)"
      ],
      "execution_count": 0,
      "outputs": [
        {
          "output_type": "stream",
          "text": [
            "WARNING:tensorflow:Error in loading the saved optimizer state. As a result, your model is starting with a freshly initialized optimizer.\n",
            "41/41 - 0s - loss: 0.3375 - accuracy: 0.9176\n"
          ],
          "name": "stdout"
        }
      ]
    },
    {
      "cell_type": "code",
      "metadata": {
        "id": "cqB8Z1BBztGZ",
        "colab_type": "code",
        "colab": {}
      },
      "source": [
        ""
      ],
      "execution_count": 0,
      "outputs": []
    }
  ]
}