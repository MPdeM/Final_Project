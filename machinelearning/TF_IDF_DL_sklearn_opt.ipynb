{
  "nbformat": 4,
  "nbformat_minor": 0,
  "metadata": {
    "colab": {
      "name": "TF_IDF_DL_sklearn_opt.ipynb",
      "provenance": [],
      "collapsed_sections": [],
      "machine_shape": "hm"
    },
    "kernel_info": {
      "name": "python3"
    },
    "kernelspec": {
      "display_name": "Python 3",
      "language": "python",
      "name": "python3"
    },
    "language_info": {
      "codemirror_mode": {
        "name": "ipython",
        "version": 3
      },
      "file_extension": ".py",
      "mimetype": "text/x-python",
      "name": "python",
      "nbconvert_exporter": "python",
      "pygments_lexer": "ipython3",
      "version": "3.7.3"
    },
    "latex_envs": {
      "LaTeX_envs_menu_present": true,
      "autoclose": false,
      "autocomplete": true,
      "bibliofile": "biblio.bib",
      "cite_by": "apalike",
      "current_citInitial": 1,
      "eqLabelWithNumbers": true,
      "eqNumInitial": 1,
      "hotkeys": {
        "equation": "Ctrl-E",
        "itemize": "Ctrl-I"
      },
      "labels_anchors": false,
      "latex_user_defs": false,
      "report_style_numbering": false,
      "user_envs_cfg": false
    },
    "nteract": {
      "version": "0.11.2"
    },
    "varInspector": {
      "cols": {
        "lenName": 16,
        "lenType": 16,
        "lenVar": 40
      },
      "kernels_config": {
        "python": {
          "delete_cmd_postfix": "",
          "delete_cmd_prefix": "del ",
          "library": "var_list.py",
          "varRefreshCmd": "print(var_dic_list())"
        },
        "r": {
          "delete_cmd_postfix": ") ",
          "delete_cmd_prefix": "rm(",
          "library": "var_list.r",
          "varRefreshCmd": "cat(var_dic_list()) "
        }
      },
      "types_to_exclude": [
        "module",
        "function",
        "builtin_function_or_method",
        "instance",
        "_Feature"
      ],
      "window_display": false
    }
  },
  "cells": [
    {
      "cell_type": "code",
      "metadata": {
        "id": "GKlUVRfGF4j3",
        "colab_type": "code",
        "colab": {}
      },
      "source": [
        "# Dependencies\n",
        "import pandas as pd \n",
        "import numpy as np\n",
        "import matplotlib as mpl\n",
        "import matplotlib.pyplot as plt\n",
        "from time import time\n",
        "from sklearn.metrics import classification_report\n",
        "\n",
        "import warnings\n",
        "warnings.filterwarnings(\"ignore\")"
      ],
      "execution_count": 0,
      "outputs": []
    },
    {
      "cell_type": "code",
      "metadata": {
        "colab_type": "code",
        "id": "qnI0zdY5NYCJ",
        "colab": {}
      },
      "source": [
        "# Read in data from S3 Buckets\n",
        "url = \"https://job-postings-dataviz.s3.amazonaws.com/fake_jobs_clean.csv\"\n",
        "df = pd.read_csv(url, sep=\",\",  encoding = \"UTF-8\" )\n",
        "\n",
        "# Show DataFrame\n",
        "# df.head()"
      ],
      "execution_count": 0,
      "outputs": []
    },
    {
      "cell_type": "code",
      "metadata": {
        "id": "XXYl4Sb5yXEW",
        "colab_type": "code",
        "outputId": "56b17bc5-42dc-482e-80a2-3ca557ae6557",
        "colab": {
          "base_uri": "https://localhost:8080/",
          "height": 80
        }
      },
      "source": [
        "# Focus only on the job description. Create a dataFrame with label \"fraudulent\" and \"description\"\n",
        "descrip_df =df [['fraudulent','description']]\n",
        "descrip_df.head(1)"
      ],
      "execution_count": 5,
      "outputs": [
        {
          "output_type": "execute_result",
          "data": {
            "text/html": [
              "<div>\n",
              "<style scoped>\n",
              "    .dataframe tbody tr th:only-of-type {\n",
              "        vertical-align: middle;\n",
              "    }\n",
              "\n",
              "    .dataframe tbody tr th {\n",
              "        vertical-align: top;\n",
              "    }\n",
              "\n",
              "    .dataframe thead th {\n",
              "        text-align: right;\n",
              "    }\n",
              "</style>\n",
              "<table border=\"1\" class=\"dataframe\">\n",
              "  <thead>\n",
              "    <tr style=\"text-align: right;\">\n",
              "      <th></th>\n",
              "      <th>fraudulent</th>\n",
              "      <th>description</th>\n",
              "    </tr>\n",
              "  </thead>\n",
              "  <tbody>\n",
              "    <tr>\n",
              "      <th>0</th>\n",
              "      <td>0</td>\n",
              "      <td>Food52, a fast-growing, James Beard Award-winn...</td>\n",
              "    </tr>\n",
              "  </tbody>\n",
              "</table>\n",
              "</div>"
            ],
            "text/plain": [
              "   fraudulent                                        description\n",
              "0           0  Food52, a fast-growing, James Beard Award-winn..."
            ]
          },
          "metadata": {
            "tags": []
          },
          "execution_count": 5
        }
      ]
    },
    {
      "cell_type": "code",
      "metadata": {
        "id": "snvFNqMWy_EJ",
        "colab_type": "code",
        "outputId": "83a3c9d4-a332-4da2-e870-26589baf3066",
        "colab": {
          "base_uri": "https://localhost:8080/",
          "height": 51
        }
      },
      "source": [
        "# Drop NaN values but dropping duplicates is qustionable\n",
        "# these duplicates are real data and contribute to both classes\n",
        "print(len(descrip_df))\n",
        "descrip_df= descrip_df.dropna()\n",
        "print(len(descrip_df))\n",
        "# descrip_df = descrip_df.drop_duplicates()\n",
        "# print(descrip_df.count())"
      ],
      "execution_count": 6,
      "outputs": [
        {
          "output_type": "stream",
          "text": [
            "17880\n",
            "17879\n"
          ],
          "name": "stdout"
        }
      ]
    },
    {
      "cell_type": "code",
      "metadata": {
        "id": "y0X2zMMb-nel",
        "colab_type": "code",
        "outputId": "fbc5f541-c190-4736-bf37-dd9450847cdc",
        "colab": {
          "base_uri": "https://localhost:8080/",
          "height": 51
        }
      },
      "source": [
        "# Distrubution of the classes real vs fraudulent (fake) :\n",
        "# tha dataset is higthly inbalance\n",
        "df_fake= descrip_df[descrip_df['fraudulent'] == 1] \n",
        "df_real = descrip_df[descrip_df['fraudulent'] == 0] \n",
        "# Count how many Real vs Fraudulent postings\n",
        "n_f=len(df_fake)\n",
        "n_n=len(df_real)\n",
        "print(n_f)\n",
        "print(n_n)"
      ],
      "execution_count": 7,
      "outputs": [
        {
          "output_type": "stream",
          "text": [
            "865\n",
            "17014\n"
          ],
          "name": "stdout"
        }
      ]
    },
    {
      "cell_type": "markdown",
      "metadata": {
        "id": "e9xMjAiMXGXN",
        "colab_type": "text"
      },
      "source": [
        "Create a data set with a more balance distribution (5:1 real:fake posts)"
      ]
    },
    {
      "cell_type": "code",
      "metadata": {
        "id": "jxHYA8O2U3mP",
        "colab_type": "code",
        "outputId": "669c6244-2fc9-4f6a-b2fd-9034d499ea6f",
        "colab": {
          "base_uri": "https://localhost:8080/",
          "height": 51
        }
      },
      "source": [
        "df_new= df_real.sample  ( 5*n_f  , random_state=580)\n",
        "df_unders = df_new.append(df_fake)\n",
        "print(len(df_new))\n",
        "print(len(df_unders))"
      ],
      "execution_count": 8,
      "outputs": [
        {
          "output_type": "stream",
          "text": [
            "4325\n",
            "5190\n"
          ],
          "name": "stdout"
        }
      ]
    },
    {
      "cell_type": "code",
      "metadata": {
        "id": "R68dml7fs9QU",
        "colab_type": "code",
        "colab": {}
      },
      "source": [
        "# Shuffle the dataframe \n",
        "df_underst = df_unders.sample(len(df_unders), random_state=580) "
      ],
      "execution_count": 0,
      "outputs": []
    },
    {
      "cell_type": "code",
      "metadata": {
        "id": "WDMjIbAA-5XS",
        "colab_type": "code",
        "outputId": "656b07cd-9521-44d7-ca4b-9d121e2b65c4",
        "colab": {
          "base_uri": "https://localhost:8080/",
          "height": 564
        }
      },
      "source": [
        "# Plot the original class distribution and the new distribution\n",
        "\n",
        "fig, axes = plt.subplots(ncols=2, figsize=(8, 4), dpi=100)\n",
        "plt.tight_layout()\n",
        "descrip_df[\"fraudulent\"].value_counts().plot.bar (ax = axes[0])\n",
        "df_underst[\"fraudulent\"].value_counts().plot.bar (ax = axes[1])\n",
        "\n",
        "axes[0].set_ylabel(' ')\n",
        "axes[0].set_xticklabels([\"Real Post (17014) [0's]\", \"Fake Post (865) [1's]\"])\n",
        "axes[1].set_ylabel(' ')\n",
        "axes[1].set_xticklabels([\"Real Post (4325) [0's]\", \"Fake Post (865) [1's]\"])\n",
        "\n",
        "axes[0].set_title('Class Distribution', fontsize=10)\n",
        "axes[1].set_title('Class reasigment distribution', fontsize=10)\n",
        "\n",
        "plt.show()"
      ],
      "execution_count": 11,
      "outputs": [
        {
          "output_type": "display_data",
          "data": {
            "image/png": "[encoded data removed]",
            "text/plain": [
              "<Figure size 800x400 with 2 Axes>"
            ]
          },
          "metadata": {
            "tags": [],
            "needs_background": "light"
          }
        }
      ]
    },
    {
      "cell_type": "code",
      "metadata": {
        "id": "37ruI4vlzE4q",
        "colab_type": "code",
        "colab": {}
      },
      "source": [
        "# Assign to target (\"fraudulent\") and the text (\"description\")\n",
        "\n",
        "X = df_underst.iloc[:,1].values\n",
        "target = df_underst.iloc[:,0].values"
      ],
      "execution_count": 0,
      "outputs": []
    },
    {
      "cell_type": "code",
      "metadata": {
        "colab_type": "code",
        "id": "59dwxefsNYCX",
        "outputId": "18427c65-3a1a-42ab-9b45-c866a5aa58e3",
        "colab": {
          "base_uri": "https://localhost:8080/",
          "height": 51
        }
      },
      "source": [
        "# feature extraction using \"bag of words\" model. Create feature vectors. \n",
        "from sklearn import preprocessing\n",
        "from sklearn.feature_extraction.text import CountVectorizer, TfidfTransformer\n",
        "from nltk.corpus import stopwords\n",
        "import nltk\n",
        "nltk.download('stopwords')\n",
        "from nltk.corpus import stopwords\n",
        "STOPWORDS = set(stopwords.words('english'))\n",
        "\n",
        "\n",
        "count_vectorizer = CountVectorizer( stop_words=stopwords.words('english'))\n",
        "tfidfconverter = TfidfTransformer()"
      ],
      "execution_count": 13,
      "outputs": [
        {
          "output_type": "stream",
          "text": [
            "[nltk_data] Downloading package stopwords to /root/nltk_data...\n",
            "[nltk_data]   Unzipping corpora/stopwords.zip.\n"
          ],
          "name": "stdout"
        }
      ]
    },
    {
      "cell_type": "code",
      "metadata": {
        "id": "mm6PeiIraUsz",
        "colab_type": "code",
        "colab": {}
      },
      "source": [
        "#  apply the transformations\n",
        "\n",
        "X_c = count_vectorizer.fit_transform(X)\n",
        "X_tfidf = tfidfconverter.fit_transform(X_c).toarray()"
      ],
      "execution_count": 0,
      "outputs": []
    },
    {
      "cell_type": "markdown",
      "metadata": {
        "id": "7i5UO0V7Jjtv",
        "colab_type": "text"
      },
      "source": [
        "Dividing data into Training and Test sets"
      ]
    },
    {
      "cell_type": "code",
      "metadata": {
        "id": "t_UhbYQQTQM8",
        "colab_type": "code",
        "colab": {}
      },
      "source": [
        "# Break the data in train and test datasets\n",
        "from sklearn.model_selection import train_test_split\n",
        "\n",
        "X_train, X_test, y_train, y_test = train_test_split(X_tfidf, target , random_state=580)"
      ],
      "execution_count": 0,
      "outputs": []
    },
    {
      "cell_type": "markdown",
      "metadata": {
        "id": "jttf636GMGLP",
        "colab_type": "text"
      },
      "source": [
        "**TRAINING THE MODEL**"
      ]
    },
    {
      "cell_type": "markdown",
      "metadata": {
        "colab_type": "text",
        "id": "SCfomzDQeMyP"
      },
      "source": [
        "**Deep Learning Model **"
      ]
    },
    {
      "cell_type": "markdown",
      "metadata": {
        "id": "NJVljXgNGj1I",
        "colab_type": "text"
      },
      "source": [
        "scale the data before any neural net"
      ]
    },
    {
      "cell_type": "code",
      "metadata": {
        "id": "yOHWRZk3Ge2P",
        "colab_type": "code",
        "colab": {}
      },
      "source": [
        "# Create a StandardScater model and fit it to the training data\n",
        "from sklearn.preprocessing import StandardScaler, LabelEncoder\n",
        "from tensorflow.keras.utils import to_categorical\n",
        "\n",
        "# Transform the training and testing data using the X_scaler\n",
        "\n",
        "X_scaler = StandardScaler().fit(X_train)\n",
        "X_train_scaled = X_scaler.transform(X_train)\n",
        "X_test_scaled = X_scaler.transform(X_test)"
      ],
      "execution_count": 0,
      "outputs": []
    },
    {
      "cell_type": "code",
      "metadata": {
        "id": "ia5LA2DhGfwC",
        "colab_type": "code",
        "colab": {}
      },
      "source": [
        "# Step 1: Label-encode data set\n",
        "label_encoder = LabelEncoder()\n",
        "label_encoder.fit(y_train)\n",
        "encoded_y_train = label_encoder.transform(y_train)\n",
        "encoded_y_test = label_encoder.transform(y_test)"
      ],
      "execution_count": 0,
      "outputs": []
    },
    {
      "cell_type": "code",
      "metadata": {
        "id": "0DYgtbd4Gsnl",
        "colab_type": "code",
        "colab": {}
      },
      "source": [
        "# Step 2: Convert encoded labels to one-hot-encoding\n",
        "y_train_categorical = to_categorical(encoded_y_train)\n",
        "y_test_categorical = to_categorical(encoded_y_test)"
      ],
      "execution_count": 0,
      "outputs": []
    },
    {
      "cell_type": "code",
      "metadata": {
        "id": "XiytXliHsQik",
        "colab_type": "code",
        "colab": {}
      },
      "source": [
        "# import dependencies \n",
        "import tensorflow as tf\n",
        "import keras\n",
        "from keras import layers , models, utils , losses\n",
        "from keras.layers import Dense, Dropout, Activation\n",
        "from keras.models import Sequential\n",
        "# from keras.regularizers import l2\n",
        "from keras.optimizers import SGD, RMSprop\n",
        "from keras.callbacks import LearningRateScheduler , History\n"
      ],
      "execution_count": 0,
      "outputs": []
    },
    {
      "cell_type": "markdown",
      "metadata": {
        "id": "cfQWXK4FspYq",
        "colab_type": "text"
      },
      "source": [
        "Adjust the learning rate"
      ]
    },
    {
      "cell_type": "code",
      "metadata": {
        "id": "ahXf2NGrs9mC",
        "colab_type": "code",
        "colab": {}
      },
      "source": [
        "epochs=30\n",
        "learning_rate = 0.05\n",
        "decay_rate = learning_rate / epochs\n",
        "momentum = 0.8\n",
        "\n",
        "sgd = SGD(lr=learning_rate, momentum=momentum, decay=decay_rate, nesterov=False)"
      ],
      "execution_count": 0,
      "outputs": []
    },
    {
      "cell_type": "code",
      "metadata": {
        "id": "-uatR2CyR_Su",
        "colab_type": "code",
        "colab": {}
      },
      "source": [
        "#  build the architecture of the neural network\n",
        "input_dim = X_train_scaled.shape[1]\n",
        "\n",
        "deep_model = Sequential()\n",
        "\n",
        "deep_model.add(Dense(units=200, kernel_initializer='uniform',activation='relu',input_dim = input_dim))\n",
        "deep_model.add(Dropout(0.1))\n",
        "deep_model.add(Dense(units=100, kernel_initializer='uniform',activation='relu'))\n",
        "deep_model.add(Dense(units=2,kernel_initializer='uniform', activation='softmax'))"
      ],
      "execution_count": 0,
      "outputs": []
    },
    {
      "cell_type": "code",
      "metadata": {
        "id": "hEevwl1EmX4W",
        "colab_type": "code",
        "colab": {}
      },
      "source": [
        "# Compile and fit the model\n",
        "deep_model.compile(optimizer=sgd, \n",
        "                   loss='categorical_crossentropy', \n",
        "                   metrics=['accuracy'])"
      ],
      "execution_count": 0,
      "outputs": []
    },
    {
      "cell_type": "code",
      "metadata": {
        "id": "aAT6MGiYnX39",
        "colab_type": "code",
        "colab": {
          "base_uri": "https://localhost:8080/",
          "height": 51
        },
        "outputId": "6698fc79-c250-4e0f-ba34-d7a903272248"
      },
      "source": [
        "callbacks_list"
      ],
      "execution_count": 52,
      "outputs": [
        {
          "output_type": "execute_result",
          "data": {
            "text/plain": [
              "[<keras.callbacks.callbacks.History at 0x7f3bc34cfeb8>,\n",
              " <keras.callbacks.callbacks.LearningRateScheduler at 0x7f3bc34cff60>]"
            ]
          },
          "metadata": {
            "tags": []
          },
          "execution_count": 52
        }
      ]
    },
    {
      "cell_type": "code",
      "metadata": {
        "id": "uQMv2O9pzdhi",
        "colab_type": "code",
        "outputId": "6e92e42a-81f4-4a75-80ab-c3b368eed178",
        "colab": {
          "base_uri": "https://localhost:8080/",
          "height": 1000
        }
      },
      "source": [
        "# train the Model\n",
        "batch_size=int(input_dim/100)\n",
        "\n",
        "deep_model_history = deep_model.fit(X_train_scaled, y_train_categorical,\n",
        "                                    batch_size=batch_size,\n",
        "                                    epochs=epochs,\n",
        "                                    verbose=1,\n",
        "                                    validation_data = (X_test_scaled,y_test_categorical))\n"
      ],
      "execution_count": 35,
      "outputs": [
        {
          "output_type": "stream",
          "text": [
            "Train on 3892 samples, validate on 1298 samples\n",
            "Epoch 1/30\n",
            "3892/3892 [==============================] - 2s 535us/step - loss: 0.4841 - accuracy: 0.8273 - val_loss: 0.4164 - val_accuracy: 0.8436\n",
            "Epoch 2/30\n",
            "3892/3892 [==============================] - 2s 472us/step - loss: 0.4167 - accuracy: 0.8299 - val_loss: 0.3862 - val_accuracy: 0.8436\n",
            "Epoch 3/30\n",
            "3892/3892 [==============================] - 2s 469us/step - loss: 0.3527 - accuracy: 0.8440 - val_loss: 0.3335 - val_accuracy: 0.8706\n",
            "Epoch 4/30\n",
            "3892/3892 [==============================] - 2s 464us/step - loss: 0.2497 - accuracy: 0.9018 - val_loss: 0.2966 - val_accuracy: 0.9083\n",
            "Epoch 5/30\n",
            "3892/3892 [==============================] - 2s 479us/step - loss: 0.1368 - accuracy: 0.9502 - val_loss: 0.3115 - val_accuracy: 0.9237\n",
            "Epoch 6/30\n",
            "3892/3892 [==============================] - 2s 461us/step - loss: 0.0606 - accuracy: 0.9812 - val_loss: 0.2991 - val_accuracy: 0.9199\n",
            "Epoch 7/30\n",
            "3892/3892 [==============================] - 2s 471us/step - loss: 0.0256 - accuracy: 0.9954 - val_loss: 0.3249 - val_accuracy: 0.9237\n",
            "Epoch 8/30\n",
            "3892/3892 [==============================] - 2s 476us/step - loss: 0.0153 - accuracy: 0.9977 - val_loss: 0.3584 - val_accuracy: 0.9276\n",
            "Epoch 9/30\n",
            "3892/3892 [==============================] - 2s 467us/step - loss: 0.0088 - accuracy: 0.9990 - val_loss: 0.3785 - val_accuracy: 0.9284\n",
            "Epoch 10/30\n",
            "3892/3892 [==============================] - 2s 473us/step - loss: 0.0082 - accuracy: 0.9979 - val_loss: 0.3753 - val_accuracy: 0.9245\n",
            "Epoch 11/30\n",
            "3892/3892 [==============================] - 2s 478us/step - loss: 0.0059 - accuracy: 0.9995 - val_loss: 0.4249 - val_accuracy: 0.9345\n",
            "Epoch 12/30\n",
            "3892/3892 [==============================] - 2s 473us/step - loss: 0.0058 - accuracy: 0.9990 - val_loss: 0.4077 - val_accuracy: 0.9299\n",
            "Epoch 13/30\n",
            "3892/3892 [==============================] - 2s 477us/step - loss: 0.0035 - accuracy: 0.9997 - val_loss: 0.4000 - val_accuracy: 0.9237\n",
            "Epoch 14/30\n",
            "3892/3892 [==============================] - 2s 473us/step - loss: 0.0032 - accuracy: 0.9997 - val_loss: 0.4342 - val_accuracy: 0.9330\n",
            "Epoch 15/30\n",
            "3892/3892 [==============================] - 2s 475us/step - loss: 0.0024 - accuracy: 0.9997 - val_loss: 0.4348 - val_accuracy: 0.9330\n",
            "Epoch 16/30\n",
            "3892/3892 [==============================] - 2s 483us/step - loss: 0.0024 - accuracy: 0.9997 - val_loss: 0.4292 - val_accuracy: 0.9291\n",
            "Epoch 17/30\n",
            "3892/3892 [==============================] - 2s 473us/step - loss: 0.0016 - accuracy: 1.0000 - val_loss: 0.4375 - val_accuracy: 0.9314\n",
            "Epoch 18/30\n",
            "3892/3892 [==============================] - 2s 473us/step - loss: 0.0018 - accuracy: 1.0000 - val_loss: 0.4414 - val_accuracy: 0.9307\n",
            "Epoch 19/30\n",
            "3892/3892 [==============================] - 2s 476us/step - loss: 0.0016 - accuracy: 0.9997 - val_loss: 0.4391 - val_accuracy: 0.9276\n",
            "Epoch 20/30\n",
            "3892/3892 [==============================] - 2s 474us/step - loss: 0.0020 - accuracy: 0.9995 - val_loss: 0.4332 - val_accuracy: 0.9245\n",
            "Epoch 21/30\n",
            "3892/3892 [==============================] - 2s 478us/step - loss: 0.0028 - accuracy: 0.9995 - val_loss: 0.4646 - val_accuracy: 0.9345\n",
            "Epoch 22/30\n",
            "3892/3892 [==============================] - 2s 478us/step - loss: 0.0013 - accuracy: 1.0000 - val_loss: 0.4587 - val_accuracy: 0.9299\n",
            "Epoch 23/30\n",
            "3892/3892 [==============================] - 2s 465us/step - loss: 0.0012 - accuracy: 1.0000 - val_loss: 0.4719 - val_accuracy: 0.9337\n",
            "Epoch 24/30\n",
            "3892/3892 [==============================] - 2s 472us/step - loss: 0.0013 - accuracy: 1.0000 - val_loss: 0.4689 - val_accuracy: 0.9307\n",
            "Epoch 25/30\n",
            "3892/3892 [==============================] - 2s 469us/step - loss: 0.0017 - accuracy: 0.9997 - val_loss: 0.4777 - val_accuracy: 0.9353\n",
            "Epoch 26/30\n",
            "3892/3892 [==============================] - 2s 478us/step - loss: 0.0012 - accuracy: 1.0000 - val_loss: 0.4774 - val_accuracy: 0.9330\n",
            "Epoch 27/30\n",
            "3892/3892 [==============================] - 2s 474us/step - loss: 9.0325e-04 - accuracy: 1.0000 - val_loss: 0.4766 - val_accuracy: 0.9322\n",
            "Epoch 28/30\n",
            "3892/3892 [==============================] - 2s 476us/step - loss: 0.0011 - accuracy: 1.0000 - val_loss: 0.4770 - val_accuracy: 0.9314\n",
            "Epoch 29/30\n",
            "3892/3892 [==============================] - 2s 472us/step - loss: 8.6232e-04 - accuracy: 1.0000 - val_loss: 0.4849 - val_accuracy: 0.9337\n",
            "Epoch 30/30\n",
            "3892/3892 [==============================] - 2s 466us/step - loss: 7.9231e-04 - accuracy: 1.0000 - val_loss: 0.4841 - val_accuracy: 0.9337\n"
          ],
          "name": "stdout"
        }
      ]
    },
    {
      "cell_type": "code",
      "metadata": {
        "id": "NIruVJV28Z7Q",
        "colab_type": "code",
        "outputId": "31ddd8be-1055-41df-9c2c-8404556d8e54",
        "colab": {
          "base_uri": "https://localhost:8080/",
          "height": 387
        }
      },
      "source": [
        "# Plot the loss function\n",
        "fig, ax = plt.subplots(ncols=2, figsize=(8, 4), dpi=100)\n",
        "ax[0].plot(np.sqrt(deep_model_history.history['loss']), 'r', label='train')\n",
        "ax[0].plot(np.sqrt(deep_model_history.history['val_loss']), 'b' ,label='val')\n",
        "ax[0].set_xlabel(r'Epoch', fontsize=10)\n",
        "ax[0].set_ylabel(r'Loss', fontsize=10)\n",
        "ax[0].set_ylim(0, 1)\n",
        "ax[0].legend()\n",
        "ax[0].tick_params(labelsize=10)\n",
        "\n",
        "# Plot the accuracy\n",
        "\n",
        "ax[1].plot(np.sqrt(deep_model_history.history['accuracy']), 'r', label='train')\n",
        "ax[1].plot(np.sqrt(deep_model_history.history['val_accuracy']), 'b' ,label='val')\n",
        "ax[1].set_xlabel(r'Epoch', fontsize=10)\n",
        "ax[1].set_ylabel(r'Accuracy', fontsize=10)\n",
        "ax[1].set_ylim(0, 1)\n",
        "ax[1].legend()\n",
        "ax[1].tick_params(labelsize=10)"
      ],
      "execution_count": 37,
      "outputs": [
        {
          "output_type": "display_data",
          "data": {
            "image/png": "[encoded data removed]",
            "text/plain": [
              "<Figure size 800x400 with 2 Axes>"
            ]
          },
          "metadata": {
            "tags": [],
            "needs_background": "light"
          }
        }
      ]
    },
    {
      "cell_type": "markdown",
      "metadata": {
        "id": "xg5R3u77KHqU",
        "colab_type": "text"
      },
      "source": [
        "Adjust the the learning rate "
      ]
    },
    {
      "cell_type": "code",
      "metadata": {
        "id": "LdaoCOZhKC0Z",
        "colab_type": "code",
        "colab": {}
      },
      "source": [
        "epochs=60\n",
        "learning_rate = 0.1 # initial learning rate\n",
        "decay_rate = 0.1\n",
        "momentum = 0.8\n",
        "# define the optimizer function\n",
        "sgd = SGD(lr=learning_rate, momentum=momentum, decay=decay_rate, nesterov=False)"
      ],
      "execution_count": 0,
      "outputs": []
    },
    {
      "cell_type": "code",
      "metadata": {
        "id": "1UB1T2wcMVRG",
        "colab_type": "code",
        "colab": {}
      },
      "source": [
        "#  build the architecture of the neural network\n",
        "input_dim = X_train_scaled.shape[1]\n",
        "batch_size= 200\n",
        "\n",
        "# build the model\n",
        "ex_deep_model = Sequential()\n",
        "\n",
        "ex_deep_model.add(Dense(units=200, kernel_initializer='uniform',activation='relu',input_dim = input_dim))\n",
        "ex_deep_model.add(Dropout(0.1))\n",
        "ex_deep_model.add(Dense(units=100, kernel_initializer='uniform',activation='relu'))\n",
        "ex_deep_model.add(Dense(units=2,kernel_initializer='uniform', activation='softmax'))\n"
      ],
      "execution_count": 0,
      "outputs": []
    },
    {
      "cell_type": "code",
      "metadata": {
        "id": "03wLIOhXNKyB",
        "colab_type": "code",
        "colab": {}
      },
      "source": [
        "# Compile and fit the model\n",
        "ex_deep_model.compile(optimizer=sgd, \n",
        "                   loss='categorical_crossentropy', \n",
        "                   metrics=['accuracy'])"
      ],
      "execution_count": 0,
      "outputs": []
    },
    {
      "cell_type": "code",
      "metadata": {
        "id": "5d00bp9KP7zo",
        "colab_type": "code",
        "colab": {}
      },
      "source": [
        "# define the learning rate change \n",
        "def exp_decay(epoch):\n",
        "    lrate = learning_rate * np.exp(-decay_rate*epoch)\n",
        "    return lrate\n",
        "\n",
        "# learning schedule callback\n",
        "loss_history = History()\n",
        "lr_rate = LearningRateScheduler(exp_decay)\n",
        "callbacks_list = [loss_history, lr_rate]    "
      ],
      "execution_count": 0,
      "outputs": []
    },
    {
      "cell_type": "code",
      "metadata": {
        "id": "wP7QssaxPcrR",
        "colab_type": "code",
        "outputId": "e9507710-a7ee-4824-be3e-0ce5caf43e27",
        "colab": {
          "base_uri": "https://localhost:8080/",
          "height": 1000
        }
      },
      "source": [
        "# train the Model , here use the LearningRatescheduler\n",
        "\n",
        "\n",
        "ex_deep_model_hystory = ex_deep_model.fit(X_train_scaled, y_train_categorical,\n",
        "                                    batch_size=batch_size,\n",
        "                                    epochs=epochs,\n",
        "                                    callbacks=callbacks_list,\n",
        "                                    verbose=1,\n",
        "                                    validation_data = (X_test_scaled,y_test_categorical))\n"
      ],
      "execution_count": 64,
      "outputs": [
        {
          "output_type": "stream",
          "text": [
            "Train on 3892 samples, validate on 1298 samples\n",
            "Epoch 1/60\n",
            "3892/3892 [==============================] - 4s 915us/step - loss: 0.5240 - accuracy: 0.7980 - val_loss: 0.3902 - val_accuracy: 0.8436\n",
            "Epoch 2/60\n",
            "3892/3892 [==============================] - 2s 516us/step - loss: 0.3586 - accuracy: 0.8299 - val_loss: 0.3428 - val_accuracy: 0.8436\n",
            "Epoch 3/60\n",
            "3892/3892 [==============================] - 2s 505us/step - loss: 0.2906 - accuracy: 0.8299 - val_loss: 0.3188 - val_accuracy: 0.8436\n",
            "Epoch 4/60\n",
            "3892/3892 [==============================] - 2s 512us/step - loss: 0.2453 - accuracy: 0.8299 - val_loss: 0.3047 - val_accuracy: 0.8436\n",
            "Epoch 5/60\n",
            "3892/3892 [==============================] - 2s 508us/step - loss: 0.2140 - accuracy: 0.8366 - val_loss: 0.2955 - val_accuracy: 0.8659\n",
            "Epoch 6/60\n",
            "3892/3892 [==============================] - 2s 506us/step - loss: 0.1805 - accuracy: 0.8972 - val_loss: 0.2831 - val_accuracy: 0.9099\n",
            "Epoch 7/60\n",
            "3892/3892 [==============================] - 2s 511us/step - loss: 0.1477 - accuracy: 0.9579 - val_loss: 0.2773 - val_accuracy: 0.9137\n",
            "Epoch 8/60\n",
            "3892/3892 [==============================] - 2s 507us/step - loss: 0.1203 - accuracy: 0.9656 - val_loss: 0.2753 - val_accuracy: 0.9129\n",
            "Epoch 9/60\n",
            "3892/3892 [==============================] - 2s 508us/step - loss: 0.1049 - accuracy: 0.9723 - val_loss: 0.2789 - val_accuracy: 0.9153\n",
            "Epoch 10/60\n",
            "3892/3892 [==============================] - 2s 504us/step - loss: 0.0939 - accuracy: 0.9758 - val_loss: 0.2788 - val_accuracy: 0.9145\n",
            "Epoch 11/60\n",
            "3892/3892 [==============================] - 2s 508us/step - loss: 0.0837 - accuracy: 0.9825 - val_loss: 0.2834 - val_accuracy: 0.9160\n",
            "Epoch 12/60\n",
            "3892/3892 [==============================] - 2s 516us/step - loss: 0.0779 - accuracy: 0.9815 - val_loss: 0.2817 - val_accuracy: 0.9160\n",
            "Epoch 13/60\n",
            "3892/3892 [==============================] - 2s 509us/step - loss: 0.0712 - accuracy: 0.9859 - val_loss: 0.2827 - val_accuracy: 0.9176\n",
            "Epoch 14/60\n",
            "3892/3892 [==============================] - 2s 511us/step - loss: 0.0672 - accuracy: 0.9869 - val_loss: 0.2855 - val_accuracy: 0.9160\n",
            "Epoch 15/60\n",
            "3892/3892 [==============================] - 2s 513us/step - loss: 0.0640 - accuracy: 0.9859 - val_loss: 0.2861 - val_accuracy: 0.9176\n",
            "Epoch 16/60\n",
            "3892/3892 [==============================] - 2s 511us/step - loss: 0.0656 - accuracy: 0.9856 - val_loss: 0.2872 - val_accuracy: 0.9176\n",
            "Epoch 17/60\n",
            "3892/3892 [==============================] - 2s 517us/step - loss: 0.0623 - accuracy: 0.9874 - val_loss: 0.2879 - val_accuracy: 0.9183\n",
            "Epoch 18/60\n",
            "3892/3892 [==============================] - 2s 508us/step - loss: 0.0618 - accuracy: 0.9882 - val_loss: 0.2887 - val_accuracy: 0.9183\n",
            "Epoch 19/60\n",
            "3892/3892 [==============================] - 2s 511us/step - loss: 0.0588 - accuracy: 0.9882 - val_loss: 0.2896 - val_accuracy: 0.9183\n",
            "Epoch 20/60\n",
            "3892/3892 [==============================] - 2s 511us/step - loss: 0.0585 - accuracy: 0.9872 - val_loss: 0.2904 - val_accuracy: 0.9183\n",
            "Epoch 21/60\n",
            "3892/3892 [==============================] - 2s 513us/step - loss: 0.0584 - accuracy: 0.9897 - val_loss: 0.2909 - val_accuracy: 0.9183\n",
            "Epoch 22/60\n",
            "3892/3892 [==============================] - 2s 514us/step - loss: 0.0548 - accuracy: 0.9884 - val_loss: 0.2917 - val_accuracy: 0.9176\n",
            "Epoch 23/60\n",
            "3892/3892 [==============================] - 2s 510us/step - loss: 0.0555 - accuracy: 0.9872 - val_loss: 0.2917 - val_accuracy: 0.9176\n",
            "Epoch 24/60\n",
            "3892/3892 [==============================] - 2s 508us/step - loss: 0.0543 - accuracy: 0.9882 - val_loss: 0.2922 - val_accuracy: 0.9176\n",
            "Epoch 25/60\n",
            "3892/3892 [==============================] - 2s 505us/step - loss: 0.0534 - accuracy: 0.9890 - val_loss: 0.2926 - val_accuracy: 0.9176\n",
            "Epoch 26/60\n",
            "3892/3892 [==============================] - 2s 515us/step - loss: 0.0543 - accuracy: 0.9874 - val_loss: 0.2929 - val_accuracy: 0.9176\n",
            "Epoch 27/60\n",
            "3892/3892 [==============================] - 2s 514us/step - loss: 0.0541 - accuracy: 0.9882 - val_loss: 0.2931 - val_accuracy: 0.9176\n",
            "Epoch 28/60\n",
            "3892/3892 [==============================] - 2s 508us/step - loss: 0.0540 - accuracy: 0.9892 - val_loss: 0.2934 - val_accuracy: 0.9168\n",
            "Epoch 29/60\n",
            "3892/3892 [==============================] - 2s 510us/step - loss: 0.0495 - accuracy: 0.9905 - val_loss: 0.2935 - val_accuracy: 0.9176\n",
            "Epoch 30/60\n",
            "3892/3892 [==============================] - 2s 509us/step - loss: 0.0538 - accuracy: 0.9887 - val_loss: 0.2935 - val_accuracy: 0.9176\n",
            "Epoch 31/60\n",
            "3892/3892 [==============================] - 2s 511us/step - loss: 0.0523 - accuracy: 0.9900 - val_loss: 0.2937 - val_accuracy: 0.9176\n",
            "Epoch 32/60\n",
            "3892/3892 [==============================] - 2s 518us/step - loss: 0.0534 - accuracy: 0.9884 - val_loss: 0.2936 - val_accuracy: 0.9176\n",
            "Epoch 33/60\n",
            "3892/3892 [==============================] - 2s 509us/step - loss: 0.0504 - accuracy: 0.9900 - val_loss: 0.2937 - val_accuracy: 0.9176\n",
            "Epoch 34/60\n",
            "3892/3892 [==============================] - 2s 511us/step - loss: 0.0517 - accuracy: 0.9884 - val_loss: 0.2938 - val_accuracy: 0.9176\n",
            "Epoch 35/60\n",
            "3892/3892 [==============================] - 2s 509us/step - loss: 0.0528 - accuracy: 0.9902 - val_loss: 0.2940 - val_accuracy: 0.9176\n",
            "Epoch 36/60\n",
            "3892/3892 [==============================] - 2s 510us/step - loss: 0.0510 - accuracy: 0.9900 - val_loss: 0.2940 - val_accuracy: 0.9176\n",
            "Epoch 37/60\n",
            "3892/3892 [==============================] - 2s 518us/step - loss: 0.0506 - accuracy: 0.9897 - val_loss: 0.2941 - val_accuracy: 0.9176\n",
            "Epoch 38/60\n",
            "3892/3892 [==============================] - 2s 511us/step - loss: 0.0509 - accuracy: 0.9897 - val_loss: 0.2941 - val_accuracy: 0.9176\n",
            "Epoch 39/60\n",
            "3892/3892 [==============================] - 2s 505us/step - loss: 0.0524 - accuracy: 0.9910 - val_loss: 0.2942 - val_accuracy: 0.9176\n",
            "Epoch 40/60\n",
            "3892/3892 [==============================] - 2s 508us/step - loss: 0.0494 - accuracy: 0.9908 - val_loss: 0.2942 - val_accuracy: 0.9176\n",
            "Epoch 41/60\n",
            "3892/3892 [==============================] - 2s 511us/step - loss: 0.0516 - accuracy: 0.9900 - val_loss: 0.2943 - val_accuracy: 0.9176\n",
            "Epoch 42/60\n",
            "3892/3892 [==============================] - 2s 514us/step - loss: 0.0517 - accuracy: 0.9902 - val_loss: 0.2943 - val_accuracy: 0.9176\n",
            "Epoch 43/60\n",
            "3892/3892 [==============================] - 2s 513us/step - loss: 0.0514 - accuracy: 0.9892 - val_loss: 0.2943 - val_accuracy: 0.9176\n",
            "Epoch 44/60\n",
            "3892/3892 [==============================] - 2s 509us/step - loss: 0.0530 - accuracy: 0.9890 - val_loss: 0.2944 - val_accuracy: 0.9176\n",
            "Epoch 45/60\n",
            "3892/3892 [==============================] - 2s 509us/step - loss: 0.0494 - accuracy: 0.9905 - val_loss: 0.2944 - val_accuracy: 0.9176\n",
            "Epoch 46/60\n",
            "3892/3892 [==============================] - 2s 508us/step - loss: 0.0513 - accuracy: 0.9908 - val_loss: 0.2944 - val_accuracy: 0.9176\n",
            "Epoch 47/60\n",
            "3892/3892 [==============================] - 2s 518us/step - loss: 0.0502 - accuracy: 0.9897 - val_loss: 0.2944 - val_accuracy: 0.9176\n",
            "Epoch 48/60\n",
            "3892/3892 [==============================] - 2s 516us/step - loss: 0.0529 - accuracy: 0.9892 - val_loss: 0.2944 - val_accuracy: 0.9176\n",
            "Epoch 49/60\n",
            "3892/3892 [==============================] - 2s 512us/step - loss: 0.0500 - accuracy: 0.9910 - val_loss: 0.2944 - val_accuracy: 0.9176\n",
            "Epoch 50/60\n",
            "3892/3892 [==============================] - 2s 513us/step - loss: 0.0524 - accuracy: 0.9897 - val_loss: 0.2944 - val_accuracy: 0.9176\n",
            "Epoch 51/60\n",
            "3892/3892 [==============================] - 2s 521us/step - loss: 0.0540 - accuracy: 0.9892 - val_loss: 0.2944 - val_accuracy: 0.9176\n",
            "Epoch 52/60\n",
            "3892/3892 [==============================] - 2s 520us/step - loss: 0.0502 - accuracy: 0.9897 - val_loss: 0.2944 - val_accuracy: 0.9176\n",
            "Epoch 53/60\n",
            "3892/3892 [==============================] - 2s 515us/step - loss: 0.0525 - accuracy: 0.9884 - val_loss: 0.2944 - val_accuracy: 0.9176\n",
            "Epoch 54/60\n",
            "3892/3892 [==============================] - 2s 514us/step - loss: 0.0527 - accuracy: 0.9910 - val_loss: 0.2944 - val_accuracy: 0.9176\n",
            "Epoch 55/60\n",
            "3892/3892 [==============================] - 2s 511us/step - loss: 0.0497 - accuracy: 0.9925 - val_loss: 0.2944 - val_accuracy: 0.9176\n",
            "Epoch 56/60\n",
            "3892/3892 [==============================] - 2s 511us/step - loss: 0.0494 - accuracy: 0.9915 - val_loss: 0.2945 - val_accuracy: 0.9176\n",
            "Epoch 57/60\n",
            "3892/3892 [==============================] - 2s 523us/step - loss: 0.0509 - accuracy: 0.9895 - val_loss: 0.2945 - val_accuracy: 0.9176\n",
            "Epoch 58/60\n",
            "3892/3892 [==============================] - 2s 513us/step - loss: 0.0505 - accuracy: 0.9900 - val_loss: 0.2945 - val_accuracy: 0.9176\n",
            "Epoch 59/60\n",
            "3892/3892 [==============================] - 2s 511us/step - loss: 0.0486 - accuracy: 0.9913 - val_loss: 0.2945 - val_accuracy: 0.9176\n",
            "Epoch 60/60\n",
            "3892/3892 [==============================] - 2s 515us/step - loss: 0.0503 - accuracy: 0.9905 - val_loss: 0.2945 - val_accuracy: 0.9176\n"
          ],
          "name": "stdout"
        }
      ]
    },
    {
      "cell_type": "code",
      "metadata": {
        "id": "ZuzouK3LRRkX",
        "colab_type": "code",
        "outputId": "81cade19-bd5d-4c3f-f470-4d1f5d5c1d39",
        "colab": {
          "base_uri": "https://localhost:8080/",
          "height": 387
        }
      },
      "source": [
        "# Plot the loss function\n",
        "fig, ax = plt.subplots(ncols=2, figsize=(8, 4), dpi=100)\n",
        "ax[0].plot(ex_deep_model_hystory.history['lr'], 'r', label='learn rate')\n",
        "ax[0].set_xlabel(r'Epoch', fontsize=10)\n",
        "ax[0].set_ylabel(r'Learn Rate', fontsize=10)\n",
        "# ax[0].set_ylim(0, 1)\n",
        "ax[0].legend()\n",
        "ax[0].tick_params(labelsize=10)\n",
        "\n",
        "# Plot the accuracy\n",
        "\n",
        "ax[1].plot(np.sqrt(ex_deep_model_hystory.history['loss']), 'r', label='train')\n",
        "ax[1].plot(np.sqrt(ex_deep_model_hystory.history['val_loss']), 'b' ,label='val')\n",
        "ax[1].set_xlabel(r'Epoch', fontsize=10)\n",
        "ax[1].set_ylabel(r'Loss', fontsize=10)\n",
        "ax[1].set_ylim(0, 1)\n",
        "ax[1].legend()\n",
        "ax[1].tick_params(labelsize=10)"
      ],
      "execution_count": 65,
      "outputs": [
        {
          "output_type": "display_data",
          "data": {
            "image/png": "[encoded data removed]",
            "text/plain": [
              "<Figure size 800x400 with 2 Axes>"
            ]
          },
          "metadata": {
            "tags": [],
            "needs_background": "light"
          }
        }
      ]
    },
    {
      "cell_type": "markdown",
      "metadata": {
        "id": "4rGzS7tcSG5r",
        "colab_type": "text"
      },
      "source": [
        "Deciding on the batch size and number of epochs"
      ]
    },
    {
      "cell_type": "code",
      "metadata": {
        "id": "yiHa6zHBSpjZ",
        "colab_type": "code",
        "colab": {}
      },
      "source": [
        "#  build the architecture of the neural network\n",
        "input_dim = X_train_scaled.shape[1]\n",
        "\n",
        "# build the model\n",
        "model = Sequential()\n",
        "\n",
        "model.add(Dense(units=200, kernel_initializer='uniform',activation='relu',input_dim = input_dim))\n",
        "model.add(Dropout(0.1))\n",
        "model.add(Dense(units=100, kernel_initializer='uniform',activation='relu'))\n",
        "model.add(Dense(units=2,kernel_initializer='uniform', activation='softmax'))\n",
        "\n",
        "# defining the parameters for RMSprop (keras defaults here)\n",
        "rms= keras.optimizers.RMSprop(learning_rate=0.001, rho=0.9)"
      ],
      "execution_count": 0,
      "outputs": []
    },
    {
      "cell_type": "code",
      "metadata": {
        "id": "mGfB0BIGUt3E",
        "colab_type": "code",
        "colab": {}
      },
      "source": [
        "# Compile and fit the model\n",
        "\n",
        "model.compile(optimizer=rms, \n",
        "                   loss='categorical_crossentropy', \n",
        "                   metrics=['accuracy'])"
      ],
      "execution_count": 0,
      "outputs": []
    },
    {
      "cell_type": "code",
      "metadata": {
        "id": "w8n16arVRRsR",
        "colab_type": "code",
        "outputId": "0c8f1175-a818-4e3a-bf75-ea31da626232",
        "colab": {
          "base_uri": "https://localhost:8080/",
          "height": 1000
        }
      },
      "source": [
        "# train the Model\n",
        "batch_size=input_dim\n",
        "epochs = 30\n",
        "\n",
        "model_history = model.fit(X_train_scaled, y_train_categorical,\n",
        "                                    batch_size=batch_size,\n",
        "                                    epochs=epochs,\n",
        "                                    verbose=1,\n",
        "                                    validation_data = (X_test_scaled,y_test_categorical))\n",
        "\n"
      ],
      "execution_count": 68,
      "outputs": [
        {
          "output_type": "stream",
          "text": [
            "Train on 3892 samples, validate on 1298 samples\n",
            "Epoch 1/30\n",
            "3892/3892 [==============================] - 2s 546us/step - loss: 0.6592 - accuracy: 0.6249 - val_loss: 0.3662 - val_accuracy: 0.8436\n",
            "Epoch 2/30\n",
            "3892/3892 [==============================] - 2s 424us/step - loss: 0.3317 - accuracy: 0.8299 - val_loss: 0.3033 - val_accuracy: 0.9060\n",
            "Epoch 3/30\n",
            "3892/3892 [==============================] - 1s 383us/step - loss: 0.2118 - accuracy: 0.9432 - val_loss: 0.2497 - val_accuracy: 0.9137\n",
            "Epoch 4/30\n",
            "3892/3892 [==============================] - 2s 388us/step - loss: 0.1385 - accuracy: 0.9586 - val_loss: 0.2234 - val_accuracy: 0.9291\n",
            "Epoch 5/30\n",
            "3892/3892 [==============================] - 1s 381us/step - loss: 0.0980 - accuracy: 0.9872 - val_loss: 0.2048 - val_accuracy: 0.9376\n",
            "Epoch 6/30\n",
            "3892/3892 [==============================] - 1s 383us/step - loss: 0.0688 - accuracy: 0.9959 - val_loss: 0.1914 - val_accuracy: 0.9391\n",
            "Epoch 7/30\n",
            "3892/3892 [==============================] - 1s 381us/step - loss: 0.0475 - accuracy: 0.9985 - val_loss: 0.1827 - val_accuracy: 0.9407\n",
            "Epoch 8/30\n",
            "3892/3892 [==============================] - 2s 388us/step - loss: 0.0331 - accuracy: 0.9995 - val_loss: 0.1775 - val_accuracy: 0.9407\n",
            "Epoch 9/30\n",
            "3892/3892 [==============================] - 1s 383us/step - loss: 0.0240 - accuracy: 0.9995 - val_loss: 0.1745 - val_accuracy: 0.9407\n",
            "Epoch 10/30\n",
            "3892/3892 [==============================] - 1s 383us/step - loss: 0.0176 - accuracy: 0.9995 - val_loss: 0.1731 - val_accuracy: 0.9399\n",
            "Epoch 11/30\n",
            "3892/3892 [==============================] - 1s 385us/step - loss: 0.0135 - accuracy: 0.9997 - val_loss: 0.1725 - val_accuracy: 0.9399\n",
            "Epoch 12/30\n",
            "3892/3892 [==============================] - 1s 382us/step - loss: 0.0106 - accuracy: 0.9997 - val_loss: 0.1722 - val_accuracy: 0.9407\n",
            "Epoch 13/30\n",
            "3892/3892 [==============================] - 1s 380us/step - loss: 0.0085 - accuracy: 0.9997 - val_loss: 0.1725 - val_accuracy: 0.9407\n",
            "Epoch 14/30\n",
            "3892/3892 [==============================] - 1s 383us/step - loss: 0.0068 - accuracy: 0.9997 - val_loss: 0.1730 - val_accuracy: 0.9399\n",
            "Epoch 15/30\n",
            "3892/3892 [==============================] - 2s 392us/step - loss: 0.0059 - accuracy: 0.9997 - val_loss: 0.1736 - val_accuracy: 0.9407\n",
            "Epoch 16/30\n",
            "3892/3892 [==============================] - 1s 385us/step - loss: 0.0050 - accuracy: 0.9997 - val_loss: 0.1742 - val_accuracy: 0.9414\n",
            "Epoch 17/30\n",
            "3892/3892 [==============================] - 2s 388us/step - loss: 0.0042 - accuracy: 0.9997 - val_loss: 0.1752 - val_accuracy: 0.9407\n",
            "Epoch 18/30\n",
            "3892/3892 [==============================] - 1s 383us/step - loss: 0.0038 - accuracy: 0.9997 - val_loss: 0.1762 - val_accuracy: 0.9407\n",
            "Epoch 19/30\n",
            "3892/3892 [==============================] - 2s 386us/step - loss: 0.0033 - accuracy: 0.9997 - val_loss: 0.1770 - val_accuracy: 0.9391\n",
            "Epoch 20/30\n",
            "3892/3892 [==============================] - 1s 384us/step - loss: 0.0030 - accuracy: 0.9995 - val_loss: 0.1782 - val_accuracy: 0.9391\n",
            "Epoch 21/30\n",
            "3892/3892 [==============================] - 2s 388us/step - loss: 0.0026 - accuracy: 0.9997 - val_loss: 0.1788 - val_accuracy: 0.9376\n",
            "Epoch 22/30\n",
            "3892/3892 [==============================] - 1s 385us/step - loss: 0.0022 - accuracy: 1.0000 - val_loss: 0.1802 - val_accuracy: 0.9376\n",
            "Epoch 23/30\n",
            "3892/3892 [==============================] - 1s 383us/step - loss: 0.0019 - accuracy: 1.0000 - val_loss: 0.1813 - val_accuracy: 0.9368\n",
            "Epoch 24/30\n",
            "3892/3892 [==============================] - 1s 382us/step - loss: 0.0017 - accuracy: 1.0000 - val_loss: 0.1827 - val_accuracy: 0.9368\n",
            "Epoch 25/30\n",
            "3892/3892 [==============================] - 1s 384us/step - loss: 0.0014 - accuracy: 1.0000 - val_loss: 0.1839 - val_accuracy: 0.9368\n",
            "Epoch 26/30\n",
            "3892/3892 [==============================] - 1s 382us/step - loss: 0.0014 - accuracy: 1.0000 - val_loss: 0.1850 - val_accuracy: 0.9376\n",
            "Epoch 27/30\n",
            "3892/3892 [==============================] - 1s 382us/step - loss: 0.0013 - accuracy: 1.0000 - val_loss: 0.1857 - val_accuracy: 0.9376\n",
            "Epoch 28/30\n",
            "3892/3892 [==============================] - 2s 392us/step - loss: 0.0011 - accuracy: 1.0000 - val_loss: 0.1875 - val_accuracy: 0.9376\n",
            "Epoch 29/30\n",
            "3892/3892 [==============================] - 2s 459us/step - loss: 9.8900e-04 - accuracy: 1.0000 - val_loss: 0.1883 - val_accuracy: 0.9361\n",
            "Epoch 30/30\n",
            "3892/3892 [==============================] - 2s 403us/step - loss: 9.1533e-04 - accuracy: 1.0000 - val_loss: 0.1896 - val_accuracy: 0.9361\n"
          ],
          "name": "stdout"
        }
      ]
    },
    {
      "cell_type": "code",
      "metadata": {
        "id": "T41gupifYKEM",
        "colab_type": "code",
        "outputId": "e970db9a-2026-4181-b217-612383815716",
        "colab": {
          "base_uri": "https://localhost:8080/",
          "height": 421
        }
      },
      "source": [
        "score = model.evaluate(X_test_scaled,y_test_categorical, verbose=0)\n",
        "print('Test loss:', score[0])\n",
        "print('Test accuracy:', score[1])\n",
        "\n",
        "fig, ax = plt.subplots(ncols=2, figsize=(8, 4), dpi=100)\n",
        "ax[0].plot(np.sqrt(model_history.history['accuracy']), 'r', label='train_acc')\n",
        "ax[0].plot(np.sqrt(model_history.history['val_accuracy']), 'b' ,label='val_acc')\n",
        "ax[0].set_xlabel(r'Epoch', fontsize=10)\n",
        "ax[0].set_ylabel(r'Accuracy', fontsize=10)\n",
        "ax[0].legend()\n",
        "ax[0].set_ylim(0, 1)\n",
        "ax[0].tick_params(labelsize=10)\n",
        "\n",
        "\n",
        "ax[1].plot(np.sqrt(model_history.history['loss']), 'r', label='train')\n",
        "ax[1].plot(np.sqrt(model_history.history['val_loss']), 'b' ,label='val')\n",
        "ax[1].set_xlabel(r'Epoch', fontsize=10)\n",
        "ax[1].set_ylabel(r'Loss', fontsize=10)\n",
        "ax[1].set_ylim(0, 1)\n",
        "ax[1].legend()\n",
        "ax[1].tick_params(labelsize=10)\n"
      ],
      "execution_count": 69,
      "outputs": [
        {
          "output_type": "stream",
          "text": [
            "Test loss: 0.18960290002666746\n",
            "Test accuracy: 0.9360554814338684\n"
          ],
          "name": "stdout"
        },
        {
          "output_type": "display_data",
          "data": {
            "image/png": "[encoded data removed]",
            "text/plain": [
              "<Figure size 800x400 with 2 Axes>"
            ]
          },
          "metadata": {
            "tags": [],
            "needs_background": "light"
          }
        }
      ]
    },
    {
      "cell_type": "code",
      "metadata": {
        "id": "l50EWJ7wYKNC",
        "colab_type": "code",
        "colab": {}
      },
      "source": [
        ""
      ],
      "execution_count": 0,
      "outputs": []
    },
    {
      "cell_type": "code",
      "metadata": {
        "id": "1SYHbJsGzdri",
        "colab_type": "code",
        "colab": {}
      },
      "source": [
        ""
      ],
      "execution_count": 0,
      "outputs": []
    },
    {
      "cell_type": "code",
      "metadata": {
        "id": "_gFgDtjBRQt-",
        "colab_type": "code",
        "colab": {}
      },
      "source": [
        "# Evaluate the model using the testing data\n",
        "model_loss, model_accuracy = deep_model.evaluate(\n",
        "    X_test_scaled, y_test_categorical, verbose=2)"
      ],
      "execution_count": 0,
      "outputs": []
    },
    {
      "cell_type": "code",
      "metadata": {
        "id": "kam0W3AUixUG",
        "colab_type": "code",
        "colab": {}
      },
      "source": [
        "predictions = deep_model.predict(X_test_scaled)\n",
        "predictions = np.around(predictions , decimals = 0)"
      ],
      "execution_count": 0,
      "outputs": []
    },
    {
      "cell_type": "code",
      "metadata": {
        "id": "Eto227TQzd1v",
        "colab_type": "code",
        "outputId": "3584dd67-b34f-49c7-f220-dc87339707d0",
        "colab": {
          "base_uri": "https://localhost:8080/",
          "height": 187
        }
      },
      "source": [
        "# Calculate classification report\n",
        "\n",
        "print(classification_report(y_test_categorical, predictions,\n",
        "                            target_names= [\"real\", \"fake\"]))"
      ],
      "execution_count": 72,
      "outputs": [
        {
          "output_type": "stream",
          "text": [
            "              precision    recall  f1-score   support\n",
            "\n",
            "        real       0.94      0.98      0.96      1095\n",
            "        fake       0.88      0.67      0.76       203\n",
            "\n",
            "   micro avg       0.93      0.93      0.93      1298\n",
            "   macro avg       0.91      0.82      0.86      1298\n",
            "weighted avg       0.93      0.93      0.93      1298\n",
            " samples avg       0.93      0.93      0.93      1298\n",
            "\n"
          ],
          "name": "stdout"
        }
      ]
    },
    {
      "cell_type": "markdown",
      "metadata": {
        "id": "i5V9CPBrxEzF",
        "colab_type": "text"
      },
      "source": [
        "Save the model"
      ]
    },
    {
      "cell_type": "code",
      "metadata": {
        "id": "Q4NDAaX-xCrN",
        "colab_type": "code",
        "outputId": "a0a4f001-71ea-4748-8e9c-ccc9a9a8483a",
        "colab": {
          "base_uri": "https://localhost:8080/",
          "height": 122
        }
      },
      "source": [
        "# save the model\n",
        "from google.colab import drive\n",
        "drive.mount('/content/drive')"
      ],
      "execution_count": 0,
      "outputs": [
        {
          "output_type": "stream",
          "text": [
            "Go to this URL in a browser: https://accounts.google.com/o/oauth2/auth?client_id=947318989803-6bn6qk8qdgf4n4g3pfee6491hc0brc4i.apps.googleusercontent.com&redirect_uri=urn%3aietf%3awg%3aoauth%3a2.0%3aoob&response_type=code&scope=email%20https%3a%2f%2fwww.googleapis.com%2fauth%2fdocs.test%20https%3a%2f%2fwww.googleapis.com%2fauth%2fdrive%20https%3a%2f%2fwww.googleapis.com%2fauth%2fdrive.photos.readonly%20https%3a%2f%2fwww.googleapis.com%2fauth%2fpeopleapi.readonly\n",
            "\n",
            "Enter your authorization code:\n",
            "··········\n",
            "Mounted at /content/drive\n"
          ],
          "name": "stdout"
        }
      ]
    },
    {
      "cell_type": "code",
      "metadata": {
        "id": "iFlNrvptwm5Y",
        "colab_type": "code",
        "colab": {}
      },
      "source": [
        "# Save to the model to the local drive\n",
        "from tensorflow.keras.models import load_model\n",
        "\n",
        "filenamel = '/content/drive/My Drive/DeepLearningOptimized.h5'\n",
        "deep_model.save(filenamel)"
      ],
      "execution_count": 0,
      "outputs": []
    },
    {
      "cell_type": "code",
      "metadata": {
        "id": "TcIJ1wD0w2QO",
        "colab_type": "code",
        "outputId": "616ee8f5-4909-4d93-9b28-4faa2445afee",
        "colab": {
          "base_uri": "https://localhost:8080/",
          "height": 51
        }
      },
      "source": [
        "# Load the model\n",
        "loaded_deep_model= load_model(filenamel)\n",
        "\n",
        "model_loss, model_accuracy = loaded_deep_model.evaluate(\n",
        "    X_test_scaled, y_test_categorical, verbose=2)"
      ],
      "execution_count": 0,
      "outputs": [
        {
          "output_type": "stream",
          "text": [
            "WARNING:tensorflow:Error in loading the saved optimizer state. As a result, your model is starting with a freshly initialized optimizer.\n",
            "41/41 - 0s - loss: 0.3375 - accuracy: 0.9176\n"
          ],
          "name": "stdout"
        }
      ]
    },
    {
      "cell_type": "code",
      "metadata": {
        "id": "cqB8Z1BBztGZ",
        "colab_type": "code",
        "colab": {}
      },
      "source": [
        ""
      ],
      "execution_count": 0,
      "outputs": []
    }
  ]
}