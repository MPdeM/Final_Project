{
  "nbformat": 4,
  "nbformat_minor": 0,
  "metadata": {
    "colab": {
      "name": "TF_IDF_NB_best.ipynb",
      "provenance": [],
      "collapsed_sections": []
    },
    "kernel_info": {
      "name": "python3"
    },
    "kernelspec": {
      "display_name": "Python 3",
      "language": "python",
      "name": "python3"
    },
    "language_info": {
      "codemirror_mode": {
        "name": "ipython",
        "version": 3
      },
      "file_extension": ".py",
      "mimetype": "text/x-python",
      "name": "python",
      "nbconvert_exporter": "python",
      "pygments_lexer": "ipython3",
      "version": "3.8.5"
    },
    "latex_envs": {
      "LaTeX_envs_menu_present": true,
      "autoclose": false,
      "autocomplete": true,
      "bibliofile": "biblio.bib",
      "cite_by": "apalike",
      "current_citInitial": 1,
      "eqLabelWithNumbers": true,
      "eqNumInitial": 1,
      "hotkeys": {
        "equation": "Ctrl-E",
        "itemize": "Ctrl-I"
      },
      "labels_anchors": false,
      "latex_user_defs": false,
      "report_style_numbering": false,
      "user_envs_cfg": false
    },
    "nteract": {
      "version": "0.11.2"
    },
    "varInspector": {
      "cols": {
        "lenName": 16,
        "lenType": 16,
        "lenVar": 40
      },
      "kernels_config": {
        "python": {
          "delete_cmd_postfix": "",
          "delete_cmd_prefix": "del ",
          "library": "var_list.py",
          "varRefreshCmd": "print(var_dic_list())"
        },
        "r": {
          "delete_cmd_postfix": ") ",
          "delete_cmd_prefix": "rm(",
          "library": "var_list.r",
          "varRefreshCmd": "cat(var_dic_list()) "
        }
      },
      "types_to_exclude": [
        "module",
        "function",
        "builtin_function_or_method",
        "instance",
        "_Feature"
      ],
      "window_display": false
    }
  },
  "cells": [
    {
      "cell_type": "code",
      "metadata": {
        "id": "GKlUVRfGF4j3"
      },
      "source": [
        "# Dependencies\n",
        "import pandas as pd \n",
        "import numpy as np \n",
        "\n",
        "from time import time\n",
        "\n",
        "import warnings\n",
        "warnings.filterwarnings(\"ignore\")"
      ],
      "execution_count": 2,
      "outputs": []
    },
    {
      "cell_type": "code",
      "metadata": {
        "colab": {
          "base_uri": "https://localhost:8080/",
          "height": 547
        },
        "id": "qnI0zdY5NYCJ",
        "outputId": "b507dee0-be77-44e0-ef06-92f12799dde5"
      },
      "source": [
        "# Read in data from S3 Buckets\n",
        "# url = \"https://job-postings-dataviz.s3.amazonaws.com/fake_jobs_clean.csv\"\n",
        "# df = pd.read_csv(url, sep=\",\",  encoding = \"UTF-8\" )\n",
        "# Read data from ../assets/data/\n",
        "# df = pd.read_csv(\"../assets/data/fake_jobs_clean.csv\",sep=\",\",  encoding = \"UTF-8\")\n",
        "# Read data imported to the drive to use in Colab\n",
        "df = pd.read_csv(\"/content/fake_jobs_clean.csv\", encoding = \"UTF-8\")\n",
        "df.head()"
      ],
      "execution_count": 12,
      "outputs": [
        {
          "output_type": "execute_result",
          "data": {
            "text/html": [
              "<div>\n",
              "<style scoped>\n",
              "    .dataframe tbody tr th:only-of-type {\n",
              "        vertical-align: middle;\n",
              "    }\n",
              "\n",
              "    .dataframe tbody tr th {\n",
              "        vertical-align: top;\n",
              "    }\n",
              "\n",
              "    .dataframe thead th {\n",
              "        text-align: right;\n",
              "    }\n",
              "</style>\n",
              "<table border=\"1\" class=\"dataframe\">\n",
              "  <thead>\n",
              "    <tr style=\"text-align: right;\">\n",
              "      <th></th>\n",
              "      <th>job_id</th>\n",
              "      <th>city</th>\n",
              "      <th>state/province</th>\n",
              "      <th>country</th>\n",
              "      <th>title</th>\n",
              "      <th>department</th>\n",
              "      <th>industry</th>\n",
              "      <th>function</th>\n",
              "      <th>salary_range</th>\n",
              "      <th>salary_provided</th>\n",
              "      <th>company_profile</th>\n",
              "      <th>description</th>\n",
              "      <th>requirements</th>\n",
              "      <th>benefits</th>\n",
              "      <th>benefits_provided</th>\n",
              "      <th>telecommuting</th>\n",
              "      <th>has_company_logo</th>\n",
              "      <th>has_questions</th>\n",
              "      <th>employment_type</th>\n",
              "      <th>required_experience</th>\n",
              "      <th>required_education</th>\n",
              "      <th>fraudulent</th>\n",
              "    </tr>\n",
              "  </thead>\n",
              "  <tbody>\n",
              "    <tr>\n",
              "      <th>0</th>\n",
              "      <td>1</td>\n",
              "      <td>New York</td>\n",
              "      <td>NY</td>\n",
              "      <td>US</td>\n",
              "      <td>Marketing Intern</td>\n",
              "      <td>Marketing</td>\n",
              "      <td>NaN</td>\n",
              "      <td>Marketing</td>\n",
              "      <td>NaN</td>\n",
              "      <td>0</td>\n",
              "      <td>We're Food52, and we've created a groundbreaki...</td>\n",
              "      <td>Food52, a fast-growing, James Beard Award-winn...</td>\n",
              "      <td>Experience with content management systems a m...</td>\n",
              "      <td>NaN</td>\n",
              "      <td>0</td>\n",
              "      <td>0</td>\n",
              "      <td>1</td>\n",
              "      <td>0</td>\n",
              "      <td>Other</td>\n",
              "      <td>Internship</td>\n",
              "      <td>NaN</td>\n",
              "      <td>0</td>\n",
              "    </tr>\n",
              "    <tr>\n",
              "      <th>1</th>\n",
              "      <td>2</td>\n",
              "      <td>Auckland</td>\n",
              "      <td></td>\n",
              "      <td>NZ</td>\n",
              "      <td>Customer Service - Cloud Video Production</td>\n",
              "      <td>Success</td>\n",
              "      <td>Marketing and Advertising</td>\n",
              "      <td>Customer Service</td>\n",
              "      <td>NaN</td>\n",
              "      <td>0</td>\n",
              "      <td>90 Seconds, the worlds Cloud Video Production ...</td>\n",
              "      <td>Organised - Focused - Vibrant - Awesome!Do you...</td>\n",
              "      <td>What we expect from you:Your key responsibilit...</td>\n",
              "      <td>What you will get from usThrough being part of...</td>\n",
              "      <td>1</td>\n",
              "      <td>0</td>\n",
              "      <td>1</td>\n",
              "      <td>0</td>\n",
              "      <td>Full-time</td>\n",
              "      <td>Not Applicable</td>\n",
              "      <td>NaN</td>\n",
              "      <td>0</td>\n",
              "    </tr>\n",
              "    <tr>\n",
              "      <th>2</th>\n",
              "      <td>3</td>\n",
              "      <td>Wever</td>\n",
              "      <td>IA</td>\n",
              "      <td>US</td>\n",
              "      <td>Commissioning Machinery Assistant (CMA)</td>\n",
              "      <td>NaN</td>\n",
              "      <td>NaN</td>\n",
              "      <td>NaN</td>\n",
              "      <td>NaN</td>\n",
              "      <td>0</td>\n",
              "      <td>Valor Services provides Workforce Solutions th...</td>\n",
              "      <td>Our client, located in Houston, is actively se...</td>\n",
              "      <td>Implement pre-commissioning and commissioning ...</td>\n",
              "      <td>NaN</td>\n",
              "      <td>0</td>\n",
              "      <td>0</td>\n",
              "      <td>1</td>\n",
              "      <td>0</td>\n",
              "      <td>NaN</td>\n",
              "      <td>NaN</td>\n",
              "      <td>NaN</td>\n",
              "      <td>0</td>\n",
              "    </tr>\n",
              "    <tr>\n",
              "      <th>3</th>\n",
              "      <td>4</td>\n",
              "      <td>Washington</td>\n",
              "      <td>DC</td>\n",
              "      <td>US</td>\n",
              "      <td>Account Executive - Washington DC</td>\n",
              "      <td>Sales</td>\n",
              "      <td>Computer Software</td>\n",
              "      <td>Sales</td>\n",
              "      <td>NaN</td>\n",
              "      <td>0</td>\n",
              "      <td>Our passion for improving quality of life thro...</td>\n",
              "      <td>THE COMPANY: ESRI – Environmental Systems Rese...</td>\n",
              "      <td>EDUCATION: Bachelor’s or Master’s in GIS, busi...</td>\n",
              "      <td>Our culture is anything but corporate—we have ...</td>\n",
              "      <td>1</td>\n",
              "      <td>0</td>\n",
              "      <td>1</td>\n",
              "      <td>0</td>\n",
              "      <td>Full-time</td>\n",
              "      <td>Mid-Senior level</td>\n",
              "      <td>Bachelor's Degree</td>\n",
              "      <td>0</td>\n",
              "    </tr>\n",
              "    <tr>\n",
              "      <th>4</th>\n",
              "      <td>5</td>\n",
              "      <td>Fort Worth</td>\n",
              "      <td>FL</td>\n",
              "      <td>US</td>\n",
              "      <td>Bill Review Manager</td>\n",
              "      <td>NaN</td>\n",
              "      <td>Hospital &amp; Health Care</td>\n",
              "      <td>Health Care Provider</td>\n",
              "      <td>NaN</td>\n",
              "      <td>0</td>\n",
              "      <td>SpotSource Solutions LLC is a Global Human Cap...</td>\n",
              "      <td>JOB TITLE: Itemization Review ManagerLOCATION:...</td>\n",
              "      <td>QUALIFICATIONS:RN license in the State of Texa...</td>\n",
              "      <td>Full Benefits Offered</td>\n",
              "      <td>1</td>\n",
              "      <td>0</td>\n",
              "      <td>1</td>\n",
              "      <td>1</td>\n",
              "      <td>Full-time</td>\n",
              "      <td>Mid-Senior level</td>\n",
              "      <td>Bachelor's Degree</td>\n",
              "      <td>0</td>\n",
              "    </tr>\n",
              "  </tbody>\n",
              "</table>\n",
              "</div>"
            ],
            "text/plain": [
              "   job_id         city  ... required_education fraudulent\n",
              "0       1     New York  ...                NaN          0\n",
              "1       2     Auckland  ...                NaN          0\n",
              "2       3        Wever  ...                NaN          0\n",
              "3       4   Washington  ...  Bachelor's Degree          0\n",
              "4       5   Fort Worth  ...  Bachelor's Degree          0\n",
              "\n",
              "[5 rows x 22 columns]"
            ]
          },
          "metadata": {
            "tags": []
          },
          "execution_count": 12
        }
      ]
    },
    {
      "cell_type": "code",
      "metadata": {
        "colab": {
          "base_uri": "https://localhost:8080/",
          "height": 204
        },
        "id": "XXYl4Sb5yXEW",
        "outputId": "257e1859-24bd-4b79-df71-9be7de4fde15"
      },
      "source": [
        "# Focus only on the job description. Create a dataFrame with label \"fraudulent\" and \"description\"\n",
        "descrip_df =df [['fraudulent','description']]\n",
        "descrip_df.head()"
      ],
      "execution_count": 13,
      "outputs": [
        {
          "output_type": "execute_result",
          "data": {
            "text/html": [
              "<div>\n",
              "<style scoped>\n",
              "    .dataframe tbody tr th:only-of-type {\n",
              "        vertical-align: middle;\n",
              "    }\n",
              "\n",
              "    .dataframe tbody tr th {\n",
              "        vertical-align: top;\n",
              "    }\n",
              "\n",
              "    .dataframe thead th {\n",
              "        text-align: right;\n",
              "    }\n",
              "</style>\n",
              "<table border=\"1\" class=\"dataframe\">\n",
              "  <thead>\n",
              "    <tr style=\"text-align: right;\">\n",
              "      <th></th>\n",
              "      <th>fraudulent</th>\n",
              "      <th>description</th>\n",
              "    </tr>\n",
              "  </thead>\n",
              "  <tbody>\n",
              "    <tr>\n",
              "      <th>0</th>\n",
              "      <td>0</td>\n",
              "      <td>Food52, a fast-growing, James Beard Award-winn...</td>\n",
              "    </tr>\n",
              "    <tr>\n",
              "      <th>1</th>\n",
              "      <td>0</td>\n",
              "      <td>Organised - Focused - Vibrant - Awesome!Do you...</td>\n",
              "    </tr>\n",
              "    <tr>\n",
              "      <th>2</th>\n",
              "      <td>0</td>\n",
              "      <td>Our client, located in Houston, is actively se...</td>\n",
              "    </tr>\n",
              "    <tr>\n",
              "      <th>3</th>\n",
              "      <td>0</td>\n",
              "      <td>THE COMPANY: ESRI – Environmental Systems Rese...</td>\n",
              "    </tr>\n",
              "    <tr>\n",
              "      <th>4</th>\n",
              "      <td>0</td>\n",
              "      <td>JOB TITLE: Itemization Review ManagerLOCATION:...</td>\n",
              "    </tr>\n",
              "  </tbody>\n",
              "</table>\n",
              "</div>"
            ],
            "text/plain": [
              "   fraudulent                                        description\n",
              "0           0  Food52, a fast-growing, James Beard Award-winn...\n",
              "1           0  Organised - Focused - Vibrant - Awesome!Do you...\n",
              "2           0  Our client, located in Houston, is actively se...\n",
              "3           0  THE COMPANY: ESRI – Environmental Systems Rese...\n",
              "4           0  JOB TITLE: Itemization Review ManagerLOCATION:..."
            ]
          },
          "metadata": {
            "tags": []
          },
          "execution_count": 13
        }
      ]
    },
    {
      "cell_type": "code",
      "metadata": {
        "colab": {
          "base_uri": "https://localhost:8080/"
        },
        "id": "snvFNqMWy_EJ",
        "outputId": "104d59a8-f7cd-42fc-c121-58c0143cf095"
      },
      "source": [
        "# Drop NaN values but dropping duplicates is questionable\n",
        "print(len(descrip_df))\n",
        "descrip_df = descrip_df.dropna()\n",
        "print(len(descrip_df))"
      ],
      "execution_count": 17,
      "outputs": [
        {
          "output_type": "stream",
          "text": [
            "17879\n",
            "17879\n"
          ],
          "name": "stdout"
        }
      ]
    },
    {
      "cell_type": "code",
      "metadata": {
        "colab": {
          "base_uri": "https://localhost:8080/"
        },
        "id": "53oGxvm9bmTh",
        "outputId": "28ffc576-8259-451d-e175-0bcbdc2ff94c"
      },
      "source": [
        "# We are considering that these duplicates are real data and contribute to both classes\n",
        "# descripduplicates_df = descrip_df.drop_duplicates()\n",
        "# print(descripduplicates_df.count())"
      ],
      "execution_count": 16,
      "outputs": [
        {
          "output_type": "stream",
          "text": [
            "fraudulent     14802\n",
            "description    14802\n",
            "dtype: int64\n"
          ],
          "name": "stdout"
        }
      ]
    },
    {
      "cell_type": "code",
      "metadata": {
        "colab": {
          "base_uri": "https://localhost:8080/"
        },
        "id": "y0X2zMMb-nel",
        "outputId": "35e75584-8414-4e99-a215-2bbd783be453"
      },
      "source": [
        "# Make sure number of real vs fraudulent are more balanced (1:5)\n",
        "df_fake= descrip_df[descrip_df['fraudulent'] == 1] \n",
        "df_real = descrip_df[descrip_df['fraudulent'] == 0] \n",
        "# Count how many Real vs Fraudulent postings\n",
        "n_f=len(df_fake)\n",
        "n_n=len(df_real)\n",
        "print(n_f)\n",
        "print(n_n)"
      ],
      "execution_count": 18,
      "outputs": [
        {
          "output_type": "stream",
          "text": [
            "865\n",
            "17014\n"
          ],
          "name": "stdout"
        }
      ]
    },
    {
      "cell_type": "markdown",
      "metadata": {
        "id": "e9xMjAiMXGXN"
      },
      "source": [
        "Create a more balanced data set (1:5 fake to real) It is still understimating the real jobs"
      ]
    },
    {
      "cell_type": "code",
      "metadata": {
        "colab": {
          "base_uri": "https://localhost:8080/"
        },
        "id": "jxHYA8O2U3mP",
        "outputId": "cd15545f-4e19-4bab-f751-f4b5563d16f6"
      },
      "source": [
        "df_new= df_real.sample  ( 5*n_f  , random_state=580)\n",
        "df_unders = df_new.append(df_fake)\n",
        "print(len(df_new))\n",
        "print(len(df_unders))"
      ],
      "execution_count": 20,
      "outputs": [
        {
          "output_type": "stream",
          "text": [
            "4325\n",
            "5190\n"
          ],
          "name": "stdout"
        }
      ]
    },
    {
      "cell_type": "code",
      "metadata": {
        "id": "R68dml7fs9QU"
      },
      "source": [
        "# Shuffle the understimate dataframe so \"fraudulent\" postings are more evenly distributed \n",
        "df_underst = df_unders.sample(len(df_unders), random_state=580) \n",
        "# df_underst.head(20)\n",
        "X= df_underst.iloc[:,1].values\n",
        "y=df_underst.iloc[:,0].values"
      ],
      "execution_count": 21,
      "outputs": []
    },
    {
      "cell_type": "markdown",
      "metadata": {
        "id": "od7Qj0sxNYCW"
      },
      "source": [
        "### Feature Transformations (Term Frequency times inverse document frequency)\n"
      ]
    },
    {
      "cell_type": "code",
      "metadata": {
        "id": "59dwxefsNYCX"
      },
      "source": [
        "# feature extraction using \"bag of words\" model. Create feature vectors, remove stop words and built inverse frequncies\n",
        "from sklearn import preprocessing\n",
        "from sklearn.feature_extraction.text import CountVectorizer, TfidfTransformer\n",
        "\n",
        "# import nltk\n",
        "# nltk.download('stopwords')\n",
        "\n",
        "from nltk.corpus import stopwords\n",
        "STOPWORDS = set(stopwords.words('english'))\n",
        "\n",
        "count_vectorizer = CountVectorizer( stop_words=stopwords.words('english'))\n",
        "tfidfconverter = TfidfTransformer()"
      ],
      "execution_count": 25,
      "outputs": []
    },
    {
      "cell_type": "code",
      "metadata": {
        "id": "mm6PeiIraUsz"
      },
      "source": [
        "X_c = count_vectorizer.fit_transform(X)\n",
        "X_tfidf = tfidfconverter.fit_transform(X_c).toarray()"
      ],
      "execution_count": 26,
      "outputs": []
    },
    {
      "cell_type": "markdown",
      "metadata": {
        "id": "7i5UO0V7Jjtv"
      },
      "source": [
        "Create a Naive Bayes Model  "
      ]
    },
    {
      "cell_type": "code",
      "metadata": {
        "id": "t_UhbYQQTQM8"
      },
      "source": [
        "# Break the data in train and test datasets\n",
        "from sklearn.model_selection import train_test_split\n",
        "\n",
        "X_train, X_test, y_train, y_test = train_test_split(X_tfidf, y, random_state=580, stratify=y)"
      ],
      "execution_count": 27,
      "outputs": []
    },
    {
      "cell_type": "markdown",
      "metadata": {
        "id": "qHJTkq4sRbVd"
      },
      "source": [
        "Multinomial Naive Bayes"
      ]
    },
    {
      "cell_type": "code",
      "metadata": {
        "colab": {
          "base_uri": "https://localhost:8080/"
        },
        "id": "2J8yDALH_iz-",
        "outputId": "1aa3d570-767d-4d53-8fb4-65e40886adc9"
      },
      "source": [
        "# Create a Naive Bayes model and fit training data\n",
        "from sklearn.naive_bayes import ComplementNB\n",
        "\n",
        "c_nb = ComplementNB(alpha= 0.8)\n",
        "\n",
        "t1_start = time()\n",
        "predictor = c_nb.fit(X_train,y_train)\n",
        "t1_stop = time() \n",
        "print(\"Elapsed time:\", t1_stop, t1_start)   \n",
        "print(f'Elapsed time during the whole program in seconds:',t1_stop-t1_start)"
      ],
      "execution_count": 29,
      "outputs": [
        {
          "output_type": "stream",
          "text": [
            "Elapsed time: 1616005883.4763215 1616005882.9537206\n",
            "Elapsed time during the whole program in seconds: 0.5226008892059326\n"
          ],
          "name": "stdout"
        }
      ]
    },
    {
      "cell_type": "code",
      "metadata": {
        "id": "zeckHhg5NYCv"
      },
      "source": [
        "# Tranform the model with the testing data\n",
        "test_results = predictor.predict(X_test)"
      ],
      "execution_count": 30,
      "outputs": []
    },
    {
      "cell_type": "code",
      "metadata": {
        "colab": {
          "base_uri": "https://localhost:8080/"
        },
        "id": "BgbPjAGq_xqk",
        "outputId": "dce217c5-bc3e-4ffb-8949-f7f0eb8ac843"
      },
      "source": [
        "from sklearn.metrics import classification_report\n",
        "\n",
        "print(classification_report(y_test, test_results,\n",
        "                            target_names= [\"real\", \"fake\"]))"
      ],
      "execution_count": 31,
      "outputs": [
        {
          "output_type": "stream",
          "text": [
            "              precision    recall  f1-score   support\n",
            "\n",
            "        real       0.87      0.99      0.93      1082\n",
            "        fake       0.84      0.26      0.40       216\n",
            "\n",
            "    accuracy                           0.87      1298\n",
            "   macro avg       0.85      0.63      0.66      1298\n",
            "weighted avg       0.87      0.87      0.84      1298\n",
            "\n"
          ],
          "name": "stdout"
        }
      ]
    },
    {
      "cell_type": "markdown",
      "metadata": {
        "id": "W0ioNook_1kU"
      },
      "source": [
        "Save the model "
      ]
    },
    {
      "cell_type": "code",
      "metadata": {
        "colab": {
          "base_uri": "https://localhost:8080/",
          "height": 122
        },
        "id": "TxM-59g__x6s",
        "outputId": "a6884258-245d-4aab-89db-1bac630bb17d"
      },
      "source": [
        "# save the model\n",
        "from google.colab import drive\n",
        "drive.mount('/content/drive')\n"
      ],
      "execution_count": null,
      "outputs": [
        {
          "output_type": "stream",
          "text": [
            "Go to this URL in a browser: https://accounts.google.com/o/oauth2/auth?client_id=947318989803-6bn6qk8qdgf4n4g3pfee6491hc0brc4i.apps.googleusercontent.com&redirect_uri=urn%3aietf%3awg%3aoauth%3a2.0%3aoob&response_type=code&scope=email%20https%3a%2f%2fwww.googleapis.com%2fauth%2fdocs.test%20https%3a%2f%2fwww.googleapis.com%2fauth%2fdrive%20https%3a%2f%2fwww.googleapis.com%2fauth%2fdrive.photos.readonly%20https%3a%2f%2fwww.googleapis.com%2fauth%2fpeopleapi.readonly\n",
            "\n",
            "Enter your authorization code:\n",
            "··········\n",
            "Mounted at /content/drive\n"
          ],
          "name": "stdout"
        }
      ]
    },
    {
      "cell_type": "code",
      "metadata": {
        "colab": {
          "base_uri": "https://localhost:8080/",
          "height": 34
        },
        "id": "CTukjCmgSF88",
        "outputId": "901dd911-1451-4fa8-dfe7-56cd9e829b45"
      },
      "source": [
        "# Save to the model to the local drive\n",
        "\n",
        "from sklearn.externals import joblib\n",
        "\n",
        "filename = '/content/drive/My Drive/NB_under.h5'\n",
        "joblib.dump(predictor, filename)"
      ],
      "execution_count": null,
      "outputs": [
        {
          "output_type": "execute_result",
          "data": {
            "text/plain": [
              "['/content/drive/My Drive/NB_under.h5']"
            ]
          },
          "metadata": {
            "tags": []
          },
          "execution_count": 100
        }
      ]
    },
    {
      "cell_type": "code",
      "metadata": {
        "id": "bvQkCr8TEUlm"
      },
      "source": [
        "# Load the model\n",
        "loaded_model= joblib.load(filename)\n",
        "predictionsl = loaded_model.predict(X_test)\n"
      ],
      "execution_count": null,
      "outputs": []
    },
    {
      "cell_type": "code",
      "metadata": {
        "colab": {
          "base_uri": "https://localhost:8080/"
        },
        "id": "DAQ-G0HFhLvs",
        "outputId": "8ddd09b3-71f3-4860-9418-3209a9b85a4b"
      },
      "source": [
        "print(classification_report(y_test, test_results,\n",
        "                            target_names= [\"real\", \"fake\"]))"
      ],
      "execution_count": 32,
      "outputs": [
        {
          "output_type": "stream",
          "text": [
            "              precision    recall  f1-score   support\n",
            "\n",
            "        real       0.87      0.99      0.93      1082\n",
            "        fake       0.84      0.26      0.40       216\n",
            "\n",
            "    accuracy                           0.87      1298\n",
            "   macro avg       0.85      0.63      0.66      1298\n",
            "weighted avg       0.87      0.87      0.84      1298\n",
            "\n"
          ],
          "name": "stdout"
        }
      ]
    }
  ]
}